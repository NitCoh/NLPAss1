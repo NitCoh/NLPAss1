{
  "nbformat": 4,
  "nbformat_minor": 0,
  "metadata": {
    "kernelspec": {
      "display_name": "Python 3",
      "language": "python",
      "name": "python3"
    },
    "language_info": {
      "codemirror_mode": {
        "name": "ipython",
        "version": 3
      },
      "file_extension": ".py",
      "mimetype": "text/x-python",
      "name": "python",
      "nbconvert_exporter": "python",
      "pygments_lexer": "ipython3",
      "version": "3.5.3+"
    },
    "colab": {
      "name": "part1.ipynb",
      "provenance": []
    }
  },
  "cells": [
    {
      "cell_type": "code",
      "metadata": {
        "id": "CmdROlJJNtLk",
        "colab_type": "code",
        "outputId": "9392237b-fe12-4c88-afc8-e46bb3343cc8",
        "colab": {
          "base_uri": "https://localhost:8080/",
          "height": 119
        }
      },
      "source": [
        "!pip install justext"
      ],
      "execution_count": 1,
      "outputs": [
        {
          "output_type": "stream",
          "text": [
            "Collecting justext\n",
            "\u001b[?25l  Downloading https://files.pythonhosted.org/packages/6c/5f/c7b909b4b864ebcacfac23ce2f6f01a50c53628787cc14b3c06f79464cab/jusText-2.2.0-py2.py3-none-any.whl (860kB)\n",
            "\u001b[K     |████████████████████████████████| 870kB 2.7MB/s \n",
            "\u001b[?25hRequirement already satisfied: lxml>=2.2.4 in /usr/local/lib/python3.6/dist-packages (from justext) (4.2.6)\n",
            "Installing collected packages: justext\n",
            "Successfully installed justext-2.2.0\n"
          ],
          "name": "stdout"
        }
      ]
    },
    {
      "cell_type": "code",
      "metadata": {
        "id": "qWh_5rVkOyMl",
        "colab_type": "code",
        "colab": {}
      },
      "source": [
        "import numpy as np\n",
        "import nltk\n",
        "import justext\n",
        "import re\n",
        "from nltk.tokenize import sent_tokenize\n",
        "import collections"
      ],
      "execution_count": 0,
      "outputs": []
    },
    {
      "cell_type": "code",
      "metadata": {
        "id": "IQ8c3aHnlDx5",
        "colab_type": "code",
        "outputId": "9a3ecc9b-effc-4557-b153-d0bce9e40fb5",
        "colab": {
          "base_uri": "https://localhost:8080/",
          "height": 68
        }
      },
      "source": [
        "nltk.download('punkt')"
      ],
      "execution_count": 3,
      "outputs": [
        {
          "output_type": "stream",
          "text": [
            "[nltk_data] Downloading package punkt to /root/nltk_data...\n",
            "[nltk_data]   Unzipping tokenizers/punkt.zip.\n"
          ],
          "name": "stdout"
        },
        {
          "output_type": "execute_result",
          "data": {
            "text/plain": [
              "True"
            ]
          },
          "metadata": {
            "tags": []
          },
          "execution_count": 3
        }
      ]
    },
    {
      "cell_type": "markdown",
      "metadata": {
        "id": "bo6kW-6tyCPg",
        "colab_type": "text"
      },
      "source": [
        "1.1.1"
      ]
    },
    {
      "cell_type": "code",
      "metadata": {
        "id": "-eDGnqmpRq9z",
        "colab_type": "code",
        "colab": {}
      },
      "source": [
        "def top_txt(txt,top):\n",
        "  most_common_words = [word for (word,f) in collections.Counter(txt).most_common(top)]\n",
        "  return ''.join([word if word in most_common_words or word=='N' else '<unk>' for word in txt])\n",
        "def replace_numbers(txt):\n",
        "  #TODO:: Check replace numbers RegEx.\n",
        "  num_format = re.compile(\"^[\\-]?[1-9][0-9]*\\.?[0-9]+$\")\n",
        "  return \"\".join([word if not re.match(num_format,word) else 'N' for word in txt])\n",
        "def remove_punc(txt):\n",
        "  without_punc = \"\".join([ c if c not in '.,:;?!@#*&%$<>' else '' for c in txt])\n",
        "  return without_punc.replace(\"  \",\" \")\n",
        "def tokenize(txt):\n",
        "  return \" \".join(nltk.word_tokenize(txt))\n",
        "def segment_sents(txt):\n",
        "  return \"\\n\".join(nltk.sent_tokenize(txt))\n",
        "def lower_txt(txt):\n",
        "  return txt.lower()"
      ],
      "execution_count": 0,
      "outputs": []
    },
    {
      "cell_type": "code",
      "metadata": {
        "id": "P2KptyAiOyM4",
        "colab_type": "code",
        "colab": {}
      },
      "source": [
        "def ptb_preprocess(filenames, top=10000):\n",
        "  for filename in filenames:\n",
        "    with open(filename) as myfile:\n",
        "      \n",
        "\n",
        "      txt_file =  myfile.read().replace('\\n',' ')\n",
        "      paragraphs = justext.justext(txt_file, justext.get_stoplist(\"English\"))\n",
        "      raw_text = \"\\n\".join([p.text for p in paragraphs if not p.is_boilerplate])\n",
        "\n",
        "\n",
        "      # raw_text = lower_txt(raw_text)\n",
        "      # raw_text = segment_sents(raw_text)\n",
        "      # print('segment_sents')\n",
        "      # print(raw_text[:200])\n",
        "      # raw_text = remove_punc(raw_text)\n",
        "      # print('remove_punkt')\n",
        "      # print(raw_text[:200])\n",
        "      # raw_text = tokenize(raw_text)\n",
        "      # print('tokenize')\n",
        "      # print(raw_text[:200])\n",
        "      # raw_text = replace_numbers(raw_text)\n",
        "      # print('replace_numbers')\n",
        "      # print(raw_text[:200])\n",
        "      # raw_text = top_txt(raw_text,top)\n",
        "      # print('top_txt')\n",
        "      # print(raw_text[:200])\n",
        "\n",
        "      raw_text = top_txt(raw_text,top)\n",
        "      raw_text = replace_numbers(raw_text)\n",
        "      raw_text = tokenize(raw_text)\n",
        "      raw_text = segment_sents(raw_text)\n",
        "      raw_text = remove_punc(raw_text)\n",
        "      raw_text = lower_txt(raw_text)\n",
        "      \n",
        "      \n",
        "      new_filename = filename+'.out'\n",
        "      #print(new_filename)\n",
        "      with open(new_filename, \"w\") as text_file:\n",
        "        text_file.write(raw_text)\n",
        "\n"
      ],
      "execution_count": 0,
      "outputs": []
    },
    {
      "cell_type": "code",
      "metadata": {
        "id": "XNWfFRBhQCz2",
        "colab_type": "code",
        "outputId": "78183567-e0e2-4495-da78-0e61ecb8f9c3",
        "colab": {
          "base_uri": "https://localhost:8080/",
          "height": 204
        }
      },
      "source": [
        "!wget https://cs.stanford.edu/people/karpathy/char-rnn/shakespeare_input.txt "
      ],
      "execution_count": 6,
      "outputs": [
        {
          "output_type": "stream",
          "text": [
            "--2019-12-22 20:18:51--  https://cs.stanford.edu/people/karpathy/char-rnn/shakespeare_input.txt\n",
            "Resolving cs.stanford.edu (cs.stanford.edu)... 171.64.64.64\n",
            "Connecting to cs.stanford.edu (cs.stanford.edu)|171.64.64.64|:443... connected.\n",
            "HTTP request sent, awaiting response... 200 OK\n",
            "Length: 4573338 (4.4M) [text/plain]\n",
            "Saving to: ‘shakespeare_input.txt’\n",
            "\n",
            "shakespeare_input.t 100%[===================>]   4.36M  3.78MB/s    in 1.2s    \n",
            "\n",
            "2019-12-22 20:18:53 (3.78 MB/s) - ‘shakespeare_input.txt’ saved [4573338/4573338]\n",
            "\n"
          ],
          "name": "stdout"
        }
      ]
    },
    {
      "cell_type": "markdown",
      "metadata": {
        "id": "Ts1OWn9yE5hx",
        "colab_type": "text"
      },
      "source": [
        "1.1.1 Discussion: According to the descripted above if we apply the conventions of Penn Treebank, we shall give independent meaning for every word after the tokenization. Also, if we use character-level language model, we shall get another definition - morphological, because now we care about structure of the word."
      ]
    },
    {
      "cell_type": "markdown",
      "metadata": {
        "id": "B1twpt96H3Ja",
        "colab_type": "text"
      },
      "source": [
        "1.1.2 :"
      ]
    },
    {
      "cell_type": "code",
      "metadata": {
        "id": "kl1uQDDlH55T",
        "colab_type": "code",
        "outputId": "998d13a9-efc2-487f-ba07-03aaf0fea66a",
        "colab": {
          "base_uri": "https://localhost:8080/",
          "height": 1000
        }
      },
      "source": [
        "!wget http://www.fit.vutbr.cz/~imikolov/rnnlm/simple-examples.tgz\n",
        "!tar zxvf simple-examples.tgz\n",
        "\n",
        "!ls simple-examples/data\n",
        "!mv ./simple-examples/data ../data"
      ],
      "execution_count": 7,
      "outputs": [
        {
          "output_type": "stream",
          "text": [
            "--2019-12-22 20:18:55--  http://www.fit.vutbr.cz/~imikolov/rnnlm/simple-examples.tgz\n",
            "Resolving www.fit.vutbr.cz (www.fit.vutbr.cz)... 147.229.9.23, 2001:67c:1220:809::93e5:917\n",
            "Connecting to www.fit.vutbr.cz (www.fit.vutbr.cz)|147.229.9.23|:80... connected.\n",
            "HTTP request sent, awaiting response... 200 OK\n",
            "Length: 34869662 (33M) [application/x-gtar]\n",
            "Saving to: ‘simple-examples.tgz’\n",
            "\n",
            "simple-examples.tgz 100%[===================>]  33.25M  1.67MB/s    in 22s     \n",
            "\n",
            "2019-12-22 20:19:19 (1.50 MB/s) - ‘simple-examples.tgz’ saved [34869662/34869662]\n",
            "\n",
            "./\n",
            "./simple-examples/\n",
            "./simple-examples/data/\n",
            "./simple-examples/data/ptb.test.txt\n",
            "./simple-examples/data/ptb.train.txt\n",
            "./simple-examples/data/ptb.valid.txt\n",
            "./simple-examples/data/README\n",
            "./simple-examples/data/ptb.char.train.txt\n",
            "./simple-examples/data/ptb.char.test.txt\n",
            "./simple-examples/data/ptb.char.valid.txt\n",
            "./simple-examples/models/\n",
            "./simple-examples/models/swb.ngram.model\n",
            "./simple-examples/models/swb.rnn.model\n",
            "./simple-examples/models/README\n",
            "./simple-examples/rnnlm-0.2b/\n",
            "./simple-examples/rnnlm-0.2b/CHANGE.log\n",
            "./simple-examples/rnnlm-0.2b/FAQ.txt\n",
            "./simple-examples/rnnlm-0.2b/convert.c\n",
            "./simple-examples/rnnlm-0.2b/makefile\n",
            "./simple-examples/rnnlm-0.2b/rnnlm.cpp\n",
            "./simple-examples/rnnlm-0.2b/rnnlmlib.cpp\n",
            "./simple-examples/rnnlm-0.2b/rnnlmlib.h\n",
            "./simple-examples/rnnlm-0.2b/prob.c\n",
            "./simple-examples/rnnlm-0.2b/test\n",
            "./simple-examples/rnnlm-0.2b/train\n",
            "./simple-examples/rnnlm-0.2b/valid\n",
            "./simple-examples/rnnlm-0.2b/example.sh\n",
            "./simple-examples/rnnlm-0.2b/example.output\n",
            "./simple-examples/rnnlm-0.2b/COPYRIGHT.txt\n",
            "./simple-examples/1-train/\n",
            "./simple-examples/1-train/train.sh\n",
            "./simple-examples/1-train/test.sh\n",
            "./simple-examples/1-train/README\n",
            "./simple-examples/3-combination/\n",
            "./simple-examples/3-combination/train.sh\n",
            "./simple-examples/3-combination/test.sh\n",
            "./simple-examples/3-combination/README\n",
            "./simple-examples/2-nbest-rescore/\n",
            "./simple-examples/2-nbest-rescore/lattices/\n",
            "./simple-examples/2-nbest-rescore/lattices/AMI-3E0501_u3005_127040_127488.lat.gz\n",
            "./simple-examples/2-nbest-rescore/lattices/AMI-3E0501_u3005_127513_127835.lat.gz\n",
            "./simple-examples/2-nbest-rescore/lattices/AMI-3E0501_u3005_127865_128175.lat.gz\n",
            "./simple-examples/2-nbest-rescore/lattices/AMI-3E0501_u3005_128188_128447.lat.gz\n",
            "./simple-examples/2-nbest-rescore/lattices/AMI-3E0501_u3005_128490_129032.lat.gz\n",
            "./simple-examples/2-nbest-rescore/lattices/nbest.sh\n",
            "./simple-examples/2-nbest-rescore/lattices/nbest/\n",
            "./simple-examples/2-nbest-rescore/lattices/latlist\n",
            "./simple-examples/2-nbest-rescore/README\n",
            "./simple-examples/2-nbest-rescore/getbest.c\n",
            "./simple-examples/2-nbest-rescore/gettext.c\n",
            "./simple-examples/2-nbest-rescore/makenbest.c\n",
            "./simple-examples/2-nbest-rescore/makenbest\n",
            "./simple-examples/2-nbest-rescore/gettext\n",
            "./simple-examples/2-nbest-rescore/getbest\n",
            "./simple-examples/5-one-iter/\n",
            "./simple-examples/5-one-iter/test.sh\n",
            "./simple-examples/5-one-iter/train.sh\n",
            "./simple-examples/5-one-iter/README\n",
            "./simple-examples/6-recovery-during-training/\n",
            "./simple-examples/6-recovery-during-training/test.sh\n",
            "./simple-examples/6-recovery-during-training/train.sh\n",
            "./simple-examples/6-recovery-during-training/README\n",
            "./simple-examples/7-dynamic-evaluation/\n",
            "./simple-examples/7-dynamic-evaluation/test.sh\n",
            "./simple-examples/7-dynamic-evaluation/train.sh\n",
            "./simple-examples/7-dynamic-evaluation/README\n",
            "./simple-examples/temp/\n",
            "./simple-examples/8-direct/\n",
            "./simple-examples/8-direct/train.sh\n",
            "./simple-examples/8-direct/test.sh\n",
            "./simple-examples/8-direct/README\n",
            "./simple-examples/4-data-generation/\n",
            "./simple-examples/4-data-generation/train.sh\n",
            "./simple-examples/4-data-generation/test.sh\n",
            "./simple-examples/4-data-generation/README\n",
            "./simple-examples/9-char-based-lm/\n",
            "./simple-examples/9-char-based-lm/test.sh\n",
            "./simple-examples/9-char-based-lm/train.sh\n",
            "./simple-examples/9-char-based-lm/README\n",
            "ptb.char.test.txt   ptb.char.valid.txt\tptb.train.txt  README\n",
            "ptb.char.train.txt  ptb.test.txt\tptb.valid.txt\n"
          ],
          "name": "stdout"
        }
      ]
    },
    {
      "cell_type": "code",
      "metadata": {
        "id": "8VgRPhj407Tc",
        "colab_type": "code",
        "outputId": "4c6e107e-e079-448f-abca-efd5a4ad968d",
        "colab": {
          "base_uri": "https://localhost:8080/",
          "height": 34
        }
      },
      "source": [
        "!ls"
      ],
      "execution_count": 0,
      "outputs": [
        {
          "output_type": "stream",
          "text": [
            "sample_data  simple-examples  simple-examples.tgz\n"
          ],
          "name": "stdout"
        }
      ]
    },
    {
      "cell_type": "code",
      "metadata": {
        "id": "8u-G63oDV2MZ",
        "colab_type": "code",
        "outputId": "30dc362c-fb69-4df8-aac0-9be000e4a74c",
        "colab": {
          "base_uri": "https://localhost:8080/",
          "height": 34
        }
      },
      "source": [
        "len(set(remove_punc('hello, you, hello').split()))"
      ],
      "execution_count": 0,
      "outputs": [
        {
          "output_type": "execute_result",
          "data": {
            "text/plain": [
              "2"
            ]
          },
          "metadata": {
            "tags": []
          },
          "execution_count": 8
        }
      ]
    },
    {
      "cell_type": "code",
      "metadata": {
        "id": "2_9519iByOPy",
        "colab_type": "code",
        "colab": {}
      },
      "source": [
        "def num_token(txt):\n",
        "  txt = txt.lower()\n",
        "  return len(nltk.word_tokenize(txt))\n",
        "def num_char(txt):\n",
        "  return len(''.join(txt.split()))\n",
        "def dist_words(txt): #num of types\n",
        "  txt = txt.lower()\n",
        "  return len(set(remove_punc(txt).split()))\n",
        "def topN_words(txt,N):\n",
        "  most_common_words = ' '.join([word for (word,f) in collections.Counter(txt).most_common(N)])\n",
        "  return num_tokenize(most_common_words)\n",
        "def token_type_ratio(txt):\n",
        "  return num_token(txt)/dist_words(txt)\n",
        "\n",
        "def types_oov(txt_dev,txt_train): #Out Of Vocabulary \n",
        "    txt_dev = txt_dev.lower()\n",
        "    text_dev_set = set(remove_punc(txt_dev).split())\n",
        "    txt_train = txt_train.lower()\n",
        "    text_train_set = set(remove_punc(txt_train).split())\n",
        "    return len(tex_dev_set.difference(text_train_set))\n",
        "def avg_sd_char_token(txt):\n",
        "  total_chars = sum( [len(w) for w in nltk.word_tokenize(txt)])\n",
        "  avg =  total_chars/num_token(txt)\n",
        "\n",
        "  total_avg_chars = sum( [len(w)-avg for w in nltk.word_tokenize(txt)])\n",
        "  sd =  total_chars/num_token(txt)\n",
        "  return avg,sd\n",
        "\n",
        "def dist_n_gram_words(txt,n=[2,3,4]):\n",
        "  txt = txt.lower()\n",
        "  txt = nltk.word_tokenize(txt)\n",
        "  ans = {}\n",
        "  for i in n:\n",
        "    ans[i] = diff_grams(txt,i)\n",
        "  return ans\n",
        "\n",
        "def dist_n_gram_chars(txt,n=range(1,8)):\n",
        "  ans = {}\n",
        "  for i in n:\n",
        "    ans[i] = diff_grams(txt,i)\n",
        "  return ans\n",
        "\n",
        "def diff_grams(txt,n):\n",
        "  s = set()\n",
        "  gram = list(range(0,n))\n",
        "  while gram[-1]!=len(txt):\n",
        "    next_gram = tuple([txt[g] for g in gram])\n",
        "    s.add(next_gram)\n",
        "    gram = [g+1 for g in gram]\n",
        "  return len(s)"
      ],
      "execution_count": 0,
      "outputs": []
    },
    {
      "cell_type": "code",
      "metadata": {
        "id": "ceYy9o1urbi0",
        "colab_type": "code",
        "outputId": "2675dca3-6e51-4e6e-cef3-c3933ff0d3fa",
        "colab": {
          "base_uri": "https://localhost:8080/",
          "height": 34
        }
      },
      "source": [
        "# you need matplotlib version 1.4 or above\n",
        "import matplotlib.pyplot as plt\n",
        "import matplotlib\n",
        "print(matplotlib.__version__)\n",
        "%matplotlib inline\n",
        "def power_law_rule(corpus):\n",
        "  corpus = lower_txt(corpus)\n",
        "  corpus = tokenize(corpus)\n",
        "  plt.loglog([val for word,val in collections.Counter(corpus).most_common(4000)])\n",
        "  plt.xlabel('rank')\n",
        "  plt.ylabel('frequency');"
      ],
      "execution_count": 9,
      "outputs": [
        {
          "output_type": "stream",
          "text": [
            "3.1.2\n"
          ],
          "name": "stdout"
        }
      ]
    },
    {
      "cell_type": "code",
      "metadata": {
        "id": "BY9AIs-GKmGV",
        "colab_type": "code",
        "outputId": "69674932-809f-4703-e8e2-8278e1e3a69f",
        "colab": {
          "base_uri": "https://localhost:8080/",
          "height": 288
        }
      },
      "source": [
        "import os\n",
        "\n",
        "dir = '../data'\n",
        "for filename in os.listdir(dir):\n",
        "  with open(dir+'/'+ filename,'r') as file:\n",
        "      data = file.read()\n",
        "      power_law_rule(data)"
      ],
      "execution_count": 10,
      "outputs": [
        {
          "output_type": "display_data",
          "data": {
            "image/png": "[encoded data removed]",
            "text/plain": [
              "<Figure size 432x288 with 1 Axes>"
            ]
          },
          "metadata": {
            "tags": []
          }
        }
      ]
    },
    {
      "cell_type": "markdown",
      "metadata": {
        "id": "ikQJvQfnt6Ba",
        "colab_type": "text"
      },
      "source": [
        "1.2 n-gram Word Language Model"
      ]
    },
    {
      "cell_type": "code",
      "metadata": {
        "colab_type": "code",
        "id": "YzeX7KNdYhPL",
        "colab": {}
      },
      "source": [
        "#how to calculate the freq of h*w\n",
        "#how to calculate the freq of w.\n",
        "\n",
        "from collections import Counter,defaultdict\n",
        "import math\n",
        "from functools import reduce\n",
        "\n",
        "class LangModell:\n",
        "  def predict_next_word(self,prev_words):\n",
        "    pass\n",
        "  def evaluate_next_word(self,prev_word):\n",
        "    pass\n",
        "  \n",
        "class n_gram_model():\n",
        "  def __init__(self,gamma=0):\n",
        "    self.outlm = {}\n",
        "    self.freq_words = collections.Counter()\n",
        "    self.gamma = gamma\n",
        "\n",
        "  def train_model(self, dataset,n,pre_process):\n",
        "    lm = defaultdict(Counter)\n",
        "    if pre_process == True :\n",
        "      ptb_preprocess([dataset])\n",
        "    filename =  dataset if pre_process == False else dataset+'.out'\n",
        "    with open(filename) as file:\n",
        "      data = nltk.word_tokenize(file.read())\n",
        "    self.freq_words = collections.Counter(data)\n",
        "    n = n-1\n",
        "    pad = [\"~\"] * n\n",
        "    data = pad + data\n",
        "    for i in range(len(data)-n):\n",
        "        history, word = tuple(data[i:i+n]), data[i+n]\n",
        "        lm[history][word]+=1\n",
        "\n",
        "    def normalize(counter):\n",
        "\n",
        "       #(c+gamma)/(N+B*gamma) according to the lidstone estimator from the NLTK docs.\n",
        "      \n",
        "        N = float(sum(counter.values()))\n",
        "        B = len(counter)\n",
        "        return { word : c+self.gamma/(N+B*self.gamma) for word,c in counter.items()}\n",
        "\n",
        "    self.freq_words= {word:freq/len(data) for word,freq in self.freq_words.items()}\n",
        "    self.not_normalized_lm = lm\n",
        "    self.outlm = {hist:normalize(cntr) for hist, cntr in lm.items()}\n",
        "\n",
        "  def predict_next_word(self, prev_words):\n",
        "    possible_words =  self.outlm[tuple(nltk.word_tokenize(prev_words.lower()))]\n",
        "    next_word, prob = max(possible_words.items(), key=lambda x:x[1])\n",
        "    return next_word,prob\n",
        "\n",
        "  def evaluate_next_word(self, prev_words,next_word):\n",
        "    prev_words = tuple(nltk.word_tokenize(prev_words.lower()))\n",
        "    if prev_words in self.outlm:\n",
        "      counter = self.not_normalized_lm[prev_words]\n",
        "      N = float(sum(counter.values()))\n",
        "      B = len(counter)\n",
        "      c = self.not_normalized_lm[prev_words][next_word]\n",
        "      return (c+self.gamma)/(N+B*self.gamma) \n",
        "    return 0\n",
        "\n",
        "def perplexity(model,test_filename,pre_process=True,n=2):\n",
        "  if pre_process == True:\n",
        "    ptb_preprocess([test_filename])\n",
        "    filename = test_filename+'.out'\n",
        "  else:\n",
        "    filename=test_filename\n",
        "  with open(filename) as file:\n",
        "    data = nltk.word_tokenize(file.read())\n",
        "  answer = 1\n",
        "  print(\"Number of tested tokens :\", len(data))\n",
        "  for i in range(len(data) - (n+1)):\n",
        "    prev_words = ' '.join(data[i:i+n-1])\n",
        "    next_word = data[i+n-1]\n",
        "    eval = model.evaluate_next_word(prev_words,next_word)\n",
        "    #print(eval)\n",
        "    if eval!=0:\n",
        "      eval = (1/eval) **(1/len(data))\n",
        "      answer*= eval\n",
        "  return answer  \n",
        "\n",
        "def cross_entropy(model,test_filename,pre_process=True):\n",
        "  #TODO: validate how to calculate it\n",
        "  if pre_process == True:\n",
        "    ptb_preprocess([test_filename])\n",
        "    filename = test_filename+'.out'\n",
        "  else:\n",
        "    filename = test_filename\n",
        "  with open(filename) as file:\n",
        "    data = nltk.word_tokenize(file.read())\n",
        "  return sum( [math.log(model.freq_words[word],2)/len(data) for word in data] )\n",
        "\n",
        "def train_word_gen(dataset,n=2,gamma=0):\n",
        "  lm = n_gram_model(gamma=gamma)\n",
        "  lm.train_model(dataset,n,False)\n",
        "  return lm\n",
        "\n",
        "def train_word_lm(dataset,n=2):\n",
        "  lm = n_gram_model()\n",
        "  lm.train_model(dataset,n,False)\n",
        "  return lm"
      ],
      "execution_count": 0,
      "outputs": []
    },
    {
      "cell_type": "code",
      "metadata": {
        "id": "rJFllViIGOy0",
        "colab_type": "code",
        "outputId": "c912e4ce-dd14-4856-bae1-da0d934982dc",
        "colab": {
          "base_uri": "https://localhost:8080/",
          "height": 34
        }
      },
      "source": [
        "#Example:\n",
        "lm = train_word_lm('../data/ptb.train.txt')\n",
        "lm.predict_next_word('I')"
      ],
      "execution_count": 30,
      "outputs": [
        {
          "output_type": "execute_result",
          "data": {
            "text/plain": [
              "\"'m\""
            ]
          },
          "metadata": {
            "tags": []
          },
          "execution_count": 30
        }
      ]
    },
    {
      "cell_type": "markdown",
      "metadata": {
        "id": "ZF0DbCy4QwZz",
        "colab_type": "text"
      },
      "source": [
        "*1.2.2 How much memory do you expect a model to occupy? Refer to the statistics results above and provide worst-case estimates as well as expected.*\n",
        "\n",
        "**Answer:** For each bigram in the text, we a list of tuples - each the size of 2 (bigram) and a word after it.\n",
        "We can compute with the statistics the total number of distinct bigrams and multiply it by total number of distinct words in the corpus - that will be the worst case."
      ]
    },
    {
      "cell_type": "code",
      "metadata": {
        "id": "8kqHPsuWRcjQ",
        "colab_type": "code",
        "outputId": "250d157c-25b1-4d32-d2f3-389d02ad06d4",
        "colab": {
          "base_uri": "https://localhost:8080/",
          "height": 51
        }
      },
      "source": [
        "with open('../data/ptb.train.txt','r') as file:\n",
        "  data = file.read()\n",
        "  print(dist_words(data))\n",
        "  print(dist_n_gram_words(data,n=[2]))\n",
        "\n"
      ],
      "execution_count": 13,
      "outputs": [
        {
          "output_type": "stream",
          "text": [
            "9941\n",
            "{2: 277419}\n"
          ],
          "name": "stdout"
        }
      ]
    },
    {
      "cell_type": "code",
      "metadata": {
        "id": "BaR5k81TYBNf",
        "colab_type": "code",
        "outputId": "e791c268-588b-4dbc-c18a-921be2a6a78a",
        "colab": {
          "base_uri": "https://localhost:8080/",
          "height": 51
        }
      },
      "source": [
        "perplexity(lm,'../data/ptb.test.txt',False)"
      ],
      "execution_count": 31,
      "outputs": [
        {
          "output_type": "stream",
          "text": [
            "Number of tested tokens : 88402\n"
          ],
          "name": "stdout"
        },
        {
          "output_type": "execute_result",
          "data": {
            "text/plain": [
              "16.546648052065873"
            ]
          },
          "metadata": {
            "tags": []
          },
          "execution_count": 31
        }
      ]
    },
    {
      "cell_type": "code",
      "metadata": {
        "id": "YG7Lq2pP3ed-",
        "colab_type": "code",
        "outputId": "4def6f62-a6ac-4af0-daef-3ec9ab105186",
        "colab": {
          "base_uri": "https://localhost:8080/",
          "height": 34
        }
      },
      "source": [
        "cross_entropy(lm,'../data/ptb.test.txt',False)"
      ],
      "execution_count": 15,
      "outputs": [
        {
          "output_type": "execute_result",
          "data": {
            "text/plain": [
              "-9.063709298746804"
            ]
          },
          "metadata": {
            "tags": []
          },
          "execution_count": 15
        }
      ]
    },
    {
      "cell_type": "markdown",
      "metadata": {
        "id": "ATkR9e09X-3m",
        "colab_type": "text"
      },
      "source": [
        "##1.3.1"
      ]
    },
    {
      "cell_type": "code",
      "metadata": {
        "id": "9KA6k5XVi3pD",
        "colab_type": "code",
        "colab": {
          "base_uri": "https://localhost:8080/",
          "height": 417
        },
        "outputId": "ab9fe539-156b-42c9-ff07-cc93ed4330e9"
      },
      "source": [
        "\n",
        "gamma_values = np.linspace(0.1,1,num=7)\n",
        "perplexity_values = []\n",
        "for gamma in gamma_values:\n",
        "  lm = train_word_gen('../data/ptb.train.txt',gamma=gamma)\n",
        "  perplexity_values += [perplexity(lm,'../data/ptb.valid.txt')]\n",
        "\n",
        "plt.plot(gamma_values,perplexity_values)\n",
        "#plt.loglog([val for word,val in collections.Counter(corpus).most_common(4000)])\n",
        "plt.xlabel('$\\gamma$')\n",
        "plt.ylabel('PERPLEXITY')"
      ],
      "execution_count": 40,
      "outputs": [
        {
          "output_type": "stream",
          "text": [
            "Number of tested tokens : 4070\n",
            "Number of tested tokens : 4070\n",
            "Number of tested tokens : 4070\n",
            "Number of tested tokens : 4070\n",
            "Number of tested tokens : 4070\n",
            "Number of tested tokens : 4070\n",
            "Number of tested tokens : 4070\n"
          ],
          "name": "stdout"
        },
        {
          "output_type": "execute_result",
          "data": {
            "text/plain": [
              "Text(0, 0.5, 'PERPLEXITY')"
            ]
          },
          "metadata": {
            "tags": []
          },
          "execution_count": 40
        },
        {
          "output_type": "display_data",
          "data": {
            "image/png": "[encoded data removed]",
            "text/plain": [
              "<Figure size 432x288 with 1 Axes>"
            ]
          },
          "metadata": {
            "tags": []
          }
        }
      ]
    },
    {
      "cell_type": "code",
      "metadata": {
        "id": "Vm7hvhDof1TB",
        "colab_type": "code",
        "colab": {
          "base_uri": "https://localhost:8080/",
          "height": 1000
        },
        "outputId": "d54e05af-d8af-4e88-c6dc-ead8fef54e90"
      },
      "source": [
        "best_gamma = 1 #according to the plot above\n",
        "\n",
        "n_values = list(range(2,20,2))\n",
        "perplexity_values = []\n",
        "for n in n_values:\n",
        "  print('*************')\n",
        "  print(n)\n",
        "  print('*************')\n",
        "  lm = train_word_gen('../data/ptb.train.txt',n=n,gamma=best_gamma)\n",
        "  print (perplexity(lm,'../data/ptb.valid.txt',n=n))\n",
        "  perplexity_values += [perplexity(lm,'../data/ptb.valid.txt',n=n)]\n",
        "\n",
        "plt.plot(n_values,perplexity_values)\n",
        "#plt.loglog([val for word,val in collections.Counter(corpus).most_common(4000)])\n",
        "plt.xlabel('n')\n",
        "plt.ylabel('PERPLEXITY')"
      ],
      "execution_count": 50,
      "outputs": [
        {
          "output_type": "stream",
          "text": [
            "*************\n",
            "2\n",
            "*************\n",
            "Number of tested tokens : 4070\n",
            "109.09225296489092\n",
            "Number of tested tokens : 4070\n",
            "*************\n",
            "4\n",
            "*************\n",
            "Number of tested tokens : 4070\n",
            "1.4732221154037362\n",
            "Number of tested tokens : 4070\n",
            "*************\n",
            "6\n",
            "*************\n",
            "Number of tested tokens : 4070\n",
            "1.0219284781911773\n",
            "Number of tested tokens : 4070\n",
            "*************\n",
            "8\n",
            "*************\n",
            "Number of tested tokens : 4070\n",
            "1.0041402175981577\n",
            "Number of tested tokens : 4070\n",
            "*************\n",
            "10\n",
            "*************\n",
            "Number of tested tokens : 4070\n",
            "1.0015080066888122\n",
            "Number of tested tokens : 4070\n",
            "*************\n",
            "12\n",
            "*************\n",
            "Number of tested tokens : 4070\n",
            "1.0001703209355337\n",
            "Number of tested tokens : 4070\n",
            "*************\n",
            "14\n",
            "*************\n",
            "Number of tested tokens : 4070\n",
            "1\n",
            "Number of tested tokens : 4070\n",
            "*************\n",
            "16\n",
            "*************\n",
            "Number of tested tokens : 4070\n",
            "1\n",
            "Number of tested tokens : 4070\n",
            "*************\n",
            "18\n",
            "*************\n",
            "Number of tested tokens : 4070\n",
            "1\n",
            "Number of tested tokens : 4070\n"
          ],
          "name": "stdout"
        },
        {
          "output_type": "execute_result",
          "data": {
            "text/plain": [
              "Text(0, 0.5, 'PERPLEXITY')"
            ]
          },
          "metadata": {
            "tags": []
          },
          "execution_count": 50
        },
        {
          "output_type": "display_data",
          "data": {
            "image/png": "[encoded data removed]",
            "text/plain": [
              "<Figure size 432x288 with 1 Axes>"
            ]
          },
          "metadata": {
            "tags": []
          }
        }
      ]
    },
    {
      "cell_type": "code",
      "metadata": {
        "id": "bObAunbNd86W",
        "colab_type": "code",
        "colab": {}
      },
      "source": [
        "best_n = 3\n",
        "best_gamma =1\n",
        "\n",
        "lm = train_word_gen('../data/ptb.train.txt',n=best_n,gamma=best_gamma)\n",
        "print(perplexity(lm,'../data/ptb.test.txt',n=best_n))\n",
        "\n"
      ],
      "execution_count": 0,
      "outputs": []
    },
    {
      "cell_type": "markdown",
      "metadata": {
        "id": "rSvr9yXiniOW",
        "colab_type": "text"
      },
      "source": [
        "#TODO: for Nitzan\n",
        "1. Check what happens when for P(a|b) b=0 and specifically for our ngrams model\n",
        "2. Check with others about the perplexity when n>2\n",
        "3. compare perplexity graph accoridng to gamma"
      ]
    },
    {
      "cell_type": "code",
      "metadata": {
        "id": "XB-Nq3kiovvh",
        "colab_type": "code",
        "colab": {}
      },
      "source": [
        ""
      ],
      "execution_count": 0,
      "outputs": []
    },
    {
      "cell_type": "markdown",
      "metadata": {
        "id": "jN2M2L6_hvrm",
        "colab_type": "text"
      },
      "source": [
        "1.3.2 Generating text\n",
        "\n",
        "Another way to evaluate a language model is to use the model in a generative manner - that is, to randomly sample sentences starting from a seed prefix, and generating each next word by sampling from the model distribution p(w | prefix).\n",
        "\n",
        "Discuss ways to generate when the seed is shorter than the history length of the n-gram model. Discuss ways to decide when the generation should stop. In this question, when you sample from the LM given a history, pick the most likely word generated by the LM. Report at least 5 randomly generated segments on different seeds and comment on what you observe."
      ]
    },
    {
      "cell_type": "code",
      "metadata": {
        "id": "uShEeeSRhy3b",
        "colab_type": "code",
        "colab": {}
      },
      "source": [
        "def generate(model,seed):\n",
        "  p = 0\n",
        "  output = seed\n",
        "  while True:\n",
        "    next_word, prob = model.predict_next_word(seed)\n",
        "    output = ' '+ next_word\n",
        "    p+= prob\n",
        "    if p>=1:\n",
        "      break\n",
        "  return output"
      ],
      "execution_count": 0,
      "outputs": []
    }
  ]
}