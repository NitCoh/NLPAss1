{
  "nbformat": 4,
  "nbformat_minor": 0,
  "metadata": {
    "kernelspec": {
      "display_name": "Python 3",
      "language": "python",
      "name": "python3"
    },
    "language_info": {
      "codemirror_mode": {
        "name": "ipython",
        "version": 3
      },
      "file_extension": ".py",
      "mimetype": "text/x-python",
      "name": "python",
      "nbconvert_exporter": "python",
      "pygments_lexer": "ipython3",
      "version": "3.5.3+"
    },
    "colab": {
      "name": "part1.ipynb",
      "provenance": []
    }
  },
  "cells": [
    {
      "cell_type": "code",
      "metadata": {
        "id": "CmdROlJJNtLk",
        "colab_type": "code",
        "outputId": "2bb60e6e-94f4-4ef1-81ec-c7a50c8f1e3e",
        "colab": {
          "base_uri": "https://localhost:8080/",
          "height": 51
        }
      },
      "source": [
        "!pip install justext"
      ],
      "execution_count": 1,
      "outputs": [
        {
          "output_type": "stream",
          "text": [
            "Requirement already satisfied: justext in /usr/local/lib/python3.6/dist-packages (2.2.0)\n",
            "Requirement already satisfied: lxml>=2.2.4 in /usr/local/lib/python3.6/dist-packages (from justext) (4.2.6)\n"
          ],
          "name": "stdout"
        }
      ]
    },
    {
      "cell_type": "code",
      "metadata": {
        "id": "qWh_5rVkOyMl",
        "colab_type": "code",
        "colab": {}
      },
      "source": [
        "import numpy as np\n",
        "import nltk\n",
        "import justext\n",
        "import re\n",
        "from nltk.tokenize import sent_tokenize\n",
        "import collections"
      ],
      "execution_count": 0,
      "outputs": []
    },
    {
      "cell_type": "code",
      "metadata": {
        "id": "IQ8c3aHnlDx5",
        "colab_type": "code",
        "outputId": "9daf05d3-a284-4883-ae02-da8d72093da3",
        "colab": {
          "base_uri": "https://localhost:8080/",
          "height": 68
        }
      },
      "source": [
        "nltk.download('punkt')"
      ],
      "execution_count": 3,
      "outputs": [
        {
          "output_type": "stream",
          "text": [
            "[nltk_data] Downloading package punkt to /root/nltk_data...\n",
            "[nltk_data]   Package punkt is already up-to-date!\n"
          ],
          "name": "stdout"
        },
        {
          "output_type": "execute_result",
          "data": {
            "text/plain": [
              "True"
            ]
          },
          "metadata": {
            "tags": []
          },
          "execution_count": 3
        }
      ]
    },
    {
      "cell_type": "markdown",
      "metadata": {
        "id": "bo6kW-6tyCPg",
        "colab_type": "text"
      },
      "source": [
        "1.1.1"
      ]
    },
    {
      "cell_type": "code",
      "metadata": {
        "id": "-eDGnqmpRq9z",
        "colab_type": "code",
        "colab": {}
      },
      "source": [
        "def top_txt(txt,top):\n",
        "  most_common_words = [word for (word,f) in collections.Counter(txt).most_common(top)]\n",
        "  return ''.join([word if word in most_common_words or word=='N' else '<unk>' for word in txt])\n",
        "def replace_numbers(txt):\n",
        "  #TODO:: Check replace numbers RegEx.\n",
        "  num_format = re.compile(\"^[\\-]?[1-9][0-9]*\\.?[0-9]+$\")\n",
        "  return \"\".join([word if not re.match(num_format,word) else 'N' for word in txt])\n",
        "def remove_punc(txt):\n",
        "  without_punc = \"\".join([ c if c not in '.,:;?!@#*&%$<>' else '' for c in txt])\n",
        "  return without_punc.replace(\"  \",\" \")\n",
        "def tokenize(txt):\n",
        "  return \" \".join(nltk.word_tokenize(txt))\n",
        "def segment_sents(txt):\n",
        "  return \"\\n\".join(nltk.sent_tokenize(txt))\n",
        "def lower_txt(txt):\n",
        "  return txt.lower()"
      ],
      "execution_count": 0,
      "outputs": []
    },
    {
      "cell_type": "code",
      "metadata": {
        "id": "P2KptyAiOyM4",
        "colab_type": "code",
        "colab": {}
      },
      "source": [
        "def ptb_preprocess(filenames, top=10000):\n",
        "  for filename in filenames:\n",
        "    with open(filename) as myfile:\n",
        "      \n",
        "\n",
        "      txt_file =  myfile.read().replace('\\n',' ')\n",
        "      paragraphs = justext.justext(txt_file, justext.get_stoplist(\"English\"))\n",
        "      raw_text = \"\\n\".join([p.text for p in paragraphs if not p.is_boilerplate])\n",
        "\n",
        "\n",
        "      # raw_text = lower_txt(raw_text)\n",
        "      # raw_text = segment_sents(raw_text)\n",
        "      # print('segment_sents')\n",
        "      # print(raw_text[:200])\n",
        "      # raw_text = remove_punc(raw_text)\n",
        "      # print('remove_punkt')\n",
        "      # print(raw_text[:200])\n",
        "      # raw_text = tokenize(raw_text)\n",
        "      # print('tokenize')\n",
        "      # print(raw_text[:200])\n",
        "      # raw_text = replace_numbers(raw_text)\n",
        "      # print('replace_numbers')\n",
        "      # print(raw_text[:200])\n",
        "      # raw_text = top_txt(raw_text,top)\n",
        "      # print('top_txt')\n",
        "      # print(raw_text[:200])\n",
        "\n",
        "      raw_text = top_txt(raw_text,top)\n",
        "      raw_text = replace_numbers(raw_text)\n",
        "      raw_text = tokenize(raw_text)\n",
        "      raw_text = segment_sents(raw_text)\n",
        "      raw_text = remove_punc(raw_text)\n",
        "      raw_text = lower_txt(raw_text)\n",
        "      \n",
        "      \n",
        "      new_filename = filename+'.out'\n",
        "      #print(new_filename)\n",
        "      with open(new_filename, \"w\") as text_file:\n",
        "        text_file.write(raw_text)\n",
        "\n"
      ],
      "execution_count": 0,
      "outputs": []
    },
    {
      "cell_type": "code",
      "metadata": {
        "id": "XNWfFRBhQCz2",
        "colab_type": "code",
        "outputId": "25d8b24c-5ad9-4de2-861e-d09ff75a1312",
        "colab": {
          "base_uri": "https://localhost:8080/",
          "height": 204
        }
      },
      "source": [
        "!wget https://cs.stanford.edu/people/karpathy/char-rnn/shakespeare_input.txt "
      ],
      "execution_count": 6,
      "outputs": [
        {
          "output_type": "stream",
          "text": [
            "--2019-12-26 18:56:40--  https://cs.stanford.edu/people/karpathy/char-rnn/shakespeare_input.txt\n",
            "Resolving cs.stanford.edu (cs.stanford.edu)... 171.64.64.64\n",
            "Connecting to cs.stanford.edu (cs.stanford.edu)|171.64.64.64|:443... connected.\n",
            "HTTP request sent, awaiting response... 200 OK\n",
            "Length: 4573338 (4.4M) [text/plain]\n",
            "Saving to: ‘shakespeare_input.txt.6’\n",
            "\n",
            "shakespeare_input.t 100%[===================>]   4.36M  3.78MB/s    in 1.2s    \n",
            "\n",
            "2019-12-26 18:56:42 (3.78 MB/s) - ‘shakespeare_input.txt.6’ saved [4573338/4573338]\n",
            "\n"
          ],
          "name": "stdout"
        }
      ]
    },
    {
      "cell_type": "markdown",
      "metadata": {
        "id": "Ts1OWn9yE5hx",
        "colab_type": "text"
      },
      "source": [
        "1.1.1 Discussion: According to the descripted above if we apply the conventions of Penn Treebank, we shall give independent meaning for every word after the tokenization. Also, if we use character-level language model, we shall get another definition - morphological, because now we care about structure of the word."
      ]
    },
    {
      "cell_type": "markdown",
      "metadata": {
        "id": "B1twpt96H3Ja",
        "colab_type": "text"
      },
      "source": [
        "1.1.2 :"
      ]
    },
    {
      "cell_type": "code",
      "metadata": {
        "id": "kl1uQDDlH55T",
        "colab_type": "code",
        "outputId": "1b61eb0b-48e6-44e2-ed1a-b5320ee6309c",
        "colab": {
          "base_uri": "https://localhost:8080/",
          "height": 1000
        }
      },
      "source": [
        "!wget http://www.fit.vutbr.cz/~imikolov/rnnlm/simple-examples.tgz\n",
        "!tar zxvf simple-examples.tgz\n",
        "\n",
        "!ls simple-examples/data\n",
        "!mv ./simple-examples/data ../data"
      ],
      "execution_count": 7,
      "outputs": [
        {
          "output_type": "stream",
          "text": [
            "--2019-12-26 18:56:44--  http://www.fit.vutbr.cz/~imikolov/rnnlm/simple-examples.tgz\n",
            "Resolving www.fit.vutbr.cz (www.fit.vutbr.cz)... 147.229.9.23, 2001:67c:1220:809::93e5:917\n",
            "Connecting to www.fit.vutbr.cz (www.fit.vutbr.cz)|147.229.9.23|:80... connected.\n",
            "HTTP request sent, awaiting response... 200 OK\n",
            "Length: 34869662 (33M) [application/x-gtar]\n",
            "Saving to: ‘simple-examples.tgz.6’\n",
            "\n",
            "simple-examples.tgz 100%[===================>]  33.25M  21.1MB/s    in 1.6s    \n",
            "\n",
            "2019-12-26 18:56:45 (21.1 MB/s) - ‘simple-examples.tgz.6’ saved [34869662/34869662]\n",
            "\n",
            "./\n",
            "./simple-examples/\n",
            "./simple-examples/data/\n",
            "./simple-examples/data/ptb.test.txt\n",
            "./simple-examples/data/ptb.train.txt\n",
            "./simple-examples/data/ptb.valid.txt\n",
            "./simple-examples/data/README\n",
            "./simple-examples/data/ptb.char.train.txt\n",
            "./simple-examples/data/ptb.char.test.txt\n",
            "./simple-examples/data/ptb.char.valid.txt\n",
            "./simple-examples/models/\n",
            "./simple-examples/models/swb.ngram.model\n",
            "./simple-examples/models/swb.rnn.model\n",
            "./simple-examples/models/README\n",
            "./simple-examples/rnnlm-0.2b/\n",
            "./simple-examples/rnnlm-0.2b/CHANGE.log\n",
            "./simple-examples/rnnlm-0.2b/FAQ.txt\n",
            "./simple-examples/rnnlm-0.2b/convert.c\n",
            "./simple-examples/rnnlm-0.2b/makefile\n",
            "./simple-examples/rnnlm-0.2b/rnnlm.cpp\n",
            "./simple-examples/rnnlm-0.2b/rnnlmlib.cpp\n",
            "./simple-examples/rnnlm-0.2b/rnnlmlib.h\n",
            "./simple-examples/rnnlm-0.2b/prob.c\n",
            "./simple-examples/rnnlm-0.2b/test\n",
            "./simple-examples/rnnlm-0.2b/train\n",
            "./simple-examples/rnnlm-0.2b/valid\n",
            "./simple-examples/rnnlm-0.2b/example.sh\n",
            "./simple-examples/rnnlm-0.2b/example.output\n",
            "./simple-examples/rnnlm-0.2b/COPYRIGHT.txt\n",
            "./simple-examples/1-train/\n",
            "./simple-examples/1-train/train.sh\n",
            "./simple-examples/1-train/test.sh\n",
            "./simple-examples/1-train/README\n",
            "./simple-examples/3-combination/\n",
            "./simple-examples/3-combination/train.sh\n",
            "./simple-examples/3-combination/test.sh\n",
            "./simple-examples/3-combination/README\n",
            "./simple-examples/2-nbest-rescore/\n",
            "./simple-examples/2-nbest-rescore/lattices/\n",
            "./simple-examples/2-nbest-rescore/lattices/AMI-3E0501_u3005_127040_127488.lat.gz\n",
            "./simple-examples/2-nbest-rescore/lattices/AMI-3E0501_u3005_127513_127835.lat.gz\n",
            "./simple-examples/2-nbest-rescore/lattices/AMI-3E0501_u3005_127865_128175.lat.gz\n",
            "./simple-examples/2-nbest-rescore/lattices/AMI-3E0501_u3005_128188_128447.lat.gz\n",
            "./simple-examples/2-nbest-rescore/lattices/AMI-3E0501_u3005_128490_129032.lat.gz\n",
            "./simple-examples/2-nbest-rescore/lattices/nbest.sh\n",
            "./simple-examples/2-nbest-rescore/lattices/nbest/\n",
            "./simple-examples/2-nbest-rescore/lattices/latlist\n",
            "./simple-examples/2-nbest-rescore/README\n",
            "./simple-examples/2-nbest-rescore/getbest.c\n",
            "./simple-examples/2-nbest-rescore/gettext.c\n",
            "./simple-examples/2-nbest-rescore/makenbest.c\n",
            "./simple-examples/2-nbest-rescore/makenbest\n",
            "./simple-examples/2-nbest-rescore/gettext\n",
            "./simple-examples/2-nbest-rescore/getbest\n",
            "./simple-examples/5-one-iter/\n",
            "./simple-examples/5-one-iter/test.sh\n",
            "./simple-examples/5-one-iter/train.sh\n",
            "./simple-examples/5-one-iter/README\n",
            "./simple-examples/6-recovery-during-training/\n",
            "./simple-examples/6-recovery-during-training/test.sh\n",
            "./simple-examples/6-recovery-during-training/train.sh\n",
            "./simple-examples/6-recovery-during-training/README\n",
            "./simple-examples/7-dynamic-evaluation/\n",
            "./simple-examples/7-dynamic-evaluation/test.sh\n",
            "./simple-examples/7-dynamic-evaluation/train.sh\n",
            "./simple-examples/7-dynamic-evaluation/README\n",
            "./simple-examples/temp/\n",
            "./simple-examples/8-direct/\n",
            "./simple-examples/8-direct/train.sh\n",
            "./simple-examples/8-direct/test.sh\n",
            "./simple-examples/8-direct/README\n",
            "./simple-examples/4-data-generation/\n",
            "./simple-examples/4-data-generation/train.sh\n",
            "./simple-examples/4-data-generation/test.sh\n",
            "./simple-examples/4-data-generation/README\n",
            "./simple-examples/9-char-based-lm/\n",
            "./simple-examples/9-char-based-lm/test.sh\n",
            "./simple-examples/9-char-based-lm/train.sh\n",
            "./simple-examples/9-char-based-lm/README\n",
            "ptb.char.test.txt   ptb.char.valid.txt\tptb.train.txt  README\n",
            "ptb.char.train.txt  ptb.test.txt\tptb.valid.txt\n",
            "mv: cannot move './simple-examples/data' to '../data/data': Directory not empty\n"
          ],
          "name": "stdout"
        }
      ]
    },
    {
      "cell_type": "code",
      "metadata": {
        "id": "8VgRPhj407Tc",
        "colab_type": "code",
        "outputId": "e8aa5356-6717-43bf-d781-90bea4c54ac0",
        "colab": {
          "base_uri": "https://localhost:8080/",
          "height": 119
        }
      },
      "source": [
        "!ls"
      ],
      "execution_count": 8,
      "outputs": [
        {
          "output_type": "stream",
          "text": [
            "lg32965.zip\t\t shakespeare_input.txt.3  simple-examples.tgz.1\n",
            "recipes_dataset\t\t shakespeare_input.txt.4  simple-examples.tgz.2\n",
            "sample_data\t\t shakespeare_input.txt.5  simple-examples.tgz.3\n",
            "shakespeare_input.txt\t shakespeare_input.txt.6  simple-examples.tgz.4\n",
            "shakespeare_input.txt.1  simple-examples\t  simple-examples.tgz.5\n",
            "shakespeare_input.txt.2  simple-examples.tgz\t  simple-examples.tgz.6\n"
          ],
          "name": "stdout"
        }
      ]
    },
    {
      "cell_type": "code",
      "metadata": {
        "id": "8u-G63oDV2MZ",
        "colab_type": "code",
        "outputId": "e47cc167-5739-4f45-f5e1-01924b7f0486",
        "colab": {
          "base_uri": "https://localhost:8080/",
          "height": 34
        }
      },
      "source": [
        "len(set(remove_punc('hello, you, hello').split()))"
      ],
      "execution_count": 9,
      "outputs": [
        {
          "output_type": "execute_result",
          "data": {
            "text/plain": [
              "2"
            ]
          },
          "metadata": {
            "tags": []
          },
          "execution_count": 9
        }
      ]
    },
    {
      "cell_type": "code",
      "metadata": {
        "id": "2_9519iByOPy",
        "colab_type": "code",
        "colab": {}
      },
      "source": [
        "def num_token(txt):\n",
        "  txt = txt.lower()\n",
        "  return len(nltk.word_tokenize(txt))\n",
        "def num_char(txt):\n",
        "  return len(''.join(txt.split()))\n",
        "def dist_words(txt): #vocabulary size\n",
        "  txt = txt.lower()\n",
        "  return len(set(remove_punc(txt).split()))\n",
        "def topN_words(txt,N):\n",
        "  most_common_words = ' '.join([word for (word,f) in collections.Counter(txt).most_common(N)])\n",
        "  return num_tokenize(most_common_words)\n",
        "def token_type_ratio(txt):\n",
        "  return num_token(txt)/dist_words(txt)\n",
        "\n",
        "def types_oov(txt_dev,txt_train): #Out Of Vocabulary \n",
        "    txt_dev = txt_dev.lower()\n",
        "    text_dev_set = set(remove_punc(txt_dev).split())\n",
        "    txt_train = txt_train.lower()\n",
        "    text_train_set = set(remove_punc(txt_train).split())\n",
        "    return len(tex_dev_set.difference(text_train_set))\n",
        "def avg_sd_char_token(txt):\n",
        "  total_chars = sum( [len(w) for w in nltk.word_tokenize(txt)])\n",
        "  avg =  total_chars/num_token(txt)\n",
        "\n",
        "  total_avg_chars = sum( [len(w)-avg for w in nltk.word_tokenize(txt)])\n",
        "  sd =  total_chars/num_token(txt)\n",
        "  return avg,sd\n",
        "\n",
        "def dist_n_gram_words(txt,n=[2,3,4]):\n",
        "  txt = txt.lower()\n",
        "  txt = nltk.word_tokenize(txt)\n",
        "  ans = {}\n",
        "  for i in n:\n",
        "    ans[i] = diff_grams(txt,i)\n",
        "  return ans\n",
        "\n",
        "def dist_n_gram_chars(txt,n=range(1,8)):\n",
        "  ans = {}\n",
        "  for i in n:\n",
        "    ans[i] = diff_grams(txt,i)\n",
        "  return ans\n",
        "\n",
        "def diff_grams(txt,n):\n",
        "  s = set()\n",
        "  gram = list(range(0,n))\n",
        "  while gram[-1]!=len(txt):\n",
        "    next_gram = tuple([txt[g] for g in gram])\n",
        "    s.add(next_gram)\n",
        "    gram = [g+1 for g in gram]\n",
        "  return len(s)"
      ],
      "execution_count": 0,
      "outputs": []
    },
    {
      "cell_type": "code",
      "metadata": {
        "id": "ceYy9o1urbi0",
        "colab_type": "code",
        "outputId": "91245721-f952-49f0-f7d3-92d4fc3885a7",
        "colab": {
          "base_uri": "https://localhost:8080/",
          "height": 34
        }
      },
      "source": [
        "# you need matplotlib version 1.4 or above\n",
        "import matplotlib.pyplot as plt\n",
        "import matplotlib\n",
        "print(matplotlib.__version__)\n",
        "%matplotlib inline\n",
        "def power_law_rule(corpus):\n",
        "  corpus = lower_txt(corpus)\n",
        "  corpus = tokenize(corpus)\n",
        "  plt.loglog([val for word,val in collections.Counter(corpus).most_common(4000)])\n",
        "  plt.xlabel('rank')\n",
        "  plt.ylabel('frequency');"
      ],
      "execution_count": 11,
      "outputs": [
        {
          "output_type": "stream",
          "text": [
            "3.1.2\n"
          ],
          "name": "stdout"
        }
      ]
    },
    {
      "cell_type": "code",
      "metadata": {
        "id": "BY9AIs-GKmGV",
        "colab_type": "code",
        "outputId": "4471ec6a-d8d4-4c71-d945-c5d13edd716f",
        "colab": {
          "base_uri": "https://localhost:8080/",
          "height": 288
        }
      },
      "source": [
        "import os\n",
        "\n",
        "dir = '../data'\n",
        "for filename in os.listdir(dir):\n",
        "  if os.path.isdir(dir+'/'+ filename):\n",
        "    continue\n",
        "  with open(dir+'/'+ filename,'r') as file:\n",
        "      data = file.read()\n",
        "      power_law_rule(data)"
      ],
      "execution_count": 12,
      "outputs": [
        {
          "output_type": "display_data",
          "data": {
            "image/png": "[encoded data removed]",
            "text/plain": [
              "<Figure size 432x288 with 1 Axes>"
            ]
          },
          "metadata": {
            "tags": []
          }
        }
      ]
    },
    {
      "cell_type": "markdown",
      "metadata": {
        "id": "ikQJvQfnt6Ba",
        "colab_type": "text"
      },
      "source": [
        "1.2 n-gram Word Language Model"
      ]
    },
    {
      "cell_type": "code",
      "metadata": {
        "colab_type": "code",
        "id": "YzeX7KNdYhPL",
        "colab": {}
      },
      "source": [
        "#how to calculate the freq of h*w\n",
        "#how to calculate the freq of w.\n",
        "\n",
        "from collections import Counter,defaultdict\n",
        "import math\n",
        "from functools import reduce\n",
        "from abc import ABC, abstractmethod\n",
        "\n",
        "class LangModell:\n",
        "  @abstractmethod\n",
        "  def predict_next_word(self,prev_words):\n",
        "    pass\n",
        "  @abstractmethod\n",
        "  def evaluate_next_word(self,prev_word):\n",
        "    pass\n",
        "  \n",
        "class n_gram_model(LangModell):\n",
        "  def __init__(self,gamma=0):\n",
        "    self.outlm = {}\n",
        "    self.freq_words = collections.Counter()\n",
        "    self.gamma = gamma\n",
        "\n",
        "  def train_model(self, dataset,n,pre_process,tokenize=True):\n",
        "    lm = defaultdict(Counter)\n",
        "    if pre_process == True :\n",
        "      ptb_preprocess([dataset])\n",
        "    filename =  dataset if pre_process == False else dataset+'.out'\n",
        "    with open(filename) as file:\n",
        "      data = file.read()\n",
        "      if tokenize:\n",
        "        data = nltk.word_tokenize(data)\n",
        "    self.freq_words = collections.Counter(data)\n",
        "    n = n-1\n",
        "    if tokenize:\n",
        "      pad = [\"~\"] * n\n",
        "    else:\n",
        "      pad = '~' * n\n",
        "    data = pad + data\n",
        "    for i in range(len(data)-n):\n",
        "        history, word = tuple(data[i:i+n]), data[i+n]\n",
        "        lm[history][word]+=1\n",
        "\n",
        "    def normalize(counter):   \n",
        "        N = float(sum(counter.values()))\n",
        "        B = len(counter)\n",
        "        return { word : c+self.gamma/(N+B*self.gamma) for word,c in counter.items()}\n",
        "\n",
        "    self.freq_words= {word:freq/len(data) for word,freq in self.freq_words.items()}\n",
        "    self.not_normalized_lm = lm\n",
        "    self.outlm = {hist:normalize(cntr) for hist, cntr in lm.items()}\n",
        "\n",
        "  def predict_next_word(self, prev_words,chars=False):\n",
        "    possible_words =  self.outlm[tuple(prev_words.lower().split())]\n",
        "    next_word, prob = max(possible_words.items(), key=lambda x:x[1] if x[0] not in ['<','>','unk','N'] else 0)\n",
        "    return next_word,prob\n",
        "\n",
        "  def evaluate_next_word(self, prev_words,next_word):\n",
        "    prev_words = tuple(nltk.word_tokenize(prev_words.lower()))\n",
        "    if prev_words in self.outlm:\n",
        "      counter = self.not_normalized_lm[prev_words]\n",
        "      N = float(sum(counter.values()))\n",
        "      B = len(counter)\n",
        "      c = self.not_normalized_lm[prev_words][next_word]\n",
        "      return (c+self.gamma)/(N+B*self.gamma) \n",
        "    return 0\n",
        "\n",
        "def perplexity(model,test_filename,pre_process=True,n=2):\n",
        "  if pre_process == True:\n",
        "    ptb_preprocess([test_filename])\n",
        "    filename = test_filename+'.out'\n",
        "  else:\n",
        "    filename=test_filename\n",
        "  with open(filename) as file:\n",
        "    data = nltk.word_tokenize(file.read())\n",
        "  answer = 1\n",
        "  #print(\"Number of tested tokens :\", len(data))\n",
        "  for i in range(len(data) - (n+1)):\n",
        "    prev_words = ' '.join(data[i:i+n-1])\n",
        "    next_word = data[i+n-1]\n",
        "    eval = model.evaluate_next_word(prev_words,next_word)\n",
        "    #print(eval)\n",
        "    if eval!=0:\n",
        "      eval = (1/eval) **(1/len(data))\n",
        "      answer*= eval\n",
        "  return answer  \n",
        "\n",
        "def cross_entropy(model,test_filename,pre_process=True):\n",
        "  if pre_process == True:\n",
        "    ptb_preprocess([test_filename])\n",
        "    filename = test_filename+'.out'\n",
        "  else:\n",
        "    filename = test_filename\n",
        "  with open(filename) as file:\n",
        "    data = nltk.word_tokenize(file.read())\n",
        "  return sum( [math.log(model.freq_words[word],2)/len(data) for word in data] )\n",
        "\n",
        "def train_word_gen(dataset,n=2,gamma=0):\n",
        "  lm = n_gram_model(gamma=gamma)\n",
        "  lm.train_model(dataset,n,False)\n",
        "  return lm\n",
        "\n",
        "def train_word_lm(dataset,n=2,tokenize=True):\n",
        "  lm = n_gram_model()\n",
        "  lm.train_model(dataset,n,False,tokenize=tokenize)\n",
        "  return lm"
      ],
      "execution_count": 0,
      "outputs": []
    },
    {
      "cell_type": "code",
      "metadata": {
        "id": "rJFllViIGOy0",
        "colab_type": "code",
        "outputId": "b246d106-b4b7-408b-be07-7a1c0724738b",
        "colab": {
          "base_uri": "https://localhost:8080/",
          "height": 34
        }
      },
      "source": [
        "#Example:\n",
        "lm = train_word_lm('../data/ptb.train.txt')\n",
        "lm.predict_next_word('Not')"
      ],
      "execution_count": 236,
      "outputs": [
        {
          "output_type": "execute_result",
          "data": {
            "text/plain": [
              "('to', 117.0)"
            ]
          },
          "metadata": {
            "tags": []
          },
          "execution_count": 236
        }
      ]
    },
    {
      "cell_type": "markdown",
      "metadata": {
        "id": "ZF0DbCy4QwZz",
        "colab_type": "text"
      },
      "source": [
        "*1.2.2 How much memory do you expect a model to occupy? Refer to the statistics results above and provide worst-case estimates as well as expected.*\n",
        "\n",
        "**Answer:** For each bigram in the text, we a list of tuples - each the size of 2 (bigram) and a word after it.\n",
        "We can compute with the statistics the total number of distinct bigrams and multiply it by total number of distinct words in the corpus - that will be the worst case."
      ]
    },
    {
      "cell_type": "code",
      "metadata": {
        "id": "8kqHPsuWRcjQ",
        "colab_type": "code",
        "outputId": "9b5cacd7-bdb0-45ca-edad-01f2cd9ea832",
        "colab": {
          "base_uri": "https://localhost:8080/",
          "height": 51
        }
      },
      "source": [
        "with open('../data/ptb.train.txt','r') as file:\n",
        "  data = file.read()\n",
        "  print(dist_words(data))\n",
        "  print(dist_n_gram_words(data,n=[2]))\n",
        "\n"
      ],
      "execution_count": 15,
      "outputs": [
        {
          "output_type": "stream",
          "text": [
            "9941\n",
            "{2: 277419}\n"
          ],
          "name": "stdout"
        }
      ]
    },
    {
      "cell_type": "code",
      "metadata": {
        "id": "BaR5k81TYBNf",
        "colab_type": "code",
        "outputId": "731ead44-6946-4e4c-d353-bdb51465f3c8",
        "colab": {
          "base_uri": "https://localhost:8080/",
          "height": 34
        }
      },
      "source": [
        "perplexity(lm,'../data/ptb.test.txt',False)"
      ],
      "execution_count": 16,
      "outputs": [
        {
          "output_type": "execute_result",
          "data": {
            "text/plain": [
              "16.545459326639662"
            ]
          },
          "metadata": {
            "tags": []
          },
          "execution_count": 16
        }
      ]
    },
    {
      "cell_type": "code",
      "metadata": {
        "id": "YG7Lq2pP3ed-",
        "colab_type": "code",
        "outputId": "6e2359de-2de4-49af-ad3b-e3635b6033fb",
        "colab": {
          "base_uri": "https://localhost:8080/",
          "height": 34
        }
      },
      "source": [
        "cross_entropy(lm,'../data/ptb.test.txt',False)"
      ],
      "execution_count": 17,
      "outputs": [
        {
          "output_type": "execute_result",
          "data": {
            "text/plain": [
              "-9.063709298744856"
            ]
          },
          "metadata": {
            "tags": []
          },
          "execution_count": 17
        }
      ]
    },
    {
      "cell_type": "markdown",
      "metadata": {
        "id": "ATkR9e09X-3m",
        "colab_type": "text"
      },
      "source": [
        "##1.3.1"
      ]
    },
    {
      "cell_type": "code",
      "metadata": {
        "id": "9KA6k5XVi3pD",
        "colab_type": "code",
        "outputId": "a239094f-6c12-460c-f1ed-7a09d75cb574",
        "colab": {
          "base_uri": "https://localhost:8080/",
          "height": 298
        }
      },
      "source": [
        "\n",
        "gamma_values = np.linspace(0.1,1,num=7)\n",
        "perplexity_values = []\n",
        "for gamma in gamma_values:\n",
        "  lm = train_word_gen('../data/ptb.train.txt',gamma=gamma)\n",
        "  perplexity_values += [perplexity(lm,'../data/ptb.valid.txt')]\n",
        "\n",
        "plt.plot(gamma_values,perplexity_values)\n",
        "#plt.loglog([val for word,val in collections.Counter(corpus).most_common(4000)])\n",
        "plt.xlabel('$\\gamma$')\n",
        "plt.ylabel('PERPLEXITY')"
      ],
      "execution_count": 18,
      "outputs": [
        {
          "output_type": "execute_result",
          "data": {
            "text/plain": [
              "Text(0, 0.5, 'PERPLEXITY')"
            ]
          },
          "metadata": {
            "tags": []
          },
          "execution_count": 18
        },
        {
          "output_type": "display_data",
          "data": {
            "image/png": "[encoded data removed]",
            "text/plain": [
              "<Figure size 432x288 with 1 Axes>"
            ]
          },
          "metadata": {
            "tags": []
          }
        }
      ]
    },
    {
      "cell_type": "code",
      "metadata": {
        "id": "Vm7hvhDof1TB",
        "colab_type": "code",
        "outputId": "1c939372-7f59-4168-d940-4f790303ef91",
        "colab": {
          "base_uri": "https://localhost:8080/",
          "height": 449
        }
      },
      "source": [
        "best_gamma = 1 #according to the plot above\n",
        "\n",
        "n_values = list(range(2,20,2))\n",
        "perplexity_values = []\n",
        "for n in n_values:\n",
        "  lm = train_word_gen('../data/ptb.train.txt',n=n,gamma=best_gamma)\n",
        "  print (perplexity(lm,'../data/ptb.valid.txt',n=n))\n",
        "  perplexity_values += [perplexity(lm,'../data/ptb.valid.txt',n=n)]\n",
        "\n",
        "plt.plot(n_values,perplexity_values)\n",
        "#plt.loglog([val for word,val in collections.Counter(corpus).most_common(4000)])\n",
        "plt.xlabel('n')\n",
        "plt.ylabel('PERPLEXITY')"
      ],
      "execution_count": 19,
      "outputs": [
        {
          "output_type": "stream",
          "text": [
            "109.09225296489092\n",
            "1.4732221154037362\n",
            "1.0219284781911773\n",
            "1.0041402175981577\n",
            "1.0015080066888122\n",
            "1.0001703209355337\n",
            "1\n",
            "1\n",
            "1\n"
          ],
          "name": "stdout"
        },
        {
          "output_type": "execute_result",
          "data": {
            "text/plain": [
              "Text(0, 0.5, 'PERPLEXITY')"
            ]
          },
          "metadata": {
            "tags": []
          },
          "execution_count": 19
        },
        {
          "output_type": "display_data",
          "data": {
            "image/png": "[encoded data removed]",
            "text/plain": [
              "<Figure size 432x288 with 1 Axes>"
            ]
          },
          "metadata": {
            "tags": []
          }
        }
      ]
    },
    {
      "cell_type": "code",
      "metadata": {
        "id": "bObAunbNd86W",
        "colab_type": "code",
        "outputId": "ce9cfbad-d858-46ac-9918-64c0308d6739",
        "colab": {
          "base_uri": "https://localhost:8080/",
          "height": 34
        }
      },
      "source": [
        "best_n = 3\n",
        "best_gamma =1\n",
        "\n",
        "lmWords = train_word_gen('../data/ptb.train.txt',n=best_n,gamma=best_gamma)\n",
        "print(perplexity(lmWords,'../data/ptb.test.txt',n=best_n))\n",
        "\n"
      ],
      "execution_count": 269,
      "outputs": [
        {
          "output_type": "stream",
          "text": [
            "6.442197656305259\n"
          ],
          "name": "stdout"
        }
      ]
    },
    {
      "cell_type": "markdown",
      "metadata": {
        "id": "jN2M2L6_hvrm",
        "colab_type": "text"
      },
      "source": [
        "1.3.2 Generating text\n",
        "\n",
        "Another way to evaluate a language model is to use the model in a generative manner - that is, to randomly sample sentences starting from a seed prefix, and generating each next word by sampling from the model distribution p(w | prefix).\n",
        "\n",
        "Discuss ways to generate when the seed is shorter than the history length of the n-gram model. Discuss ways to decide when the generation should stop. In this question, when you sample from the LM given a history, pick the most likely word generated by the LM. Report at least 5 randomly generated segments on different seeds and comment on what you observe."
      ]
    },
    {
      "cell_type": "markdown",
      "metadata": {
        "id": "fq9rWmNaY3m7",
        "colab_type": "text"
      },
      "source": [
        "1.3.2.1\n",
        "A way to increase the history is to randomized sample from the grams in the distrubution and concat it to to the history.\n",
        "One proposal to stop, we would stop if there exist a history that the model hasn't seen before."
      ]
    },
    {
      "cell_type": "code",
      "metadata": {
        "id": "uShEeeSRhy3b",
        "colab_type": "code",
        "colab": {}
      },
      "source": [
        "def generate(model,seed):\n",
        "  gram = seed\n",
        "  i=20\n",
        "  print(seed,end=' ')\n",
        "  while i>0:\n",
        "    next_word, prob = model.predict_next_word(gram)\n",
        "    print(next_word,end=' ')\n",
        "    gram = \" \".join(gram.split()[1:] + [next_word])\n",
        "    i=i-1"
      ],
      "execution_count": 0,
      "outputs": []
    },
    {
      "cell_type": "code",
      "metadata": {
        "id": "upDb2_qoujQi",
        "colab_type": "code",
        "colab": {
          "base_uri": "https://localhost:8080/",
          "height": 34
        },
        "outputId": "a45b98fc-38a2-46fc-d76d-edcf6a34421b"
      },
      "source": [
        "generate(lmWords,'environmental protection')"
      ],
      "execution_count": 273,
      "outputs": [
        {
          "output_type": "stream",
          "text": [
            "environmental protection agency stands to receive a $ 300-a-share buy-out bid that banks would n't be reached for comment the federal reserve "
          ],
          "name": "stdout"
        }
      ]
    },
    {
      "cell_type": "markdown",
      "metadata": {
        "id": "gUmvvNzMuyhr",
        "colab_type": "text"
      },
      "source": [
        "##1.4"
      ]
    },
    {
      "cell_type": "markdown",
      "metadata": {
        "id": "a08mUokIaEoE",
        "colab_type": "text"
      },
      "source": [
        "The Unreasonable Effectiveness of Recurrent Neural Networks\n",
        "\n",
        "First, the most surprised fact is that RNNs described in the blog are Turing-Complete theoretically, which give them the power to approximate programs over approximating function as NNs do.\n",
        "The most surprising experient result is that the ability of RNNs/LSTM to learn complex syntactic structures. According to the experiment of the Wikipedia sampling, after training and validating few models on the dataset, the RNN was able to capture the structural phase of an article in Wikipedia. For example, generating the opening  and closing parentheses of links and also generating headlines and lists according to Wikipedia articles. The results in Wikipedia suggest that the model is actually quite good at learning complex syntactic structures and also we can learn from Chomsky’s Hierarchy that the model at least has the power of CFG (by applying parentheses). Furthermore, the Latex model experiment shows quite astonishing results, the resulted papers are almost compiled by Latex compiler (with few manually changes). \n",
        "\n"
      ]
    },
    {
      "cell_type": "markdown",
      "metadata": {
        "id": "Q0a1RE50aF2Y",
        "colab_type": "text"
      },
      "source": [
        "**The unreasonable effectiveness of Character-level Language Models (and why RNNs are still cool)**\n",
        "\n",
        "In the last essay (by Andrej Karpathy) we saw that RNN (and specifically LSTM) are very good for various tasks.\n",
        "In detail, we built character-level language model for generating texts.\n",
        "\n",
        "In this essay, we deploy Unsmoothed Maximum Likelihood Character Level Language Model and see that its performence is not so different than the complex RNN.\n",
        "\n",
        "First, we train the LM for n-gram (n is chosen empirically) usind a dictionary where each key is a tuple (the n-gram) and the values is a collections.Counter object for the character proceeding the gram. Withit we compute the distribution of the character given a sequence of characters.\n",
        "\n",
        "Then, we generate text from the model by basically sample from the distributions we created. That is, we look in the history of the text and given it, by looking up the history in the dictionary, we sample.\n",
        "\n",
        "We can observe that for big n (~10) the generated text \"looks like\" English and is not so different than the ones generated with RNN. While this model is simple and uses simple statistics, unlike the blackbox of RNN/LSTM.\n",
        "\n",
        "So why RNN are still important?\n",
        "We can observe that the generated texts using it \"remember\" better. That is, the texts mostly do not have parentheses without closure and when learn indendation with texts such as Linux's Kernel.\n",
        "\n",
        "We can conculde that simple satistics can generate similar texts to RNN but the complex structure of RNN and the architecure of LSTM enable it to understand syntax.\n",
        "\n"
      ]
    },
    {
      "cell_type": "code",
      "metadata": {
        "id": "OETOoJS0u1hB",
        "colab_type": "code",
        "outputId": "c76d3745-bd34-4b36-e7d9-465a5e0dfe48",
        "colab": {
          "base_uri": "https://localhost:8080/",
          "height": 952
        }
      },
      "source": [
        "#download the dataset\n",
        "!wget http://www.ffts.com/recipes/lg/lg32965.zip\n",
        "!unzip lg32965 -d recipes_dataset\n",
        "!rm lg32965.zip\n",
        "!ls"
      ],
      "execution_count": 22,
      "outputs": [
        {
          "output_type": "stream",
          "text": [
            "--2019-12-26 18:59:47--  http://www.ffts.com/recipes/lg/lg32965.zip\n",
            "Resolving www.ffts.com (www.ffts.com)... 66.96.149.1\n",
            "Connecting to www.ffts.com (www.ffts.com)|66.96.149.1|:80... connected.\n",
            "HTTP request sent, awaiting response... 200 OK\n",
            "Length: 11805248 (11M) [application/zip]\n",
            "Saving to: ‘lg32965.zip.1’\n",
            "\n",
            "\rlg32965.zip.1         0%[                    ]       0  --.-KB/s               \rlg32965.zip.1         0%[                    ] 107.44K   454KB/s               \rlg32965.zip.1         7%[>                   ] 854.55K  1.77MB/s               \rlg32965.zip.1        55%[==========>         ]   6.28M  8.89MB/s               \rlg32965.zip.1       100%[===================>]  11.26M  13.9MB/s    in 0.8s    \n",
            "\n",
            "2019-12-26 18:59:48 (13.9 MB/s) - ‘lg32965.zip.1’ saved [11805248/11805248]\n",
            "\n",
            "Archive:  lg32965.zip\n",
            "replace recipes_dataset/11000.mmf? [y]es, [n]o, [A]ll, [N]one, [r]ename: y\n",
            "  inflating: recipes_dataset/11000.mmf  \n",
            "replace recipes_dataset/13000.mmf? [y]es, [n]o, [A]ll, [N]one, [r]ename: y\n",
            "  inflating: recipes_dataset/13000.mmf  \n",
            "replace recipes_dataset/15000.mmf? [y]es, [n]o, [A]ll, [N]one, [r]ename: y\n",
            "  inflating: recipes_dataset/15000.mmf  \n",
            "replace recipes_dataset/17000.mmf? [y]es, [n]o, [A]ll, [N]one, [r]ename: A\n",
            "  inflating: recipes_dataset/17000.mmf  \n",
            "  inflating: recipes_dataset/19000.mmf  \n",
            "  inflating: recipes_dataset/20000.mmf  \n",
            "  inflating: recipes_dataset/22000.mmf  \n",
            "  inflating: recipes_dataset/24000.mmf  \n",
            "  inflating: recipes_dataset/26000.mmf  \n",
            "  inflating: recipes_dataset/28000.mmf  \n",
            "  inflating: recipes_dataset/3000.mmf  \n",
            "  inflating: recipes_dataset/31000.mmf  \n",
            "  inflating: recipes_dataset/32965.mmf  \n",
            "  inflating: recipes_dataset/5000.mmf  \n",
            "  inflating: recipes_dataset/7000.mmf  \n",
            "  inflating: recipes_dataset/9000.mmf  \n",
            "  inflating: recipes_dataset/1000.mmf  \n",
            "  inflating: recipes_dataset/10000.mmf  \n",
            "  inflating: recipes_dataset/12000.mmf  \n",
            "  inflating: recipes_dataset/14000.mmf  \n",
            "  inflating: recipes_dataset/16000.mmf  \n",
            "  inflating: recipes_dataset/18000.mmf  \n",
            "  inflating: recipes_dataset/2000.mmf  \n",
            "  inflating: recipes_dataset/21000.mmf  \n",
            "  inflating: recipes_dataset/23000.mmf  \n",
            "  inflating: recipes_dataset/25000.mmf  \n",
            "  inflating: recipes_dataset/27000.mmf  \n",
            "  inflating: recipes_dataset/29000.mmf  \n",
            "  inflating: recipes_dataset/30000.mmf  \n",
            "  inflating: recipes_dataset/32000.mmf  \n",
            "  inflating: recipes_dataset/4000.mmf  \n",
            "  inflating: recipes_dataset/6000.mmf  \n",
            "  inflating: recipes_dataset/8000.mmf  \n",
            "lg32965.zip.1\t\t shakespeare_input.txt.3  simple-examples.tgz.1\n",
            "recipes_dataset\t\t shakespeare_input.txt.4  simple-examples.tgz.2\n",
            "sample_data\t\t shakespeare_input.txt.5  simple-examples.tgz.3\n",
            "shakespeare_input.txt\t shakespeare_input.txt.6  simple-examples.tgz.4\n",
            "shakespeare_input.txt.1  simple-examples\t  simple-examples.tgz.5\n",
            "shakespeare_input.txt.2  simple-examples.tgz\t  simple-examples.tgz.6\n"
          ],
          "name": "stdout"
        }
      ]
    },
    {
      "cell_type": "code",
      "metadata": {
        "id": "YliGO4-7wHZl",
        "colab_type": "code",
        "outputId": "2acf306d-7d97-4f33-fb13-fb664b5b888f",
        "colab": {
          "base_uri": "https://localhost:8080/",
          "height": 119
        }
      },
      "source": [
        "#prepare dataset\n",
        "with open('recipes_dataset/32965.mmf',errors='ignore') as file:\n",
        "  recipes=[]\n",
        "  collector = []\n",
        "  for line in file:\n",
        "    line = str(line).replace('MMMMM','')#.replace('\\n','')\n",
        "    if 'Recipe via Meal-Master (tm) v8.05' in line:\n",
        "      recipes += [''.join(collector)]\n",
        "      collector = []\n",
        "    else:\n",
        "      collector += [line]\n",
        "  recipes += [''.join(collector)]\n",
        "  recipes = recipes[1:]\n",
        "\n",
        "#print statistics\n",
        "total_recipes = ''.join(recipes)\n",
        "print('number of recipes',len(recipes))\n",
        "print('number of tokens',num_token(total_recipes))\n",
        "print('number of characters',num_char(total_recipes))\n",
        "print('vocabulary size',dist_words(total_recipes))\n",
        "print('avg word count',float(np.mean([num_token(rec) for rec in recipes])))\n",
        "print('avg word length')\n"
      ],
      "execution_count": 23,
      "outputs": [
        {
          "output_type": "stream",
          "text": [
            "number of recipes 965\n",
            "number of tokens 201821\n",
            "number of characters 783933\n",
            "vocabulary size 10676\n",
            "avg word count 209.1740932642487\n",
            "avg word length\n"
          ],
          "name": "stdout"
        }
      ]
    },
    {
      "cell_type": "code",
      "metadata": {
        "id": "rZIHQhbqQf6t",
        "colab_type": "code",
        "colab": {}
      },
      "source": [
        "class MyDataLoader():\n",
        "\n",
        "  def __init__(self,dataset):\n",
        "    from math import floor,ceil\n",
        "\n",
        "    self.train_data = dataset[0:floor(0.8*len(dataset))]\n",
        "    self.valid_data = dataset[ceil(0.8*len(dataset)):floor(-0.1*len(dataset))]\n",
        "    self.test_data = dataset[ceil(-0.1*len(dataset)):]"
      ],
      "execution_count": 0,
      "outputs": []
    },
    {
      "cell_type": "code",
      "metadata": {
        "id": "TD2UKmNwQgrX",
        "colab_type": "code",
        "colab": {}
      },
      "source": [
        "dataloader = MyDataLoader(recipes)\n",
        "joined_recipes_train = ''.join(dataloader.train_data)\n",
        "joined_recipes_test = ''.join(dataloader.test_data)\n",
        "joined_recipes_val = ''.join(dataloader.valid_data)\n",
        "\n",
        "# with open('tmp_train.txt', \"w\") as text_file:\n",
        "#   text_file.write(joined_recipes_train)\n",
        "# with open('tmp_test.txt', \"w\") as text_file:\n",
        "#   text_file.write(joined_recipes_test)\n",
        "\n",
        "#using Ben Eyal's implementation for chars lang. model\n",
        "\n",
        "\n",
        "def create_lm(data, n=5):\n",
        "    pad = '$' * (n-1)\n",
        "    data = pad + data\n",
        "    cfd = nltk.ConditionalFreqDist((data[i : i + n-1], data[i + n-1]) for i in range(len(data) - (n-1)))\n",
        "    cpd = nltk.ConditionalProbDist(cfd, nltk.MLEProbDist)\n",
        "    return cpd\n",
        "\n",
        "def chars_generate(lm,n,num_chars):\n",
        "  import string\n",
        "  import random\n",
        "\n",
        "  out = []\n",
        "  hist = '$' * (n-1)\n",
        "  for _ in range(num_chars):\n",
        "      try:\n",
        "        #print(hist)\n",
        "        #print(lm[hist])\n",
        "        letter = lm[hist].generate()\n",
        "      except:\n",
        "        break\n",
        "      hist = hist[1:] + letter\n",
        "      out.append(letter)\n",
        "  print(''.join(out))\n",
        "\n",
        "def chars_perplexity(lm,data,n):\n",
        "  answer = 1\n",
        "  for i in range(len(data) - (n+1)):\n",
        "      prev_chars = data[i:i+n-1]\n",
        "      next_char= data[i+n-1]\n",
        "      eval = lm[prev_chars].prob(next_char)\n",
        "      if eval==0:\n",
        "        eval = 1/(128) #ascii (smoothing)\n",
        "      if eval!=0:\n",
        "        eval = (1/(eval)) **(1/len(data))\n",
        "        answer*= eval\n",
        "  return answer  \n",
        "\n",
        "\n"
      ],
      "execution_count": 0,
      "outputs": []
    },
    {
      "cell_type": "code",
      "metadata": {
        "id": "uNoqJZK8Ehnx",
        "colab_type": "code",
        "colab": {
          "base_uri": "https://localhost:8080/",
          "height": 296
        },
        "outputId": "492f3246-46ad-4d4d-a119-2c8e6b4ae088"
      },
      "source": [
        "n_values = list(range(2,20,2))\n",
        "perplexity_values = []\n",
        "for n in n_values:\n",
        "  lm = create_lm(joined_recipes_train,n=n)\n",
        "  perplexity_values += [chars_perplexity(lm,joined_recipes_val,n=n)]\n",
        "\n",
        "plt.plot(n_values,perplexity_values)\n",
        "plt.xlabel('n')\n",
        "plt.ylabel('PERPLEXITY')"
      ],
      "execution_count": 26,
      "outputs": [
        {
          "output_type": "execute_result",
          "data": {
            "text/plain": [
              "Text(0, 0.5, 'PERPLEXITY')"
            ]
          },
          "metadata": {
            "tags": []
          },
          "execution_count": 26
        },
        {
          "output_type": "display_data",
          "data": {
            "image/png": "[encoded data removed]",
            "text/plain": [
              "<Figure size 432x288 with 1 Axes>"
            ]
          },
          "metadata": {
            "tags": []
          }
        }
      ]
    },
    {
      "cell_type": "code",
      "metadata": {
        "id": "Io0MYhLtKRFu",
        "colab_type": "code",
        "colab": {
          "base_uri": "https://localhost:8080/",
          "height": 476
        },
        "outputId": "b1ffe8c7-7863-4e37-9356-d62d020d2f63"
      },
      "source": [
        "best_n = 6 #according to the graph\n",
        "\n",
        "lm = create_lm(joined_recipes_train, n=best_n)\n",
        "num_chars = int(np.mean([num_char(rec) for rec in dataloader.test_data]))\n",
        "chars_generate(lm,best_n,num_chars)"
      ],
      "execution_count": 27,
      "outputs": [
        {
          "output_type": "stream",
          "text": [
            " \n",
            "     2 tb Onion, may have used in warm. Drain off fat in heavy cream\n",
            " \n",
            "  Place on wire rack, garlic in rice diced\n",
            "     Garlic and rosemary. Arange juice. Add green\n",
            "     1 c  While stirring or milk, sugar\n",
            "  1 1/2 c  Saute' 1 minutes.\n",
            "  \n",
            "  Refrigerated)\n",
            "       2 c  Celery seeded\n",
            "            Title: JIM BOWL. BEAT butter cold seconds, or until mushrooms, basil,\n",
            "  fry on the and remaining zucchini is melt 2 tables, Main dish. Servings\n",
            " \n",
            "    10 oz Tomatoe pasta, Beef Cube cheese - parmesan cheese\n",
            " \n",
            "            Breads, Quick Mix\" tri-fold oven. Add tomatoes, dry shell\n",
            "  foam sugar, egg,\n",
            "  sugar. Preheat oil\n",
            "  though the pear in a cooking. Slowly additions. Over to a boil and servings\n",
            " \n",
            "     Yield: 2 Serve slices in Jiffy Butter\n",
            "    WALT RISING THE SHRIMP\n",
            "        1 c  Milk\n",
            " \n",
            "  1) Press the bay leaf bastina-heat. Breads gave meat dough into a rack. With parsley, salt, sugar, chives and currants.  Cover zucchini has set, instantial.\n",
            "        -mixture.\n",
            "  Knead it make dough i\n"
          ],
          "name": "stdout"
        }
      ]
    },
    {
      "cell_type": "code",
      "metadata": {
        "id": "QU54BptM1u6I",
        "colab_type": "code",
        "colab": {
          "base_uri": "https://localhost:8080/",
          "height": 527
        },
        "outputId": "d6692bba-13e4-4b75-cff4-a8980b09fbae"
      },
      "source": [
        "chars_generate(lm,best_n,num_chars)"
      ],
      "execution_count": 28,
      "outputs": [
        {
          "output_type": "stream",
          "text": [
            " \n",
            "     -minced\n",
            "       Yield: 4 Servings\n",
            " \n",
            "----------------------------------\n",
            "      2 lb Ground beef drip\n",
            "  and strain rind insert Shared by Elizabeth Baird: \"A Blend well. Sprinkle\n",
            "  with freshly ground turkey melted with grease the salads, Quick come of the ingredients and add the cheese\n",
            "       4    Eggs\n",
            "                Celery and hands into the manufacture and egg, finely Choices, hold\n",
            "  more vinegar\n",
            "    1    Make uncooked rimmed\n",
            "    1/4 c  Milk\n",
            "     2 tb Chickens. Spoon and cook one edging the meat from a floured by:\n",
            "  Cover salad or sprinkle with bake 2 1/2 ts Dried, cut in\n",
            "  per servings\n",
            " \n",
            "----------------------JALEBIS------\n",
            "     1 c  Spaghetti or maker\n",
            "      2    green beans; drain.Makes a boiling,\n",
            "  color\n",
            "  absorbed.\n",
            "  \n",
            "  Hazelnut Markets. Strawberry jello\n",
            "       1/4 ts Ginger if need throughly on top will keep a light. Next to sticks of smoke at all\n",
            "  filing the other sauce;\n",
            "      To 3 3/4 c  Bread soup with\n",
            "          1/2 ts Cook 10 minutes.\n",
            "  \n",
            "  Place to sk\n"
          ],
          "name": "stdout"
        }
      ]
    },
    {
      "cell_type": "code",
      "metadata": {
        "id": "bXu7z1qZ74dB",
        "colab_type": "code",
        "colab": {
          "base_uri": "https://localhost:8080/",
          "height": 462
        },
        "outputId": "7f0aae05-ad03-4869-fd12-8e53ca68ba03"
      },
      "source": [
        "chars_generate(lm,best_n,num_chars)"
      ],
      "execution_count": 29,
      "outputs": [
        {
          "output_type": "stream",
          "text": [
            " \n",
            "       3/4 c  Whole to thing thumb and vinegar\n",
            "    1/2 teaspoons of the dough.  Knead the pot, punch dough. Place the been sour cream. Cover meat **\n",
            "     Yield: 4 Serve whites\n",
            "  and tomato salt\n",
            "  2 1/2 ts Instantly. Keep in gummy firm frequently to\n",
            "  chicken stock)\n",
            "     1    Rump roasted by Stephen Ceideburg 2\n",
            "  cup\n",
            "          Yield: 1 10\" to 10 min or\n",
            "    1    Grated Fat...Trace Provalone Cherry or to\n",
            "       10 dr Green pepper and\n",
            "  rack of tomato.\n",
            "        Yield: 6 Servings--except 1/4 c  Milk\n",
            "      6 c  Flour\n",
            "           Yield: 5 Serve in shallow rice and top of\n",
            "  make than 1-inch & arranges.\n",
            "  \n",
            "  Rinse ricotta cheese (sorry, Cognac or cheeses.\n",
            "  \n",
            "  Drain\n",
            "  the jar for\n",
            "            Title: ITALIAN HERB DRESSING TRAY. BAKE\n",
            " Categories: Breads, Ethnic\n",
            "      - uncovered, 1/2 ts Pepper, try is exotic continue until you can use into bring up to 50 minutes, the refrigerate the dried the directions; cut each leaves simmer, stick buttermilk.  Mix well amount of the lemon ju\n"
          ],
          "name": "stdout"
        }
      ]
    },
    {
      "cell_type": "code",
      "metadata": {
        "id": "HwzKLc4R75Ph",
        "colab_type": "code",
        "colab": {
          "base_uri": "https://localhost:8080/",
          "height": 459
        },
        "outputId": "23636db1-504d-4c3d-8b21-9bbe927e75fc"
      },
      "source": [
        "chars_generate(lm,best_n,num_chars)"
      ],
      "execution_count": 30,
      "outputs": [
        {
          "output_type": "stream",
          "text": [
            " \n",
            "          1 md Boil & heat to avoid burner Inn, Sandy Main dish with butter, but, after each adding them completely into 1-inch loaf. 10.  Definitely). Rub\n",
            "  the recipe dough to a bowl mixture to cool combine remaining powder,\n",
            "  fold overnight.\n",
            "   What in refreezer 10 to 15 minutes, then covered Sugar\n",
            "  1 1/2 tb Brown sugar\n",
            "       Yield: 6 Serving effect.\n",
            "  \n",
            "  I tried oregano\n",
            "      1/2 ts Nutmeg\n",
            "  2 1/2 c  Sugar\n",
            "    1/4 c  Whole Alaska Seafoo, Fish sauce, green peppercornstarch\n",
            "     Title: JAMBALAYA I\n",
            " Categories: Appetizers, cut out onions and shaving pa= n, and crumbs,dressing to escarole\n",
            "  bowl compiled potatoes--lettuce.\n",
            "  \n",
            "  Mix all ingredients\n",
            "              Yield: 1 Serving-- canning so you add browns Johnsonian.\n",
            "  \n",
            "      (12 ounces sounds with to full recipe By        Yield: 16 Servings\n",
            " \n",
            "      2 c  Mayonaise. Discard and diced dried basil\n",
            "    Fresh crushed\n",
            "     1/4 c  Red apricots,\n",
            "  cabbage; cut in large heat eggplant\n",
            "  dish at a time, beaten well. Season\n"
          ],
          "name": "stdout"
        }
      ]
    },
    {
      "cell_type": "markdown",
      "metadata": {
        "id": "SZnleYE677RU",
        "colab_type": "text"
      },
      "source": [
        "###Observations\n",
        "We can see that the LM's dist. can 'understand' the structure of recipes. That is, understand a syntax similar to [amount] [unit] [ingredient] [activity]* \n",
        "\n",
        "We also observe that some ingredient typically occure in the beginning, such as Oregano, we have no idea why it happens.\n",
        "\n",
        "The model doesn't do indendation like the dataset. It doesn't finish some sentences.\n",
        "\n",
        "Although the model is for characters, we can see that it's not completely gibberish, there are many real English words that appear semantically in the vocabullary of recipes, as we expected.\n"
      ]
    },
    {
      "cell_type": "code",
      "metadata": {
        "id": "wlcNOpk987Vw",
        "colab_type": "code",
        "colab": {}
      },
      "source": [
        ""
      ],
      "execution_count": 0,
      "outputs": []
    },
    {
      "cell_type": "markdown",
      "metadata": {
        "id": "aMvIhgoW9tC_",
        "colab_type": "text"
      },
      "source": [
        "#Part 2"
      ]
    },
    {
      "cell_type": "code",
      "metadata": {
        "id": "mCc1F4Lv_1uW",
        "colab_type": "code",
        "colab": {}
      },
      "source": [
        "import matplotlib.pyplot as plt\n",
        "import matplotlib\n",
        "import math\n",
        "import numpy as np\n",
        "import scipy.linalg"
      ],
      "execution_count": 0,
      "outputs": []
    },
    {
      "cell_type": "code",
      "metadata": {
        "id": "LrHiKNiP9wz0",
        "colab_type": "code",
        "colab": {}
      },
      "source": [
        "def generateDataset(N, f, sigma):\n",
        "  mu = 0.0\n",
        "  vf = np.vectorize(f)\n",
        "  x = np.linspace(0,1,num=N)\n",
        "  noise = np.random.normal(loc=mu,scale=sigma,size=N)\n",
        "  t = vf(x) + noise\n",
        "  return (x,t)"
      ],
      "execution_count": 0,
      "outputs": []
    },
    {
      "cell_type": "code",
      "metadata": {
        "id": "wbNxOkBS-4by",
        "colab_type": "code",
        "colab": {
          "base_uri": "https://localhost:8080/",
          "height": 284
        },
        "outputId": "97e44b54-eabe-42bd-a022-8a549979191d"
      },
      "source": [
        "#sanity check\n",
        "f = lambda x : math.sin(math.pi * 2 * x)\n",
        "plt.plot(*generateDataset(10,f,0.1))"
      ],
      "execution_count": 33,
      "outputs": [
        {
          "output_type": "execute_result",
          "data": {
            "text/plain": [
              "[<matplotlib.lines.Line2D at 0x7f667d5630b8>]"
            ]
          },
          "metadata": {
            "tags": []
          },
          "execution_count": 33
        },
        {
          "output_type": "display_data",
          "data": {
            "image/png": "[encoded data removed]",
            "text/plain": [
              "<Figure size 432x288 with 1 Axes>"
            ]
          },
          "metadata": {
            "tags": []
          }
        }
      ]
    },
    {
      "cell_type": "code",
      "metadata": {
        "id": "85QvFT9V_cmG",
        "colab_type": "code",
        "colab": {}
      },
      "source": [
        "def OptimizeLS(x, t, M):                      \n",
        "  phi = np.vander(x,M+1,True)\n",
        "  prod = np.dot(phi.T, phi)             \n",
        "  i = np.linalg.inv(prod)\n",
        "  m = np.dot(i, phi.T)\n",
        "  w = np.dot(m, t)\n",
        "  return w                                                              "
      ],
      "execution_count": 0,
      "outputs": []
    },
    {
      "cell_type": "code",
      "metadata": {
        "id": "-4VESXd4j6u9",
        "colab_type": "code",
        "colab": {
          "base_uri": "https://localhost:8080/",
          "height": 85
        },
        "outputId": "bd7e0d81-9a02-4bfb-a908-e5e4a53be60c"
      },
      "source": [
        "np.vander([1,2,3,4],3,True)"
      ],
      "execution_count": 35,
      "outputs": [
        {
          "output_type": "execute_result",
          "data": {
            "text/plain": [
              "array([[ 1,  1,  1],\n",
              "       [ 1,  2,  4],\n",
              "       [ 1,  3,  9],\n",
              "       [ 1,  4, 16]])"
            ]
          },
          "metadata": {
            "tags": []
          },
          "execution_count": 35
        }
      ]
    },
    {
      "cell_type": "code",
      "metadata": {
        "id": "pYNkVAzeQcsN",
        "colab_type": "code",
        "colab": {
          "base_uri": "https://localhost:8080/",
          "height": 282
        },
        "outputId": "3a161040-6c5a-48c8-d7c1-f27be90b8d6c"
      },
      "source": [
        "(x,t) = generateDataset(10,f,0.1)\n",
        "plt.plot(x,t)"
      ],
      "execution_count": 36,
      "outputs": [
        {
          "output_type": "execute_result",
          "data": {
            "text/plain": [
              "[<matplotlib.lines.Line2D at 0x7f667d61cbe0>]"
            ]
          },
          "metadata": {
            "tags": []
          },
          "execution_count": 36
        },
        {
          "output_type": "display_data",
          "data": {
            "image/png": "[encoded data removed]",
            "text/plain": [
              "<Figure size 432x288 with 1 Axes>"
            ]
          },
          "metadata": {
            "tags": []
          }
        }
      ]
    },
    {
      "cell_type": "code",
      "metadata": {
        "id": "-_TiMtzM_zbW",
        "colab_type": "code",
        "colab": {
          "base_uri": "https://localhost:8080/",
          "height": 282
        },
        "outputId": "127f46cb-7758-4ddb-d254-1337f3eb063f"
      },
      "source": [
        "N = 10\n",
        "get_y = lambda w,M: lambda x: sum([w[i]*(x**i) for i in range(M+1)])\n",
        "(x,t) = generateDataset(N,f,0.03)\n",
        "plt.plot(x,t)\n",
        "for M in [1,3,5,10]:\n",
        "  w = OptimizeLS(x,t,M)\n",
        "  y_hat = np.vectorize(get_y(w,M))\n",
        "  plt.plot(x,y_hat(x))\n",
        "plt.legend(['sin(2*pi*x)+noise','y_hat_1','y_hat_3','y_hat_5','y_hat_10'])"
      ],
      "execution_count": 37,
      "outputs": [
        {
          "output_type": "execute_result",
          "data": {
            "text/plain": [
              "<matplotlib.legend.Legend at 0x7f6661f37668>"
            ]
          },
          "metadata": {
            "tags": []
          },
          "execution_count": 37
        },
        {
          "output_type": "display_data",
          "data": {
            "image/png": "[encoded data removed]",
            "text/plain": [
              "<Figure size 432x288 with 1 Axes>"
            ]
          },
          "metadata": {
            "tags": []
          }
        }
      ]
    },
    {
      "cell_type": "code",
      "metadata": {
        "id": "mjT_hZugwvHd",
        "colab_type": "code",
        "colab": {}
      },
      "source": [
        ""
      ],
      "execution_count": 0,
      "outputs": []
    },
    {
      "cell_type": "markdown",
      "metadata": {
        "id": "hHf9K1YamqRk",
        "colab_type": "text"
      },
      "source": [
        "##2.4"
      ]
    },
    {
      "cell_type": "code",
      "metadata": {
        "id": "SVW6mFTHHmSY",
        "colab_type": "code",
        "colab": {}
      },
      "source": [
        "def generateDataset3(N,f,sigma):\n",
        "  from math import ceil,floor\n",
        "  mu = 0.0\n",
        "  vf = np.vectorize(f)\n",
        "  x = np.linspace(0,1,num=N*3)\n",
        "\n",
        "  noise = np.random.normal(loc=mu,scale=sigma,size=N*3)\n",
        "  t = vf(x) + noise\n",
        "  pairs = list(zip(x,t))\n",
        "  #print(list(zip(x,t)))\n",
        "  np.random.shuffle(pairs)\n",
        "  #print(pairs)\n",
        "  def sort_by_x(lst):\n",
        "    return sorted(lst,key=lambda x : x[0])\n",
        "  train = sort_by_x(pairs[0:N])\n",
        "  valid = sort_by_x(pairs[N:2*N])\n",
        "  test = sort_by_x(pairs[2*N:])\n",
        "  return train,valid,test"
      ],
      "execution_count": 0,
      "outputs": []
    },
    {
      "cell_type": "code",
      "metadata": {
        "id": "GNERrMn5ouNe",
        "colab_type": "code",
        "colab": {
          "base_uri": "https://localhost:8080/",
          "height": 284
        },
        "outputId": "d7262014-8228-4190-802b-246d95663b4b"
      },
      "source": [
        "a,b,c = generateDataset3(10,f,0.1)\n",
        "a_x = [x for x,_ in a]\n",
        "a_y = [y for _,y in a]\n",
        "plt.plot(a_x,a_y)"
      ],
      "execution_count": 39,
      "outputs": [
        {
          "output_type": "execute_result",
          "data": {
            "text/plain": [
              "[<matplotlib.lines.Line2D at 0x7f6678832a90>]"
            ]
          },
          "metadata": {
            "tags": []
          },
          "execution_count": 39
        },
        {
          "output_type": "display_data",
          "data": {
            "image/png": "[encoded data removed]",
            "text/plain": [
              "<Figure size 432x288 with 1 Axes>"
            ]
          },
          "metadata": {
            "tags": []
          }
        }
      ]
    },
    {
      "cell_type": "code",
      "metadata": {
        "id": "AyXt65LQsdHf",
        "colab_type": "code",
        "colab": {}
      },
      "source": [
        "def optimizePLS(x, t, M, _lambda):\n",
        "  phi = np.vander(x,M+1,True)\n",
        "  prod = np.dot(phi.T, phi)\n",
        "  lambda_mat = np.eye(M+1)*_lambda + prod\n",
        "  i = np.linalg.inv(lambda_mat)\n",
        "  m = np.dot(i, phi.T)\n",
        "  w = np.dot(m, t)\n",
        "  return w   "
      ],
      "execution_count": 0,
      "outputs": []
    },
    {
      "cell_type": "code",
      "metadata": {
        "id": "Ak-EiTzho1M0",
        "colab_type": "code",
        "colab": {}
      },
      "source": [
        "def optimizePLS2(xt, tt, xv, tv, M):\n",
        "  N = len(xt)\n",
        "  min_error  = [1,1,float(\"inf\")]\n",
        "  for log_lambda in range(-40,-20):\n",
        "    w = optimizePLS(xt,tt,M,2**log_lambda)\n",
        "    error = calculate_error(w,xv,tv)\n",
        "    if error<min_error[2]:\n",
        "      min_error = [2**log_lambda,w,error]\n",
        "  print('chosen lambda',min_error[0])\n",
        "  return min_error[0],w"
      ],
      "execution_count": 0,
      "outputs": []
    },
    {
      "cell_type": "code",
      "metadata": {
        "id": "mnwps6fCpjxq",
        "colab_type": "code",
        "colab": {}
      },
      "source": [
        "def calculate_error(w,x,y):\n",
        "  poly = np.vectorize(get_y(w,M))\n",
        "  poly = poly(x)\n",
        "  power2 = lambda x : x**2\n",
        "  error = (1/N)*(sum(power2(y - poly)))**(1/2)\n",
        "  return error"
      ],
      "execution_count": 0,
      "outputs": []
    },
    {
      "cell_type": "code",
      "metadata": {
        "id": "bEfnjJ900ECW",
        "colab_type": "code",
        "colab": {
          "base_uri": "https://localhost:8080/",
          "height": 317
        },
        "outputId": "3ed03fa1-1181-4df7-df07-0776cd38ae4a"
      },
      "source": [
        "for N in [10,100]:\n",
        "  (train,val,test) = generateDataset3(N,f,0.03)\n",
        "  xt = [x for x,_ in train]\n",
        "  tt = [x for _,x in train]\n",
        "  xv = [x for x,_ in val]\n",
        "  tv = [x for _,x in val]\n",
        "  xtest = [x for x,_ in test]\n",
        "  ttest = [x for _,x in test]\n",
        "  M = N - 1\n",
        "  _,w = optimizePLS2(xt,tt,xv,tv,M)\n",
        "  plt.scatter(N,calculate_error(w,xt,tt))\n",
        "  plt.scatter(N,calculate_error(w,xv,tv))\n",
        "  plt.scatter(N,calculate_error(w,xtest,ttest))\n",
        "plt.legend(['train','valid','test','train','valid','test'])"
      ],
      "execution_count": 43,
      "outputs": [
        {
          "output_type": "stream",
          "text": [
            "chosen lambda 4.656612873077393e-10\n",
            "chosen lambda 1.1920928955078125e-07\n"
          ],
          "name": "stdout"
        },
        {
          "output_type": "execute_result",
          "data": {
            "text/plain": [
              "<matplotlib.legend.Legend at 0x7f667d5ac908>"
            ]
          },
          "metadata": {
            "tags": []
          },
          "execution_count": 43
        },
        {
          "output_type": "display_data",
          "data": {
            "image/png": "[encoded data removed]",
            "text/plain": [
              "<Figure size 432x288 with 1 Axes>"
            ]
          },
          "metadata": {
            "tags": []
          }
        }
      ]
    },
    {
      "cell_type": "markdown",
      "metadata": {
        "id": "At9URsDOXiK7",
        "colab_type": "text"
      },
      "source": [
        "##2.4"
      ]
    },
    {
      "cell_type": "code",
      "metadata": {
        "id": "ERjWNq-bTDTV",
        "colab_type": "code",
        "colab": {}
      },
      "source": [
        "import numpy as np\n",
        "\n",
        "\n",
        "def bayesianEstimator(x,t,M,alpha,sigma2):\n",
        "  def phi(x):\n",
        "    return np.array([x**i for i in range(M+1)]).reshape((M+1),1)\n",
        "  N = len(x)\n",
        "  phi_sum = np.zeros((M+1,M+1))\n",
        "  for n in range (N):\n",
        "    phi_sum  += np.multiply(phi(x[n]),(phi(x[n]).T))\n",
        "  S_inv = alpha*np.identity(M+1) + np.dot((1/sigma2),phi_sum)\n",
        "  phi_mat = np.vander(x,M+1,True)\n",
        "  S = np.linalg.inv(S_inv)\n",
        "  def mean(xi):\n",
        "    sumX = np.array([0]*(M+1))\n",
        "    for n in range(N):\n",
        "      a = np.dot(phi_mat[n], t[n])\n",
        "      sumX = np.add(sumX,a)\n",
        "    return (1/sigma2)*(phi(xi).T)@S@sumX\n",
        "  \n",
        "  def variance(x):\n",
        "    return sigma2 + (phi(x).T)@S@phi(x)\n",
        "\n",
        "  return (mean,variance)"
      ],
      "execution_count": 0,
      "outputs": []
    },
    {
      "cell_type": "code",
      "metadata": {
        "id": "ThwM6d2Ob1he",
        "colab_type": "code",
        "colab": {
          "base_uri": "https://localhost:8080/",
          "height": 298
        },
        "outputId": "45c26beb-7a46-4b70-d941-a6f3f35032db"
      },
      "source": [
        "\n",
        "x, t = generateDataset(N=100,f=lambda x: math.sin(2*np.pi*x),sigma=math.sqrt(1/11.1))\n",
        "m,v = bayesianEstimator(x,t,9,0.005,1/11.1)\n",
        "\n",
        "# x_real = sorted(np.random.normal(0,1,100)\n",
        "x_real = np.arange(0, 1, 0.01)\n",
        "y_real = np.sin(2*np.pi*x_real)\n",
        "\n",
        "\n",
        "m = np.vectorize(m)\n",
        "v = np.vectorize(v)\n",
        "mean = m(x_real)\n",
        "#mean = [m(t) for t in x_real]\n",
        "variance = v(x_real)\n",
        "#variance = [v(t) for t in x_real]\n",
        "\n",
        "SD = np.sqrt(variance)\n",
        "upper = mean + SD\n",
        "lower = mean - SD\n",
        "\n",
        "\n",
        "\n",
        "plt.plot(x, t, 'bo')\n",
        "plt.plot(x_real, y_real, 'g-')\n",
        "plt.plot(x_real, mean, 'r-')\n",
        "plt.fill_between(x_real, upper, lower, color='pink')\n",
        "plt.xlim(0.0, 1.0)\n",
        "plt.ylim(-2, 2)\n",
        "plt.title('Bayesian Estimation')"
      ],
      "execution_count": 215,
      "outputs": [
        {
          "output_type": "execute_result",
          "data": {
            "text/plain": [
              "Text(0.5, 1.0, 'Bayesian Estimation')"
            ]
          },
          "metadata": {
            "tags": []
          },
          "execution_count": 215
        },
        {
          "output_type": "display_data",
          "data": {
            "image/png": "[encoded data removed]",
            "text/plain": [
              "<Figure size 432x288 with 1 Axes>"
            ]
          },
          "metadata": {
            "tags": []
          }
        }
      ]
    },
    {
      "cell_type": "markdown",
      "metadata": {
        "id": "cnoteGcJH73d",
        "colab_type": "text"
      },
      "source": [
        "A way to make this height very small in one segment of the function and large in another is to sample x_real from another distrubution (not uniform) and create dataset which varies from zero variance on the first x in x_real to high variance on the last."
      ]
    },
    {
      "cell_type": "markdown",
      "metadata": {
        "id": "oStL3HnrbR6Z",
        "colab_type": "text"
      },
      "source": [
        "**Part 3**"
      ]
    },
    {
      "cell_type": "markdown",
      "metadata": {
        "id": "ABiuktL7bVBU",
        "colab_type": "text"
      },
      "source": [
        "3.1"
      ]
    },
    {
      "cell_type": "code",
      "metadata": {
        "id": "-NZkoRGbbWb6",
        "colab_type": "code",
        "colab": {}
      },
      "source": [
        "### PyTorch Tutorial Summary\n",
        "\n",
        "Our dataset is designed by 9 text files, each for a language, where every line is a city name by that language.\n",
        "The task is to classify cities's names to its language.\n",
        "\n",
        "The method is to train a simple RNN character model, where every character is represented by a one-hot vector thus a name is a matrix.\n",
        "\n",
        "The loss funciton is the negative log likelihood loss. It is useful to train a classification problem with C classes.\n",
        "\n",
        "The evaluation method is a confusion matrix. The results are good, we can observe that generally the model can detect the label correctly."
      ],
      "execution_count": 0,
      "outputs": []
    },
    {
      "cell_type": "markdown",
      "metadata": {
        "id": "6UCYDnEKbgA7",
        "colab_type": "text"
      },
      "source": [
        "3.2"
      ]
    },
    {
      "cell_type": "code",
      "metadata": {
        "id": "UuEcEh1EbifG",
        "colab_type": "code",
        "colab": {
          "base_uri": "https://localhost:8080/",
          "height": 816
        },
        "outputId": "d1b4b416-97b8-4063-cd22-7d13eb1c75d7"
      },
      "source": [
        "!mkdir -p ../data/cities\n",
        "\n",
        "!wget http://computational-linguistics-class.org/downloads/hw6/cities_val.zip\n",
        "!wget http://computational-linguistics-class.org/downloads/hw6/cities_train.zip\n",
        "\n",
        "!unzip cities_val.zip -d ../data/cities/\n",
        "!unzip cities_train.zip -d ../data/cities/\n",
        "\n",
        "!rm cities_train.zip\n",
        "!rm cities_val.zip\n",
        "!ls ../data   "
      ],
      "execution_count": 274,
      "outputs": [
        {
          "output_type": "stream",
          "text": [
            "--2019-12-26 22:57:53--  http://computational-linguistics-class.org/downloads/hw6/cities_val.zip\n",
            "Resolving computational-linguistics-class.org (computational-linguistics-class.org)... 185.199.110.153\n",
            "Connecting to computational-linguistics-class.org (computational-linguistics-class.org)|185.199.110.153|:80... connected.\n",
            "HTTP request sent, awaiting response... 200 OK\n",
            "Length: 7558 (7.4K) [application/zip]\n",
            "Saving to: ‘cities_val.zip’\n",
            "\n",
            "\rcities_val.zip        0%[                    ]       0  --.-KB/s               \rcities_val.zip      100%[===================>]   7.38K  --.-KB/s    in 0s      \n",
            "\n",
            "2019-12-26 22:57:53 (732 MB/s) - ‘cities_val.zip’ saved [7558/7558]\n",
            "\n",
            "--2019-12-26 22:57:56--  http://computational-linguistics-class.org/downloads/hw6/cities_train.zip\n",
            "Resolving computational-linguistics-class.org (computational-linguistics-class.org)... 185.199.110.153\n",
            "Connecting to computational-linguistics-class.org (computational-linguistics-class.org)|185.199.110.153|:80... connected.\n",
            "HTTP request sent, awaiting response... 200 OK\n",
            "Length: 159676 (156K) [application/zip]\n",
            "Saving to: ‘cities_train.zip’\n",
            "\n",
            "cities_train.zip    100%[===================>] 155.93K  --.-KB/s    in 0.01s   \n",
            "\n",
            "2019-12-26 22:57:56 (13.9 MB/s) - ‘cities_train.zip’ saved [159676/159676]\n",
            "\n",
            "Archive:  cities_val.zip\n",
            "   creating: ../data/cities/val/\n",
            "  inflating: ../data/cities/val/af.txt  \n",
            "  inflating: ../data/cities/val/cn.txt  \n",
            "  inflating: ../data/cities/val/de.txt  \n",
            "  inflating: ../data/cities/val/fi.txt  \n",
            "  inflating: ../data/cities/val/fr.txt  \n",
            "  inflating: ../data/cities/val/ir.txt  \n",
            "  inflating: ../data/cities/val/za.txt  \n",
            "  inflating: ../data/cities/val/pk.txt  \n",
            "  inflating: ../data/cities/val/in.txt  \n",
            "Archive:  cities_train.zip\n",
            "   creating: ../data/cities/train/\n",
            "  inflating: ../data/cities/train/af.txt  \n",
            "  inflating: ../data/cities/train/de.txt  \n",
            "  inflating: ../data/cities/train/fi.txt  \n",
            "  inflating: ../data/cities/train/fr.txt  \n",
            "  inflating: ../data/cities/train/in.txt  \n",
            "  inflating: ../data/cities/train/ir.txt  \n",
            "  inflating: ../data/cities/train/cn.txt  \n",
            "  inflating: ../data/cities/train/za.txt  \n",
            "  inflating: ../data/cities/train/pk.txt  \n",
            "cities\t\t   ptb.char.train.txt  ptb.test.txt.out  ptb.valid.txt.out\n",
            "data\t\t   ptb.char.valid.txt  ptb.train.txt\t README\n",
            "ptb.char.test.txt  ptb.test.txt        ptb.valid.txt\n"
          ],
          "name": "stdout"
        }
      ]
    },
    {
      "cell_type": "code",
      "metadata": {
        "id": "CD6Z1s5CbjJL",
        "colab_type": "code",
        "colab": {}
      },
      "source": [
        "import codecs\n",
        "import math\n",
        "import random\n",
        "import string\n",
        "import time\n",
        "import numpy as np\n",
        "import torch\n",
        "from sklearn.metrics import accuracy_score\n",
        "\n",
        "'''\n",
        "Don't change these constants for the classification task.\n",
        "You may use different copies for the sentence generation model.\n",
        "'''\n",
        "languages = [\"af\", \"cn\", \"de\", \"fi\", \"fr\", \"in\", \"ir\", \"pk\", \"za\"]\n",
        "all_letters = string.ascii_letters + \" .,;'\"\n",
        "n_letters = len(all_letters)\n",
        "\n",
        "import unicodedata\n",
        "\n",
        "# Turn a Unicode string to plain ASCII, thanks to https://stackoverflow.com/a/518232/2809427\n",
        "def unicodeToAscii(s):\n",
        "    return ''.join(\n",
        "        c for c in unicodedata.normalize('NFD', s)\n",
        "        if unicodedata.category(c) != 'Mn'\n",
        "        and c in all_letters\n",
        "    )\n",
        "\n",
        "# print(unicodeToAscii('Ślusàrski'))\n",
        "\n",
        "# Build the category_lines dictionary, a list of names per language\n",
        "category_lines = {}\n",
        "all_categories = []\n",
        "\n",
        "# Read a file and split into lines\n",
        "def readLines(filename):\n",
        "    lines = codecs.open(filename, \"r\",encoding='utf-8', errors='ignore').read().strip().split('\\n')\n",
        "    return [unicodeToAscii(line) for line in lines]"
      ],
      "execution_count": 0,
      "outputs": []
    },
    {
      "cell_type": "code",
      "metadata": {
        "id": "Np1VB3RTbntv",
        "colab_type": "code",
        "colab": {
          "base_uri": "https://localhost:8080/",
          "height": 799
        },
        "outputId": "bc416758-ab54-4ce4-bf7d-bba1020ba27f"
      },
      "source": [
        "#per category - #tokens, #characters, #distinct characters, #average of characters per token\n",
        "print('~Number of categories is',len(languages),'~')\n",
        "for lang in languages:\n",
        "    lines = readLines('../data/cities/train/'+lang+'.txt')\n",
        "    txt = ''.join(lines)\n",
        "    print('**For language:',lang)\n",
        "    print('Number of token is',num_token(' '.join(lines)))\n",
        "    print('Number of chars for is',sum([len(l) for l in lines]))\n",
        "    print('Number of distinct characters is',len(set(txt)))\n",
        "    print('Average number of characters per token is',sum([len(w) for w in nltk.word_tokenize(' '.join(lines))])/num_token(txt))\n",
        "\n"
      ],
      "execution_count": 276,
      "outputs": [
        {
          "output_type": "stream",
          "text": [
            "~Number of categories is 9 ~\n",
            "**For language: af\n",
            "Number of token is 4905\n",
            "Number of chars for is 32537\n",
            "Number of distinct characters is 28\n",
            "Average number of characters per token is 16.50242065626681\n",
            "**For language: cn\n",
            "Number of token is 3258\n",
            "Number of chars for is 28946\n",
            "Number of distinct characters is 27\n",
            "Average number of characters per token is 110.76447876447877\n",
            "**For language: de\n",
            "Number of token is 5287\n",
            "Number of chars for is 37377\n",
            "Number of distinct characters is 29\n",
            "Average number of characters per token is 15.300915830789359\n",
            "**For language: fi\n",
            "Number of token is 4185\n",
            "Number of chars for is 31037\n",
            "Number of distinct characters is 29\n",
            "Average number of characters per token is 25.21368243243243\n",
            "**For language: fr\n",
            "Number of token is 3948\n",
            "Number of chars for is 33448\n",
            "Number of distinct characters is 29\n",
            "Average number of characters per token is 34.4375\n",
            "**For language: in\n",
            "Number of token is 4333\n",
            "Number of chars for is 33991\n",
            "Number of distinct characters is 29\n",
            "Average number of characters per token is 24.2555720653789\n",
            "**For language: ir\n",
            "Number of token is 4926\n",
            "Number of chars for is 33172\n",
            "Number of distinct characters is 29\n",
            "Average number of characters per token is 16.15253360910031\n",
            "**For language: pk\n",
            "Number of token is 5707\n",
            "Number of chars for is 34561\n",
            "Number of distinct characters is 29\n",
            "Average number of characters per token is 11.715758468335787\n",
            "**For language: za\n",
            "Number of token is 4568\n",
            "Number of chars for is 33110\n",
            "Number of distinct characters is 29\n",
            "Average number of characters per token is 20.18937939859245\n"
          ],
          "name": "stdout"
        }
      ]
    },
    {
      "cell_type": "markdown",
      "metadata": {
        "id": "NmxLUb3Tbu6g",
        "colab_type": "text"
      },
      "source": [
        "unicodeToAscii is a good idea because different languages denote different unicode values for the same character in Ascii - by converting to Ascii we can analyze better."
      ]
    },
    {
      "cell_type": "markdown",
      "metadata": {
        "id": "64GU3131bygh",
        "colab_type": "text"
      },
      "source": [
        "3.3"
      ]
    },
    {
      "cell_type": "code",
      "metadata": {
        "id": "E2XgVrrfbrEm",
        "colab_type": "code",
        "colab": {}
      },
      "source": [
        "import glob\n",
        "import os\n",
        "from io import open\n",
        "\n",
        "def findFiles(path): \n",
        "    return glob.glob(path)\n",
        " \n",
        "category_lines = {}\n",
        "val_category_lines = {}\n",
        "\n",
        "for filename in findFiles('../data/cities/train/*.txt'):\n",
        "    category = os.path.splitext(os.path.basename(filename))[0]\n",
        "    if category not in all_categories:\n",
        "        all_categories.append(category)\n",
        "    lines = readLines(filename)\n",
        "    category_lines[category] = lines\n",
        "n_categories = len(all_categories)\n",
        "\n",
        "for filename in findFiles('../data/cities/test/*.txt'):\n",
        "    category = os.path.splitext(os.path.basename(filename))[0]\n",
        "    lines = readLines(filename)\n",
        "    test_category_lines[category] = lines"
      ],
      "execution_count": 0,
      "outputs": []
    },
    {
      "cell_type": "code",
      "metadata": {
        "id": "XdVs-qI-b0au",
        "colab_type": "code",
        "colab": {}
      },
      "source": [
        "def letterToIndex(letter):\n",
        "    return all_letters.find(letter)\n",
        "\n",
        "def letterToTensor(letter):\n",
        "    tensor = torch.zeros(1, n_letters)\n",
        "    tensor[0][letterToIndex(letter)] = 1\n",
        "    return tensor\n",
        "\n",
        "def lineToTensor(line):\n",
        "    tensor = torch.zeros(len(line), 1, n_letters)\n",
        "    for li, letter in enumerate(line):\n",
        "        tensor[li][0][letterToIndex(letter)] = 1\n",
        "    return tensor\n"
      ],
      "execution_count": 0,
      "outputs": []
    },
    {
      "cell_type": "code",
      "metadata": {
        "id": "9rK1KlHeb2V0",
        "colab_type": "code",
        "colab": {}
      },
      "source": [
        "import torch.nn as nn\n",
        "\n",
        "class RNN(nn.Module):\n",
        "    def __init__(self, input_size, hidden_size, output_size):\n",
        "        super(RNN, self).__init__()\n",
        "\n",
        "        self.hidden_size = hidden_size\n",
        "\n",
        "        self.i2h = nn.Linear(input_size + hidden_size, hidden_size)\n",
        "        self.i2o = nn.Linear(input_size + hidden_size, output_size)\n",
        "        self.softmax = nn.LogSoftmax(dim=1)\n",
        "\n",
        "    def forward(self, input, hidden):\n",
        "        combined = torch.cat((input, hidden), 1)\n",
        "        hidden = self.i2h(combined)\n",
        "        output = self.i2o(combined)\n",
        "        output = self.softmax(output)\n",
        "        return output, hidden\n",
        "\n",
        "    def initHidden(self):\n",
        "        return torch.zeros(1, self.hidden_size)\n",
        "\n",
        "n_hidden = 128\n",
        "rnn = RNN(n_letters, n_hidden, n_categories)"
      ],
      "execution_count": 0,
      "outputs": []
    },
    {
      "cell_type": "code",
      "metadata": {
        "id": "njJsmV10b4W7",
        "colab_type": "code",
        "colab": {}
      },
      "source": [
        "input = letterToTensor('A')\n",
        "hidden =torch.zeros(1, n_hidden)\n",
        "\n",
        "output, next_hidden = rnn(input, hidden)"
      ],
      "execution_count": 0,
      "outputs": []
    },
    {
      "cell_type": "code",
      "metadata": {
        "id": "_B5iMfPwb6Ex",
        "colab_type": "code",
        "colab": {
          "base_uri": "https://localhost:8080/",
          "height": 34
        },
        "outputId": "18275f39-42fc-4ac2-92d2-2703b39b9258"
      },
      "source": [
        "def categoryFromOutput(output):\n",
        "    top_n, top_i = output.topk(1)\n",
        "    category_i = top_i[0].item()\n",
        "    return all_categories[category_i], category_i\n",
        "print(categoryFromOutput(output))"
      ],
      "execution_count": 281,
      "outputs": [
        {
          "output_type": "stream",
          "text": [
            "('za', 0)\n"
          ],
          "name": "stdout"
        }
      ]
    },
    {
      "cell_type": "code",
      "metadata": {
        "id": "pkwpnpOQb7_0",
        "colab_type": "code",
        "colab": {
          "base_uri": "https://localhost:8080/",
          "height": 187
        },
        "outputId": "ac274d3f-1159-4ad6-bb66-ad9ff645a819"
      },
      "source": [
        "import random\n",
        "\n",
        "def randomChoice(l):\n",
        "    return l[random.randint(0, len(l) - 1)]\n",
        "\n",
        "def randomTrainingExample():\n",
        "    category = randomChoice(all_categories)\n",
        "    line = randomChoice(category_lines[category])\n",
        "    category_tensor = torch.tensor([all_categories.index(category)], dtype=torch.long)\n",
        "    line_tensor = lineToTensor(line)\n",
        "    return category, line, category_tensor, line_tensor\n",
        "\n",
        "for i in range(10):\n",
        "    category, line, category_tensor, line_tensor = randomTrainingExample()\n",
        "    print('category =', category, '/ line =', line)"
      ],
      "execution_count": 282,
      "outputs": [
        {
          "output_type": "stream",
          "text": [
            "category = cn / line = cesky sicndorf\n",
            "category = pk / line = dori\n",
            "category = in / line = pritugainy\n",
            "category = in / line = winebrenners crossroad\n",
            "category = cn / line = shashigang\n",
            "category = cn / line = yutai\n",
            "category = pk / line = mema\n",
            "category = af / line = nurmukhammedkalay\n",
            "category = fr / line = camsilvestre\n",
            "category = ir / line = khairu khel sarga\n"
          ],
          "name": "stdout"
        }
      ]
    },
    {
      "cell_type": "code",
      "metadata": {
        "id": "K0QsakGvcBWL",
        "colab_type": "code",
        "colab": {}
      },
      "source": [
        "criterion = nn.NLLLoss()"
      ],
      "execution_count": 0,
      "outputs": []
    },
    {
      "cell_type": "code",
      "metadata": {
        "id": "zPaQ3MwscEd2",
        "colab_type": "code",
        "colab": {}
      },
      "source": [
        "learning_rate = 0.002 \n",
        "\n",
        "def train(category_tensor, line_tensor):\n",
        "    hidden = rnn.initHidden()\n",
        "\n",
        "    rnn.zero_grad()\n",
        "\n",
        "    for i in range(line_tensor.size()[0]):\n",
        "        output, hidden = rnn(line_tensor[i], hidden)\n",
        "\n",
        "    loss = criterion(output, category_tensor)\n",
        "    loss.backward()\n",
        "\n",
        "    for p in rnn.parameters():\n",
        "        p.data.add_(-learning_rate, p.grad.data)\n",
        "\n",
        "    return output, loss.item()"
      ],
      "execution_count": 0,
      "outputs": []
    },
    {
      "cell_type": "code",
      "metadata": {
        "id": "j63I7JD4cGYZ",
        "colab_type": "code",
        "colab": {
          "base_uri": "https://localhost:8080/",
          "height": 357
        },
        "outputId": "abd7841b-bed0-4861-9892-5f5fcb90c60c"
      },
      "source": [
        "import time\n",
        "import math\n",
        "\n",
        "n_iters = 100000\n",
        "print_every = 5000\n",
        "plot_every = 1000\n",
        "\n",
        "\n",
        "\n",
        "# Keep track of losses for plotting\n",
        "current_loss = 0\n",
        "all_losses = []\n",
        "\n",
        "def timeSince(since):\n",
        "    now = time.time()\n",
        "    s = now - since\n",
        "    m = math.floor(s / 60)\n",
        "    s -= m * 60\n",
        "    return '%dm %ds' % (m, s)\n",
        "\n",
        "start = time.time()\n",
        "\n",
        "for iter in range(1, n_iters + 1):\n",
        "    category, line, category_tensor, line_tensor = randomTrainingExample()\n",
        "    output, loss = train(category_tensor, line_tensor)\n",
        "    current_loss += loss\n",
        "\n",
        "    # Print iter number, loss, name and guess\n",
        "    if iter % print_every == 0:\n",
        "        guess, guess_i = categoryFromOutput(output)\n",
        "        correct = '✓' if guess == category else '✗ (%s)' % category\n",
        "        print('%d %d%% (%s) %.4f %s / %s %s' % (iter, iter / n_iters * 100, timeSince(start), loss, line, guess, correct))\n",
        "\n",
        "    # Add current loss avg to list of losses\n",
        "    if iter % plot_every == 0:\n",
        "        all_losses.append(current_loss / plot_every)\n",
        "        current_loss = 0"
      ],
      "execution_count": 285,
      "outputs": [
        {
          "output_type": "stream",
          "text": [
            "5000 5% (0m 13s) 2.2358 le chalon / cn ✗ (fr)\n",
            "10000 10% (0m 26s) 1.9488 ghawchak / af ✓\n",
            "15000 15% (0m 40s) 0.8277 frederiksbjerg / de ✓\n",
            "20000 20% (0m 52s) 1.2569 azzate / za ✓\n",
            "25000 25% (1m 6s) 1.5293 ezzat od din / de ✗ (za)\n",
            "30000 30% (1m 19s) 1.0048 requintadero / de ✓\n",
            "35000 35% (1m 31s) 0.8583 zagrarao / za ✓\n",
            "40000 40% (1m 44s) 3.0713 vaita / fi ✗ (fr)\n",
            "45000 45% (1m 57s) 0.4633 belczace / za ✓\n",
            "50000 50% (2m 10s) 0.5253 chupina / in ✓\n",
            "55000 55% (2m 23s) 1.9664 le cauze / za ✗ (fr)\n",
            "60000 60% (2m 35s) 0.1754 vokzalgorodnya / za ✓\n",
            "65000 65% (2m 48s) 2.9987 khowrzug / za ✗ (ir)\n",
            "70000 70% (3m 1s) 2.0677 nevsehir / in ✗ (ir)\n",
            "75000 75% (3m 14s) 1.3263 ayn al fijah / ir ✗ (fi)\n",
            "80000 80% (3m 27s) 2.6728 khanikhatun / cn ✗ (ir)\n",
            "85000 85% (3m 40s) 1.3290 mahlerts / fr ✗ (de)\n",
            "90000 90% (3m 52s) 1.5384 yangfan / cn ✓\n",
            "95000 95% (4m 6s) 0.0959 cirfinli / fi ✓\n",
            "100000 100% (4m 19s) 1.1318 casmaiqalaimohammad / af ✓\n"
          ],
          "name": "stdout"
        }
      ]
    },
    {
      "cell_type": "code",
      "metadata": {
        "id": "SlpD7iF0cJlt",
        "colab_type": "code",
        "colab": {
          "base_uri": "https://localhost:8080/",
          "height": 282
        },
        "outputId": "932d5744-17ca-4cbd-be88-2d021d3d51ca"
      },
      "source": [
        "import matplotlib\n",
        "%matplotlib inline\n",
        "import matplotlib.pyplot as plt\n",
        "import matplotlib.ticker as ticker\n",
        "\n",
        "plt.figure()\n",
        "plt.plot(all_losses)"
      ],
      "execution_count": 286,
      "outputs": [
        {
          "output_type": "execute_result",
          "data": {
            "text/plain": [
              "[<matplotlib.lines.Line2D at 0x7f6667025908>]"
            ]
          },
          "metadata": {
            "tags": []
          },
          "execution_count": 286
        },
        {
          "output_type": "display_data",
          "data": {
            "image/png": "[encoded data removed]",
            "text/plain": [
              "<Figure size 432x288 with 1 Axes>"
            ]
          },
          "metadata": {
            "tags": []
          }
        }
      ]
    },
    {
      "cell_type": "code",
      "metadata": {
        "id": "8RVV2d6ucNrh",
        "colab_type": "code",
        "colab": {
          "base_uri": "https://localhost:8080/",
          "height": 279
        },
        "outputId": "27e6431a-67e9-43c3-b02a-6dc055610136"
      },
      "source": [
        "confusion = torch.zeros(n_categories, n_categories)\n",
        "n_confusion = 10000\n",
        "\n",
        "# Just return an output given a line\n",
        "def evaluate(line_tensor):\n",
        "    hidden = rnn.initHidden()\n",
        "\n",
        "    for i in range(line_tensor.size()[0]):\n",
        "        output, hidden = rnn(line_tensor[i], hidden)\n",
        "\n",
        "    return output\n",
        "\n",
        "# Go through a bunch of examples and record which are correctly guessed\n",
        "for i in range(n_confusion):\n",
        "    category, line, category_tensor, line_tensor = randomTrainingExample()\n",
        "    output = evaluate(line_tensor)\n",
        "    guess, guess_i = categoryFromOutput(output)\n",
        "    category_i = all_categories.index(category)\n",
        "    confusion[category_i][guess_i] += 1\n",
        "\n",
        "# Normalize by dividing every row by its sum\n",
        "for i in range(n_categories):\n",
        "    confusion[i] = confusion[i] / confusion[i].sum()\n",
        "\n",
        "# Set up plot\n",
        "fig = plt.figure()\n",
        "ax = fig.add_subplot(111)\n",
        "cax = ax.matshow(confusion.numpy())\n",
        "fig.colorbar(cax)\n",
        "\n",
        "# Set up axes\n",
        "ax.set_xticklabels([''] + all_categories, rotation=90)\n",
        "ax.set_yticklabels([''] + all_categories)\n",
        "\n",
        "# Force label at every tick\n",
        "ax.xaxis.set_major_locator(ticker.MultipleLocator(1))\n",
        "ax.yaxis.set_major_locator(ticker.MultipleLocator(1))\n",
        "\n",
        "plt.title('Dataset Confusion Matrix')\n",
        "plt.show()"
      ],
      "execution_count": 287,
      "outputs": [
        {
          "output_type": "display_data",
          "data": {
            "image/png": "[encoded data removed]",
            "text/plain": [
              "<Figure size 432x288 with 2 Axes>"
            ]
          },
          "metadata": {
            "tags": []
          }
        }
      ]
    },
    {
      "cell_type": "markdown",
      "metadata": {
        "id": "1POqQW-qcTIK",
        "colab_type": "text"
      },
      "source": [
        "**Observation of the confusion matrix**\n",
        "\n",
        "We can observe that the network does not detect 'ir' and 'in' well.\n",
        "While for 'cn' the confusion is minimal.\n",
        "We can conjucture that 'ir' and 'in' city names has features that are not so different than the ones in other languages.\n",
        "And that 'cn' is much different.\n",
        "\n",
        "*By features we mean the joint distribution of the characters, this is what the RNN tries to detect.*\n"
      ]
    }
  ]
}