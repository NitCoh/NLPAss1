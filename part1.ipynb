{
  "nbformat": 4,
  "nbformat_minor": 0,
  "metadata": {
    "kernelspec": {
      "display_name": "Python 3",
      "language": "python",
      "name": "python3"
    },
    "language_info": {
      "codemirror_mode": {
        "name": "ipython",
        "version": 3
      },
      "file_extension": ".py",
      "mimetype": "text/x-python",
      "name": "python",
      "nbconvert_exporter": "python",
      "pygments_lexer": "ipython3",
      "version": "3.5.3+"
    },
    "colab": {
      "name": "part1.ipynb",
      "provenance": []
    }
  },
  "cells": [
    {
      "cell_type": "code",
      "metadata": {
        "id": "CmdROlJJNtLk",
        "colab_type": "code",
        "outputId": "7720414c-7ee3-46d1-d940-0706ff0b0fd6",
        "colab": {
          "base_uri": "https://localhost:8080/",
          "height": 51
        }
      },
      "source": [
        "!pip install justext"
      ],
      "execution_count": 34,
      "outputs": [
        {
          "output_type": "stream",
          "text": [
            "Requirement already satisfied: justext in /usr/local/lib/python3.6/dist-packages (2.2.0)\n",
            "Requirement already satisfied: lxml>=2.2.4 in /usr/local/lib/python3.6/dist-packages (from justext) (4.2.6)\n"
          ],
          "name": "stdout"
        }
      ]
    },
    {
      "cell_type": "code",
      "metadata": {
        "id": "qWh_5rVkOyMl",
        "colab_type": "code",
        "colab": {}
      },
      "source": [
        "import numpy as np\n",
        "import nltk\n",
        "import justext\n",
        "import re\n",
        "from nltk.tokenize import sent_tokenize\n",
        "import collections"
      ],
      "execution_count": 0,
      "outputs": []
    },
    {
      "cell_type": "code",
      "metadata": {
        "id": "IQ8c3aHnlDx5",
        "colab_type": "code",
        "outputId": "0714b111-4dad-4c1f-adc1-beb91aeb668f",
        "colab": {
          "base_uri": "https://localhost:8080/",
          "height": 68
        }
      },
      "source": [
        "nltk.download('punkt')"
      ],
      "execution_count": 36,
      "outputs": [
        {
          "output_type": "stream",
          "text": [
            "[nltk_data] Downloading package punkt to /root/nltk_data...\n",
            "[nltk_data]   Package punkt is already up-to-date!\n"
          ],
          "name": "stdout"
        },
        {
          "output_type": "execute_result",
          "data": {
            "text/plain": [
              "True"
            ]
          },
          "metadata": {
            "tags": []
          },
          "execution_count": 36
        }
      ]
    },
    {
      "cell_type": "markdown",
      "metadata": {
        "id": "bo6kW-6tyCPg",
        "colab_type": "text"
      },
      "source": [
        "1.1.1"
      ]
    },
    {
      "cell_type": "code",
      "metadata": {
        "id": "-eDGnqmpRq9z",
        "colab_type": "code",
        "colab": {}
      },
      "source": [
        "def top_txt(txt,top):\n",
        "  most_common_words = [word for (word,f) in collections.Counter(txt).most_common(top)]\n",
        "  return ''.join([word if word in most_common_words or word=='N' else '<unk>' for word in txt])\n",
        "def replace_numbers(txt):\n",
        "  #TODO:: Check replace numbers RegEx.\n",
        "  num_format = re.compile(\"^[\\-]?[1-9][0-9]*\\.?[0-9]+$\")\n",
        "  return \"\".join([word if not re.match(num_format,word) else 'N' for word in txt])\n",
        "def remove_punc(txt):\n",
        "  without_punc = \"\".join([ c if c not in '.,:;?!@#*&%$<>' else '' for c in txt])\n",
        "  return without_punc.replace(\"  \",\" \")\n",
        "def tokenize(txt):\n",
        "  return \" \".join(nltk.word_tokenize(txt))\n",
        "def segment_sents(txt):\n",
        "  return \"\\n\".join(nltk.sent_tokenize(txt))\n",
        "def lower_txt(txt):\n",
        "  return txt.lower()"
      ],
      "execution_count": 0,
      "outputs": []
    },
    {
      "cell_type": "code",
      "metadata": {
        "id": "P2KptyAiOyM4",
        "colab_type": "code",
        "colab": {}
      },
      "source": [
        "def ptb_preprocess(filenames, top=10000):\n",
        "  for filename in filenames:\n",
        "    with open(filename) as myfile:\n",
        "      \n",
        "\n",
        "      txt_file =  myfile.read().replace('\\n',' ')\n",
        "      paragraphs = justext.justext(txt_file, justext.get_stoplist(\"English\"))\n",
        "      raw_text = \"\\n\".join([p.text for p in paragraphs if not p.is_boilerplate])\n",
        "\n",
        "\n",
        "      # raw_text = lower_txt(raw_text)\n",
        "      # raw_text = segment_sents(raw_text)\n",
        "      # print('segment_sents')\n",
        "      # print(raw_text[:200])\n",
        "      # raw_text = remove_punc(raw_text)\n",
        "      # print('remove_punkt')\n",
        "      # print(raw_text[:200])\n",
        "      # raw_text = tokenize(raw_text)\n",
        "      # print('tokenize')\n",
        "      # print(raw_text[:200])\n",
        "      # raw_text = replace_numbers(raw_text)\n",
        "      # print('replace_numbers')\n",
        "      # print(raw_text[:200])\n",
        "      # raw_text = top_txt(raw_text,top)\n",
        "      # print('top_txt')\n",
        "      # print(raw_text[:200])\n",
        "\n",
        "      raw_text = top_txt(raw_text,top)\n",
        "      raw_text = replace_numbers(raw_text)\n",
        "      raw_text = tokenize(raw_text)\n",
        "      raw_text = segment_sents(raw_text)\n",
        "      raw_text = remove_punc(raw_text)\n",
        "      raw_text = lower_txt(raw_text)\n",
        "      \n",
        "      \n",
        "      new_filename = filename+'.out'\n",
        "      #print(new_filename)\n",
        "      with open(new_filename, \"w\") as text_file:\n",
        "        text_file.write(raw_text)\n",
        "\n"
      ],
      "execution_count": 0,
      "outputs": []
    },
    {
      "cell_type": "code",
      "metadata": {
        "id": "XNWfFRBhQCz2",
        "colab_type": "code",
        "outputId": "4d2fee5e-db84-4b8d-a855-f1200fc84514",
        "colab": {
          "base_uri": "https://localhost:8080/",
          "height": 204
        }
      },
      "source": [
        "!wget https://cs.stanford.edu/people/karpathy/char-rnn/shakespeare_input.txt "
      ],
      "execution_count": 18,
      "outputs": [
        {
          "output_type": "stream",
          "text": [
            "--2019-12-18 15:52:21--  https://cs.stanford.edu/people/karpathy/char-rnn/shakespeare_input.txt\n",
            "Resolving cs.stanford.edu (cs.stanford.edu)... 171.64.64.64\n",
            "Connecting to cs.stanford.edu (cs.stanford.edu)|171.64.64.64|:443... connected.\n",
            "HTTP request sent, awaiting response... 200 OK\n",
            "Length: 4573338 (4.4M) [text/plain]\n",
            "Saving to: ‘shakespeare_input.txt’\n",
            "\n",
            "shakespeare_input.t 100%[===================>]   4.36M  4.03MB/s    in 1.1s    \n",
            "\n",
            "2019-12-18 15:52:23 (4.03 MB/s) - ‘shakespeare_input.txt’ saved [4573338/4573338]\n",
            "\n"
          ],
          "name": "stdout"
        }
      ]
    },
    {
      "cell_type": "markdown",
      "metadata": {
        "id": "Ts1OWn9yE5hx",
        "colab_type": "text"
      },
      "source": [
        "1.1.1 Discussion: According to the descripted above if we apply the conventions of Penn Treebank, we shall give independent meaning for every word after the tokenization. Also, if we use character-level language model, we shall get another definition - morphological, because now we care about structure of the word."
      ]
    },
    {
      "cell_type": "markdown",
      "metadata": {
        "id": "B1twpt96H3Ja",
        "colab_type": "text"
      },
      "source": [
        "1.1.2 :"
      ]
    },
    {
      "cell_type": "code",
      "metadata": {
        "id": "kl1uQDDlH55T",
        "colab_type": "code",
        "colab": {}
      },
      "source": [
        "!wget http://www.fit.vutbr.cz/~imikolov/rnnlm/simple-examples.tgz\n",
        "!tar zxvf simple-examples.tgz\n",
        "\n",
        "!ls simple-examples/data\n",
        "!mv ./simple-examples/data ../data"
      ],
      "execution_count": 0,
      "outputs": []
    },
    {
      "cell_type": "code",
      "metadata": {
        "id": "8VgRPhj407Tc",
        "colab_type": "code",
        "outputId": "4c6e107e-e079-448f-abca-efd5a4ad968d",
        "colab": {
          "base_uri": "https://localhost:8080/",
          "height": 34
        }
      },
      "source": [
        "!ls"
      ],
      "execution_count": 3,
      "outputs": [
        {
          "output_type": "stream",
          "text": [
            "sample_data  simple-examples  simple-examples.tgz\n"
          ],
          "name": "stdout"
        }
      ]
    },
    {
      "cell_type": "code",
      "metadata": {
        "id": "8u-G63oDV2MZ",
        "colab_type": "code",
        "colab": {
          "base_uri": "https://localhost:8080/",
          "height": 34
        },
        "outputId": "72902524-5872-4a94-ffe2-ce213113afcc"
      },
      "source": [
        "len(set(remove_punc('hello, you, hello').split()))"
      ],
      "execution_count": 107,
      "outputs": [
        {
          "output_type": "execute_result",
          "data": {
            "text/plain": [
              "2"
            ]
          },
          "metadata": {
            "tags": []
          },
          "execution_count": 107
        }
      ]
    },
    {
      "cell_type": "code",
      "metadata": {
        "id": "2_9519iByOPy",
        "colab_type": "code",
        "colab": {}
      },
      "source": [
        "def num_token(txt):\n",
        "  txt = txt.lower()\n",
        "  return len(nltk.word_tokenize(txt))\n",
        "def num_char(txt):\n",
        "  return len(''.join(txt.split()))\n",
        "def dist_words(txt): #num of types\n",
        "  txt = txt.lower()\n",
        "  return len(set(remove_punc(txt).split()))\n",
        "def topN_words(txt,N):\n",
        "  most_common_words = ' '.join([word for (word,f) in collections.Counter(txt).most_common(N)])\n",
        "  return num_tokenize(most_common_words)\n",
        "def token_type_ratio(txt):\n",
        "  return num_token(txt)/dist_words(txt)\n",
        "\n",
        "def types_oov(txt_dev,txt_train): #Out Of Vocabulary \n",
        "    txt_dev = txt_dev.lower()\n",
        "    text_dev_set = set(remove_punc(txt_dev).split())\n",
        "    txt_train = txt_train.lower()\n",
        "    text_train_set = set(remove_punc(txt_train).split())\n",
        "    return len(tex_dev_set.difference(text_train_set))\n",
        "def avg_sd_char_token(txt):\n",
        "  total_chars = sum( [len(w) for w in nltk.word_tokenize(txt)])\n",
        "  avg =  total_chars/num_token(txt)\n",
        "\n",
        "  total_avg_chars = sum( [len(w)-avg for w in nltk.word_tokenize(txt)])\n",
        "  sd =  total_chars/num_token(txt)\n",
        "  return avg,sd\n",
        "\n",
        "def dist_n_gram_words(txt,n=[2,3,4]):\n",
        "  txt = txt.lower()\n",
        "  txt = nltk.word_tokenize(txt)\n",
        "  ans = {}\n",
        "  for i in n:\n",
        "    ans[i] = diff_grams(txt,i)\n",
        "  return ans\n",
        "\n",
        "def dist_n_gram_chars(txt,n=range(1,8)):\n",
        "  ans = {}\n",
        "  for i in n:\n",
        "    ans[i] = diff_grams(txt,i)\n",
        "  return ans\n",
        "\n",
        "def diff_grams(txt,n):\n",
        "  s = set()\n",
        "  gram = list(range(0,n))\n",
        "  while gram[-1]!=len(txt):\n",
        "    next_gram = tuple([txt[g] for g in gram])\n",
        "    s.add(next_gram)\n",
        "    gram = [g+1 for g in gram]\n",
        "  return len(s)"
      ],
      "execution_count": 0,
      "outputs": []
    },
    {
      "cell_type": "code",
      "metadata": {
        "id": "ceYy9o1urbi0",
        "colab_type": "code",
        "colab": {
          "base_uri": "https://localhost:8080/",
          "height": 34
        },
        "outputId": "98ce973d-e80e-4811-ac15-eb5a594f28ae"
      },
      "source": [
        "# you need matplotlib version 1.4 or above\n",
        "import matplotlib.pyplot as plt\n",
        "import matplotlib\n",
        "print(matplotlib.__version__)\n",
        "%matplotlib inline\n",
        "def power_law_rule(corpus):\n",
        "  corpus = lower_txt(corpus)\n",
        "  corpus = tokenize(corpus)\n",
        "  plt.loglog([val for word,val in collections.Counter(corpus).most_common(4000)])\n",
        "  plt.xlabel('rank')\n",
        "  plt.ylabel('frequency');"
      ],
      "execution_count": 20,
      "outputs": [
        {
          "output_type": "stream",
          "text": [
            "3.1.2\n"
          ],
          "name": "stdout"
        }
      ]
    },
    {
      "cell_type": "code",
      "metadata": {
        "id": "BY9AIs-GKmGV",
        "colab_type": "code",
        "colab": {
          "base_uri": "https://localhost:8080/",
          "height": 288
        },
        "outputId": "6494667a-d1fc-4e5a-ff81-bd00db049666"
      },
      "source": [
        "import os\n",
        "\n",
        "dir = '../data'\n",
        "for filename in os.listdir(dir):\n",
        "  with open(dir+'/'+ filename,'r') as file:\n",
        "      data = file.read()\n",
        "      power_law_rule(data)"
      ],
      "execution_count": 21,
      "outputs": [
        {
          "output_type": "display_data",
          "data": {
            "image/png": "[encoded data removed]",
            "text/plain": [
              "<Figure size 432x288 with 1 Axes>"
            ]
          },
          "metadata": {
            "tags": []
          }
        }
      ]
    },
    {
      "cell_type": "markdown",
      "metadata": {
        "id": "ikQJvQfnt6Ba",
        "colab_type": "text"
      },
      "source": [
        "1.2 n-gram Word Language Model"
      ]
    },
    {
      "cell_type": "code",
      "metadata": {
        "id": "rEQ0VfUYo84y",
        "colab_type": "code",
        "colab": {}
      },
      "source": [
        "#how to calculate the freq of h*w\n",
        "#how to calculate the freq of w.\n",
        "\n",
        "from collections import Counter,defaultdict\n",
        "import math\n",
        "from functools import reduce\n",
        "\n",
        "class LangModell:\n",
        "  def predict_next_word(self,prev_words):\n",
        "    pass\n",
        "  def evaluate_next_word(self,prev_word):\n",
        "    pass\n",
        "  \n",
        "class n_gram_model():\n",
        "  def __init__(self):\n",
        "    self.outlm = {}\n",
        "    self.freq_words = collections.Counter()\n",
        "\n",
        "  def train_model(self, dataset,n):\n",
        "    lm = defaultdict(Counter)\n",
        "    ptb_preprocess([dataset])\n",
        "    with open(dataset+'.out') as file:\n",
        "      data = nltk.word_tokenize(file.read())\n",
        "    self.freq_words = collections.Counter(data)\n",
        "    n = n-1\n",
        "    pad = [\"~\"] * n\n",
        "    data = pad + data\n",
        "    for i in range(len(data)-n):\n",
        "        history, word = tuple(data[i:i+n]), data[i+n]\n",
        "        lm[history][word]+=1\n",
        "\n",
        "    def normalize(counter):\n",
        "        s = float(sum(counter.values()))\n",
        "        return [(word,cnt/s) for word,cnt in counter.items()]\n",
        "    self.freq_words= {word:freq/len(data) for word,freq in self.freq_words.items()}\n",
        "    self.outlm = {hist:normalize(cntr) for hist, cntr in lm.items()}\n",
        "\n",
        "  def predict_next_word(self, prev_words):\n",
        "    possible_words =  self.outlm[tuple(nltk.word_tokenize(prev_words.lower()))]\n",
        "    next_word, _ = max(possible_words, key=lambda x:x[1])\n",
        "    return next_word\n",
        "\n",
        "  def evaluate_next_word(self, prev_words,next_word):\n",
        "    if tuple(nltk.word_tokenize(prev_words.lower())) not in self.outlm:\n",
        "      return 0.0\n",
        "    eval_word = [prob for word,prob in self.outlm[tuple(nltk.word_tokenize(prev_words.lower()))] if word==next_word]\n",
        "    return eval_word[0] if len(eval_word)>0 else 0.0\n",
        "\n",
        "  def perplexity(self,test_filename,n=2):\n",
        "    ptb_preprocess([test_filename])\n",
        "    with open(test_filename+'.out') as file:\n",
        "      data = nltk.word_tokenize(file.read())\n",
        "    # def prod(iterable):\n",
        "    #   return reduce(lambda a,b: a*b, iterable, 1)\n",
        "\n",
        "    answer = 1\n",
        "    for i in range(len(data) - 1):\n",
        "      prev_words = ' '.join(data[i:i+n-1])\n",
        "      next_word = data[i+n-1]\n",
        "      eval = self.evaluate_next_word(prev_words,next_word)\n",
        "      if eval!=0:\n",
        "        answer*= eval\n",
        "    return answer **(1/len(data))  \n",
        "    #return prod( [self.evaluate_next_word(' '.join(data[i:i+n-1]),data[i+n-1]) for i in range(len(data) -1) if tuple(nltk.word_tokenize(' '.join(data[i:i+n-1].lower()))) in self.outlm] ) ** (1/len(data))\n",
        "\n",
        "  def cross_entropy(self,test_filename):\n",
        "    ptb_preprocess([test_filename])\n",
        "    with open(test_filename+'.out') as file:\n",
        "      data = nltk.word_tokenize(file.read())\n",
        "    return sum( [math.log(self.freq_words[word]) for word in data] )/len(data)\n",
        "\n",
        "def train_word_lm(dataset,n=2):\n",
        "  lm = n_gram_model()\n",
        "  lm.train_model(dataset,n)\n",
        "  return lm"
      ],
      "execution_count": 0,
      "outputs": []
    },
    {
      "cell_type": "code",
      "metadata": {
        "id": "rJFllViIGOy0",
        "colab_type": "code",
        "colab": {
          "base_uri": "https://localhost:8080/",
          "height": 34
        },
        "outputId": "dd45b251-9dfd-4daf-a9b3-98d6cc07d990"
      },
      "source": [
        "#Example:\n",
        "lm = train_word_lm('../data/ptb.train.txt')\n",
        "lm.predict_next_word('I')"
      ],
      "execution_count": 183,
      "outputs": [
        {
          "output_type": "execute_result",
          "data": {
            "text/plain": [
              "'nuclear'"
            ]
          },
          "metadata": {
            "tags": []
          },
          "execution_count": 183
        }
      ]
    },
    {
      "cell_type": "markdown",
      "metadata": {
        "id": "ZF0DbCy4QwZz",
        "colab_type": "text"
      },
      "source": [
        "*1.2.2 How much memory do you expect a model to occupy? Refer to the statistics results above and provide worst-case estimates as well as expected.*\n",
        "\n",
        "**Answer:** For each bigram in the text, we a list of tuples - each the size of 2 (bigram) and a word after it.\n",
        "We can compute with the statistics the total number of distinct bigrams and multiply it by total number of distinct words in the corpus - that will be the worst case."
      ]
    },
    {
      "cell_type": "code",
      "metadata": {
        "id": "8kqHPsuWRcjQ",
        "colab_type": "code",
        "colab": {
          "base_uri": "https://localhost:8080/",
          "height": 51
        },
        "outputId": "df1f2ac7-d95b-4b35-a6de-38ba355350b7"
      },
      "source": [
        "with open('../data/ptb.train.txt','r') as file:\n",
        "  data = file.read()\n",
        "  print(dist_words(data))\n",
        "  print(dist_n_gram_words(data,n=[2]))\n",
        "\n"
      ],
      "execution_count": 180,
      "outputs": [
        {
          "output_type": "stream",
          "text": [
            "9941\n",
            "{2: 277419}\n"
          ],
          "name": "stdout"
        }
      ]
    },
    {
      "cell_type": "code",
      "metadata": {
        "id": "BaR5k81TYBNf",
        "colab_type": "code",
        "colab": {
          "base_uri": "https://localhost:8080/",
          "height": 34
        },
        "outputId": "92a52175-08b8-4a1e-f2a5-c94705079537"
      },
      "source": [
        "lm.perplexity('../data/ptb.test.txt')"
      ],
      "execution_count": 185,
      "outputs": [
        {
          "output_type": "execute_result",
          "data": {
            "text/plain": [
              "0.0"
            ]
          },
          "metadata": {
            "tags": []
          },
          "execution_count": 185
        }
      ]
    },
    {
      "cell_type": "markdown",
      "metadata": {
        "id": "ATkR9e09X-3m",
        "colab_type": "text"
      },
      "source": [
        "1.3.1"
      ]
    },
    {
      "cell_type": "code",
      "metadata": {
        "id": "pvnecpK2gHDy",
        "colab_type": "code",
        "colab": {
          "base_uri": "https://localhost:8080/",
          "height": 51
        },
        "outputId": "96c7ffbc-2827-4078-e01e-63a857d39ce4"
      },
      "source": [
        "!ls ../data"
      ],
      "execution_count": 119,
      "outputs": [
        {
          "output_type": "stream",
          "text": [
            "ptb.char.test.txt   ptb.char.valid.txt\tptb.train.txt  README\n",
            "ptb.char.train.txt  ptb.test.txt\tptb.valid.txt\n"
          ],
          "name": "stdout"
        }
      ]
    },
    {
      "cell_type": "code",
      "metadata": {
        "id": "XSY-CQzphOtE",
        "colab_type": "code",
        "colab": {
          "base_uri": "https://localhost:8080/",
          "height": 163
        },
        "outputId": "63096196-2846-4f98-9008-43390f01566c"
      },
      "source": [
        "lm.outlm[('I')]\n"
      ],
      "execution_count": 141,
      "outputs": [
        {
          "output_type": "error",
          "ename": "KeyError",
          "evalue": "ignored",
          "traceback": [
            "\u001b[0;31m---------------------------------------------------------------------------\u001b[0m",
            "\u001b[0;31mKeyError\u001b[0m                                  Traceback (most recent call last)",
            "\u001b[0;32m<ipython-input-141-f1661dc38d5a>\u001b[0m in \u001b[0;36m<module>\u001b[0;34m()\u001b[0m\n\u001b[0;32m----> 1\u001b[0;31m \u001b[0mlm\u001b[0m\u001b[0;34m.\u001b[0m\u001b[0moutlm\u001b[0m\u001b[0;34m[\u001b[0m\u001b[0;34m'consumers'\u001b[0m\u001b[0;34m]\u001b[0m\u001b[0;34m\u001b[0m\u001b[0;34m\u001b[0m\u001b[0m\n\u001b[0m",
            "\u001b[0;31mKeyError\u001b[0m: 'consumers'"
          ]
        }
      ]
    },
    {
      "cell_type": "code",
      "metadata": {
        "id": "hRB_jNbAimW6",
        "colab_type": "code",
        "colab": {
          "base_uri": "https://localhost:8080/",
          "height": 163
        },
        "outputId": "574fa64a-a7dd-4508-fe55-55d220584a51"
      },
      "source": [
        "lm.outlm[tuple(['consumers'])]"
      ],
      "execution_count": 149,
      "outputs": [
        {
          "output_type": "error",
          "ename": "KeyError",
          "evalue": "ignored",
          "traceback": [
            "\u001b[0;31m---------------------------------------------------------------------------\u001b[0m",
            "\u001b[0;31mKeyError\u001b[0m                                  Traceback (most recent call last)",
            "\u001b[0;32m<ipython-input-149-76fd2aef183d>\u001b[0m in \u001b[0;36m<module>\u001b[0;34m()\u001b[0m\n\u001b[0;32m----> 1\u001b[0;31m \u001b[0mlm\u001b[0m\u001b[0;34m.\u001b[0m\u001b[0moutlm\u001b[0m\u001b[0;34m[\u001b[0m\u001b[0mtuple\u001b[0m\u001b[0;34m(\u001b[0m\u001b[0;34m[\u001b[0m\u001b[0;34m'consumers'\u001b[0m\u001b[0;34m]\u001b[0m\u001b[0;34m)\u001b[0m\u001b[0;34m]\u001b[0m\u001b[0;34m\u001b[0m\u001b[0;34m\u001b[0m\u001b[0m\n\u001b[0m",
            "\u001b[0;31mKeyError\u001b[0m: ('consumers',)"
          ]
        }
      ]
    },
    {
      "cell_type": "code",
      "metadata": {
        "id": "9KA6k5XVi3pD",
        "colab_type": "code",
        "colab": {}
      },
      "source": [
        ""
      ],
      "execution_count": 0,
      "outputs": []
    }
  ]
}