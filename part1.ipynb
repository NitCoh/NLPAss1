{
  "nbformat": 4,
  "nbformat_minor": 0,
  "metadata": {
    "kernelspec": {
      "display_name": "Python 3",
      "language": "python",
      "name": "python3"
    },
    "language_info": {
      "codemirror_mode": {
        "name": "ipython",
        "version": 3
      },
      "file_extension": ".py",
      "mimetype": "text/x-python",
      "name": "python",
      "nbconvert_exporter": "python",
      "pygments_lexer": "ipython3",
      "version": "3.5.3+"
    },
    "colab": {
      "name": "part1.ipynb",
      "provenance": []
    }
  },
  "cells": [
    {
      "cell_type": "code",
      "metadata": {
        "id": "qWh_5rVkOyMl",
        "colab_type": "code",
        "colab": {}
      },
      "source": [
        "import numpy as np\n",
        "import nltk\n",
        "import justext\n",
        "from nltk.tokenize.api import StringTokenizer as tokenizer\n",
        "from nltk.tokenize import sent_tokenize"
      ],
      "execution_count": 0,
      "outputs": []
    },
    {
      "cell_type": "code",
      "metadata": {
        "id": "CmdROlJJNtLk",
        "colab_type": "code",
        "colab": {
          "base_uri": "https://localhost:8080/",
          "height": 141
        },
        "outputId": "5d21973c-d95d-4870-d7e5-bce2ac97af98"
      },
      "source": [
        "!pip install justext"
      ],
      "execution_count": 2,
      "outputs": [
        {
          "output_type": "stream",
          "text": [
            "Collecting justext\n",
            "\u001b[?25l  Downloading https://files.pythonhosted.org/packages/6c/5f/c7b909b4b864ebcacfac23ce2f6f01a50c53628787cc14b3c06f79464cab/jusText-2.2.0-py2.py3-none-any.whl (860kB)\n",
            "\r\u001b[K     |▍                               | 10kB 18.7MB/s eta 0:00:01\r\u001b[K     |▊                               | 20kB 6.5MB/s eta 0:00:01\r\u001b[K     |█▏                              | 30kB 9.1MB/s eta 0:00:01\r\u001b[K     |█▌                              | 40kB 5.9MB/s eta 0:00:01\r\u001b[K     |██                              | 51kB 7.2MB/s eta 0:00:01\r\u001b[K     |██▎                             | 61kB 8.5MB/s eta 0:00:01\r\u001b[K     |██▋                             | 71kB 9.6MB/s eta 0:00:01\r\u001b[K     |███                             | 81kB 10.7MB/s eta 0:00:01\r\u001b[K     |███▍                            | 92kB 11.8MB/s eta 0:00:01\r\u001b[K     |███▉                            | 102kB 9.5MB/s eta 0:00:01\r\u001b[K     |████▏                           | 112kB 9.5MB/s eta 0:00:01\r\u001b[K     |████▋                           | 122kB 9.5MB/s eta 0:00:01\r\u001b[K     |█████                           | 133kB 9.5MB/s eta 0:00:01\r\u001b[K     |█████▎                          | 143kB 9.5MB/s eta 0:00:01\r\u001b[K     |█████▊                          | 153kB 9.5MB/s eta 0:00:01\r\u001b[K     |██████                          | 163kB 9.5MB/s eta 0:00:01\r\u001b[K     |██████▌                         | 174kB 9.5MB/s eta 0:00:01\r\u001b[K     |██████▉                         | 184kB 9.5MB/s eta 0:00:01\r\u001b[K     |███████▎                        | 194kB 9.5MB/s eta 0:00:01\r\u001b[K     |███████▋                        | 204kB 9.5MB/s eta 0:00:01\r\u001b[K     |████████                        | 215kB 9.5MB/s eta 0:00:01\r\u001b[K     |████████▍                       | 225kB 9.5MB/s eta 0:00:01\r\u001b[K     |████████▊                       | 235kB 9.5MB/s eta 0:00:01\r\u001b[K     |█████████▏                      | 245kB 9.5MB/s eta 0:00:01\r\u001b[K     |█████████▌                      | 256kB 9.5MB/s eta 0:00:01\r\u001b[K     |██████████                      | 266kB 9.5MB/s eta 0:00:01\r\u001b[K     |██████████▎                     | 276kB 9.5MB/s eta 0:00:01\r\u001b[K     |██████████▋                     | 286kB 9.5MB/s eta 0:00:01\r\u001b[K     |███████████                     | 296kB 9.5MB/s eta 0:00:01\r\u001b[K     |███████████▍                    | 307kB 9.5MB/s eta 0:00:01\r\u001b[K     |███████████▉                    | 317kB 9.5MB/s eta 0:00:01\r\u001b[K     |████████████▏                   | 327kB 9.5MB/s eta 0:00:01\r\u001b[K     |████████████▋                   | 337kB 9.5MB/s eta 0:00:01\r\u001b[K     |█████████████                   | 348kB 9.5MB/s eta 0:00:01\r\u001b[K     |█████████████▎                  | 358kB 9.5MB/s eta 0:00:01\r\u001b[K     |█████████████▊                  | 368kB 9.5MB/s eta 0:00:01\r\u001b[K     |██████████████                  | 378kB 9.5MB/s eta 0:00:01\r\u001b[K     |██████████████▌                 | 389kB 9.5MB/s eta 0:00:01\r\u001b[K     |██████████████▉                 | 399kB 9.5MB/s eta 0:00:01\r\u001b[K     |███████████████▎                | 409kB 9.5MB/s eta 0:00:01\r\u001b[K     |███████████████▋                | 419kB 9.5MB/s eta 0:00:01\r\u001b[K     |████████████████                | 430kB 9.5MB/s eta 0:00:01\r\u001b[K     |████████████████▍               | 440kB 9.5MB/s eta 0:00:01\r\u001b[K     |████████████████▊               | 450kB 9.5MB/s eta 0:00:01\r\u001b[K     |█████████████████▏              | 460kB 9.5MB/s eta 0:00:01\r\u001b[K     |█████████████████▌              | 471kB 9.5MB/s eta 0:00:01\r\u001b[K     |██████████████████              | 481kB 9.5MB/s eta 0:00:01\r\u001b[K     |██████████████████▎             | 491kB 9.5MB/s eta 0:00:01\r\u001b[K     |██████████████████▋             | 501kB 9.5MB/s eta 0:00:01\r\u001b[K     |███████████████████             | 512kB 9.5MB/s eta 0:00:01\r\u001b[K     |███████████████████▍            | 522kB 9.5MB/s eta 0:00:01\r\u001b[K     |███████████████████▉            | 532kB 9.5MB/s eta 0:00:01\r\u001b[K     |████████████████████▏           | 542kB 9.5MB/s eta 0:00:01\r\u001b[K     |████████████████████▋           | 552kB 9.5MB/s eta 0:00:01\r\u001b[K     |█████████████████████           | 563kB 9.5MB/s eta 0:00:01\r\u001b[K     |█████████████████████▎          | 573kB 9.5MB/s eta 0:00:01\r\u001b[K     |█████████████████████▊          | 583kB 9.5MB/s eta 0:00:01\r\u001b[K     |██████████████████████          | 593kB 9.5MB/s eta 0:00:01\r\u001b[K     |██████████████████████▌         | 604kB 9.5MB/s eta 0:00:01\r\u001b[K     |██████████████████████▉         | 614kB 9.5MB/s eta 0:00:01\r\u001b[K     |███████████████████████▏        | 624kB 9.5MB/s eta 0:00:01\r\u001b[K     |███████████████████████▋        | 634kB 9.5MB/s eta 0:00:01\r\u001b[K     |████████████████████████        | 645kB 9.5MB/s eta 0:00:01\r\u001b[K     |████████████████████████▍       | 655kB 9.5MB/s eta 0:00:01\r\u001b[K     |████████████████████████▊       | 665kB 9.5MB/s eta 0:00:01\r\u001b[K     |█████████████████████████▏      | 675kB 9.5MB/s eta 0:00:01\r\u001b[K     |█████████████████████████▌      | 686kB 9.5MB/s eta 0:00:01\r\u001b[K     |█████████████████████████▉      | 696kB 9.5MB/s eta 0:00:01\r\u001b[K     |██████████████████████████▎     | 706kB 9.5MB/s eta 0:00:01\r\u001b[K     |██████████████████████████▋     | 716kB 9.5MB/s eta 0:00:01\r\u001b[K     |███████████████████████████     | 727kB 9.5MB/s eta 0:00:01\r\u001b[K     |███████████████████████████▍    | 737kB 9.5MB/s eta 0:00:01\r\u001b[K     |███████████████████████████▉    | 747kB 9.5MB/s eta 0:00:01\r\u001b[K     |████████████████████████████▏   | 757kB 9.5MB/s eta 0:00:01\r\u001b[K     |████████████████████████████▌   | 768kB 9.5MB/s eta 0:00:01\r\u001b[K     |█████████████████████████████   | 778kB 9.5MB/s eta 0:00:01\r\u001b[K     |█████████████████████████████▎  | 788kB 9.5MB/s eta 0:00:01\r\u001b[K     |█████████████████████████████▊  | 798kB 9.5MB/s eta 0:00:01\r\u001b[K     |██████████████████████████████  | 808kB 9.5MB/s eta 0:00:01\r\u001b[K     |██████████████████████████████▌ | 819kB 9.5MB/s eta 0:00:01\r\u001b[K     |██████████████████████████████▉ | 829kB 9.5MB/s eta 0:00:01\r\u001b[K     |███████████████████████████████▏| 839kB 9.5MB/s eta 0:00:01\r\u001b[K     |███████████████████████████████▋| 849kB 9.5MB/s eta 0:00:01\r\u001b[K     |████████████████████████████████| 860kB 9.5MB/s eta 0:00:01\r\u001b[K     |████████████████████████████████| 870kB 9.5MB/s \n",
            "\u001b[?25hRequirement already satisfied: lxml>=2.2.4 in /usr/local/lib/python3.6/dist-packages (from justext) (4.2.6)\n",
            "Installing collected packages: justext\n",
            "Successfully installed justext-2.2.0\n"
          ],
          "name": "stdout"
        }
      ]
    },
    {
      "cell_type": "code",
      "metadata": {
        "id": "IQ8c3aHnlDx5",
        "colab_type": "code",
        "outputId": "4dd4d7ee-4ca3-4d49-e146-f8ccfe907a91",
        "colab": {
          "base_uri": "https://localhost:8080/",
          "height": 69
        }
      },
      "source": [
        "nltk.download('punkt')"
      ],
      "execution_count": 4,
      "outputs": [
        {
          "output_type": "stream",
          "text": [
            "[nltk_data] Downloading package punkt to /root/nltk_data...\n",
            "[nltk_data]   Unzipping tokenizers/punkt.zip.\n"
          ],
          "name": "stdout"
        },
        {
          "output_type": "execute_result",
          "data": {
            "text/plain": [
              "True"
            ]
          },
          "metadata": {
            "tags": []
          },
          "execution_count": 4
        }
      ]
    },
    {
      "cell_type": "code",
      "metadata": {
        "id": "-eDGnqmpRq9z",
        "colab_type": "code",
        "colab": {}
      },
      "source": [
        "def top_txt(txt,top):\n",
        "  return [word for (word,f) in Counter(txt).most_common(top)]\n",
        "def replace_numbers(txt):\n",
        "  [word if word.isalpha() else 'N' for word in txt]\n",
        "def tokenize_remove_punc(txt):\n",
        "  return list(filter(lambda word: word not in '.,:;?!@#*&%$<>', tokenizer.tokenize(txt)))\n",
        "def segment_sents(txt):\n",
        "  return sent_tokenize(txt)\n",
        "def lower_txt(txt):\n",
        "  return txt.lower()"
      ],
      "execution_count": 0,
      "outputs": []
    },
    {
      "cell_type": "code",
      "metadata": {
        "id": "P2KptyAiOyM4",
        "colab_type": "code",
        "colab": {}
      },
      "source": [
        "def ptb_preprocess(filenames, top=1e4):\n",
        "  for filename in filenames:\n",
        "    with open(filename) as myfile:\n",
        "      \n",
        "\n",
        "      txt_file =  myfile.read().replace('\\n',' ')\n",
        "      paragraphs = justext.justext(txt_file, justext.get_stoplist(\"English\"))\n",
        "      justxt_file = \"\\n\".join([p.text for p in paragraphs if not p.is_boilerplate])\n",
        "\n",
        "      justxt_file = lower_txt(justxt_file)\n",
        "      tokenized_sents = segment_sents(justxt_file)\n",
        "      tokenized_words = tokenize_remove_punc(justxt_file)\n",
        "      justtxt_file = top_txt(justxt_file,top)\n",
        "      justxt_file = replace_numbers(justxt_file)\n",
        "\n"
      ],
      "execution_count": 0,
      "outputs": []
    },
    {
      "cell_type": "code",
      "metadata": {
        "id": "XNWfFRBhQCz2",
        "colab_type": "code",
        "colab": {
          "base_uri": "https://localhost:8080/",
          "height": 208
        },
        "outputId": "037f918c-5f69-4f97-8f36-3f5716dce4b0"
      },
      "source": [
        "!wget https://cs.stanford.edu/people/karpathy/char-rnn/shakespeare_input.txt "
      ],
      "execution_count": 7,
      "outputs": [
        {
          "output_type": "stream",
          "text": [
            "--2019-12-15 11:10:26--  https://cs.stanford.edu/people/karpathy/char-rnn/shakespeare_input.txt\n",
            "Resolving cs.stanford.edu (cs.stanford.edu)... 171.64.64.64\n",
            "Connecting to cs.stanford.edu (cs.stanford.edu)|171.64.64.64|:443... connected.\n",
            "HTTP request sent, awaiting response... 200 OK\n",
            "Length: 4573338 (4.4M) [text/plain]\n",
            "Saving to: ‘shakespeare_input.txt’\n",
            "\n",
            "shakespeare_input.t 100%[===================>]   4.36M  4.30MB/s    in 1.0s    \n",
            "\n",
            "2019-12-15 11:10:28 (4.30 MB/s) - ‘shakespeare_input.txt’ saved [4573338/4573338]\n",
            "\n"
          ],
          "name": "stdout"
        }
      ]
    },
    {
      "cell_type": "code",
      "metadata": {
        "id": "KhQV8Zdek-V2",
        "colab_type": "code",
        "colab": {
          "base_uri": "https://localhost:8080/",
          "height": 313
        },
        "outputId": "0e133cbe-9cb4-486e-aa73-61a0691656a2"
      },
      "source": [
        "ptb_preprocess(['shakespeare_input.txt'])"
      ],
      "execution_count": 13,
      "outputs": [
        {
          "output_type": "error",
          "ename": "TypeError",
          "evalue": "ignored",
          "traceback": [
            "\u001b[0;31m---------------------------------------------------------------------------\u001b[0m",
            "\u001b[0;31mTypeError\u001b[0m                                 Traceback (most recent call last)",
            "\u001b[0;32m<ipython-input-13-8debeb32dd3b>\u001b[0m in \u001b[0;36m<module>\u001b[0;34m()\u001b[0m\n\u001b[0;32m----> 1\u001b[0;31m \u001b[0mptb_preprocess\u001b[0m\u001b[0;34m(\u001b[0m\u001b[0;34m[\u001b[0m\u001b[0;34m'shakespeare_input.txt'\u001b[0m\u001b[0;34m]\u001b[0m\u001b[0;34m)\u001b[0m\u001b[0;34m\u001b[0m\u001b[0;34m\u001b[0m\u001b[0m\n\u001b[0m",
            "\u001b[0;32m<ipython-input-12-2015dddb00ac>\u001b[0m in \u001b[0;36mptb_preprocess\u001b[0;34m(filenames, top)\u001b[0m\n\u001b[1;32m     10\u001b[0m       \u001b[0mjustxt_file\u001b[0m \u001b[0;34m=\u001b[0m \u001b[0mlower_txt\u001b[0m\u001b[0;34m(\u001b[0m\u001b[0mjustxt_file\u001b[0m\u001b[0;34m)\u001b[0m\u001b[0;34m\u001b[0m\u001b[0;34m\u001b[0m\u001b[0m\n\u001b[1;32m     11\u001b[0m       \u001b[0mtokenized_sents\u001b[0m \u001b[0;34m=\u001b[0m \u001b[0msegment_sents\u001b[0m\u001b[0;34m(\u001b[0m\u001b[0mjustxt_file\u001b[0m\u001b[0;34m)\u001b[0m\u001b[0;34m\u001b[0m\u001b[0;34m\u001b[0m\u001b[0m\n\u001b[0;32m---> 12\u001b[0;31m       \u001b[0mtokenized_words\u001b[0m \u001b[0;34m=\u001b[0m \u001b[0mtokenize_remove_punc\u001b[0m\u001b[0;34m(\u001b[0m\u001b[0mjustxt_file\u001b[0m\u001b[0;34m)\u001b[0m\u001b[0;34m\u001b[0m\u001b[0;34m\u001b[0m\u001b[0m\n\u001b[0m\u001b[1;32m     13\u001b[0m       \u001b[0mjusttxt_file\u001b[0m \u001b[0;34m=\u001b[0m \u001b[0mtop_txt\u001b[0m\u001b[0;34m(\u001b[0m\u001b[0mjustxt_file\u001b[0m\u001b[0;34m,\u001b[0m\u001b[0mtop\u001b[0m\u001b[0;34m)\u001b[0m\u001b[0;34m\u001b[0m\u001b[0;34m\u001b[0m\u001b[0m\n\u001b[1;32m     14\u001b[0m       \u001b[0mjustxt_file\u001b[0m \u001b[0;34m=\u001b[0m \u001b[0mreplace_numbers\u001b[0m\u001b[0;34m(\u001b[0m\u001b[0mjustxt_file\u001b[0m\u001b[0;34m)\u001b[0m\u001b[0;34m\u001b[0m\u001b[0;34m\u001b[0m\u001b[0m\n",
            "\u001b[0;32m<ipython-input-5-8c8e21d4594e>\u001b[0m in \u001b[0;36mtokenize_remove_punc\u001b[0;34m(txt)\u001b[0m\n\u001b[1;32m      4\u001b[0m   \u001b[0;34m[\u001b[0m\u001b[0mword\u001b[0m \u001b[0;32mif\u001b[0m \u001b[0mword\u001b[0m\u001b[0;34m.\u001b[0m\u001b[0misalpha\u001b[0m\u001b[0;34m(\u001b[0m\u001b[0;34m)\u001b[0m \u001b[0;32melse\u001b[0m \u001b[0;34m'N'\u001b[0m \u001b[0;32mfor\u001b[0m \u001b[0mword\u001b[0m \u001b[0;32min\u001b[0m \u001b[0mtxt\u001b[0m\u001b[0;34m]\u001b[0m\u001b[0;34m\u001b[0m\u001b[0;34m\u001b[0m\u001b[0m\n\u001b[1;32m      5\u001b[0m \u001b[0;32mdef\u001b[0m \u001b[0mtokenize_remove_punc\u001b[0m\u001b[0;34m(\u001b[0m\u001b[0mtxt\u001b[0m\u001b[0;34m)\u001b[0m\u001b[0;34m:\u001b[0m\u001b[0;34m\u001b[0m\u001b[0;34m\u001b[0m\u001b[0m\n\u001b[0;32m----> 6\u001b[0;31m   \u001b[0;32mreturn\u001b[0m \u001b[0mlist\u001b[0m\u001b[0;34m(\u001b[0m\u001b[0mfilter\u001b[0m\u001b[0;34m(\u001b[0m\u001b[0;32mlambda\u001b[0m \u001b[0mword\u001b[0m\u001b[0;34m:\u001b[0m \u001b[0mword\u001b[0m \u001b[0;32mnot\u001b[0m \u001b[0;32min\u001b[0m \u001b[0;34m'.,:;?!@#*&%$<>'\u001b[0m\u001b[0;34m,\u001b[0m \u001b[0mtokenizer\u001b[0m\u001b[0;34m.\u001b[0m\u001b[0mtokenize\u001b[0m\u001b[0;34m(\u001b[0m\u001b[0mtxt\u001b[0m\u001b[0;34m)\u001b[0m\u001b[0;34m)\u001b[0m\u001b[0;34m)\u001b[0m\u001b[0;34m\u001b[0m\u001b[0;34m\u001b[0m\u001b[0m\n\u001b[0m\u001b[1;32m      7\u001b[0m \u001b[0;32mdef\u001b[0m \u001b[0msegment_sents\u001b[0m\u001b[0;34m(\u001b[0m\u001b[0mtxt\u001b[0m\u001b[0;34m)\u001b[0m\u001b[0;34m:\u001b[0m\u001b[0;34m\u001b[0m\u001b[0;34m\u001b[0m\u001b[0m\n\u001b[1;32m      8\u001b[0m   \u001b[0;32mreturn\u001b[0m \u001b[0msent_tokenize\u001b[0m\u001b[0;34m(\u001b[0m\u001b[0mtxt\u001b[0m\u001b[0;34m)\u001b[0m\u001b[0;34m\u001b[0m\u001b[0;34m\u001b[0m\u001b[0m\n",
            "\u001b[0;31mTypeError\u001b[0m: tokenize() missing 1 required positional argument: 's'"
          ]
        }
      ]
    },
    {
      "cell_type": "code",
      "metadata": {
        "id": "CHDe8X2YQKQa",
        "colab_type": "code",
        "colab": {}
      },
      "source": [
        "print()"
      ],
      "execution_count": 0,
      "outputs": []
    }
  ]
}