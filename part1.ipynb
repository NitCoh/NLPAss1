{
  "nbformat": 4,
  "nbformat_minor": 0,
  "metadata": {
    "kernelspec": {
      "display_name": "Python 3",
      "language": "python",
      "name": "python3"
    },
    "language_info": {
      "codemirror_mode": {
        "name": "ipython",
        "version": 3
      },
      "file_extension": ".py",
      "mimetype": "text/x-python",
      "name": "python",
      "nbconvert_exporter": "python",
      "pygments_lexer": "ipython3",
      "version": "3.5.3+"
    },
    "colab": {
      "name": "part1.ipynb",
      "provenance": []
    }
  },
  "cells": [
    {
      "cell_type": "code",
      "metadata": {
        "id": "CmdROlJJNtLk",
        "colab_type": "code",
        "outputId": "7191f674-bbdc-425c-f424-6e39cd5dcd25",
        "colab": {
          "base_uri": "https://localhost:8080/",
          "height": 119
        }
      },
      "source": [
        "!pip install justext"
      ],
      "execution_count": 2,
      "outputs": [
        {
          "output_type": "stream",
          "text": [
            "Collecting justext\n",
            "\u001b[?25l  Downloading https://files.pythonhosted.org/packages/6c/5f/c7b909b4b864ebcacfac23ce2f6f01a50c53628787cc14b3c06f79464cab/jusText-2.2.0-py2.py3-none-any.whl (860kB)\n",
            "\u001b[K     |████████████████████████████████| 870kB 2.8MB/s \n",
            "\u001b[?25hRequirement already satisfied: lxml>=2.2.4 in /usr/local/lib/python3.6/dist-packages (from justext) (4.2.6)\n",
            "Installing collected packages: justext\n",
            "Successfully installed justext-2.2.0\n"
          ],
          "name": "stdout"
        }
      ]
    },
    {
      "cell_type": "code",
      "metadata": {
        "id": "qWh_5rVkOyMl",
        "colab_type": "code",
        "colab": {}
      },
      "source": [
        "import numpy as np\n",
        "import nltk\n",
        "import justext\n",
        "import re\n",
        "from nltk.tokenize import sent_tokenize\n",
        "import collections"
      ],
      "execution_count": 0,
      "outputs": []
    },
    {
      "cell_type": "code",
      "metadata": {
        "id": "IQ8c3aHnlDx5",
        "colab_type": "code",
        "outputId": "e6081b89-b8dc-4f3b-c1b6-49e4adb2b8d7",
        "colab": {
          "base_uri": "https://localhost:8080/",
          "height": 69
        }
      },
      "source": [
        "nltk.download('punkt')"
      ],
      "execution_count": 0,
      "outputs": [
        {
          "output_type": "stream",
          "text": [
            "[nltk_data] Downloading package punkt to /root/nltk_data...\n",
            "[nltk_data]   Unzipping tokenizers/punkt.zip.\n"
          ],
          "name": "stdout"
        },
        {
          "output_type": "execute_result",
          "data": {
            "text/plain": [
              "True"
            ]
          },
          "metadata": {
            "tags": []
          },
          "execution_count": 3
        }
      ]
    },
    {
      "cell_type": "markdown",
      "metadata": {
        "id": "bo6kW-6tyCPg",
        "colab_type": "text"
      },
      "source": [
        "1.1.1"
      ]
    },
    {
      "cell_type": "code",
      "metadata": {
        "id": "-eDGnqmpRq9z",
        "colab_type": "code",
        "colab": {}
      },
      "source": [
        "def top_txt(txt,top):\n",
        "  most_common_words = [word for (word,f) in collections.Counter(txt).most_common(top)]\n",
        "  return ''.join([word if word in most_common_words or word=='N' else '<unk>' for word in txt])\n",
        "def replace_numbers(txt):\n",
        "  #TODO:: Check replace numbers RegEx.\n",
        "  num_format = re.compile(\"^[\\-]?[1-9][0-9]*\\.?[0-9]+$\")\n",
        "  return \"\".join([word if not re.match(num_format,word) else 'N' for word in txt])\n",
        "def remove_punc(txt):\n",
        "  without_punc = \"\".join([ c if c not in '.,:;?!@#*&%$<>' else '' for c in txt])\n",
        "  return without_punc.replace(\"  \",\" \")\n",
        "def tokenize(txt):\n",
        "  return \" \".join(nltk.word_tokenize(txt))\n",
        "def segment_sents(txt):\n",
        "  return \"\\n\".join(nltk.sent_tokenize(txt))\n",
        "def lower_txt(txt):\n",
        "  return txt.lower()"
      ],
      "execution_count": 0,
      "outputs": []
    },
    {
      "cell_type": "code",
      "metadata": {
        "id": "P2KptyAiOyM4",
        "colab_type": "code",
        "colab": {}
      },
      "source": [
        "def ptb_preprocess(filenames, top=10000):\n",
        "  for filename in filenames:\n",
        "    with open(filename) as myfile:\n",
        "      \n",
        "\n",
        "      txt_file =  myfile.read().replace('\\n',' ')\n",
        "      paragraphs = justext.justext(txt_file, justext.get_stoplist(\"English\"))\n",
        "      raw_text = \"\\n\".join([p.text for p in paragraphs if not p.is_boilerplate])\n",
        "\n",
        "\n",
        "      # raw_text = lower_txt(raw_text)\n",
        "      # raw_text = segment_sents(raw_text)\n",
        "      # print('segment_sents')\n",
        "      # print(raw_text[:200])\n",
        "      # raw_text = remove_punc(raw_text)\n",
        "      # print('remove_punkt')\n",
        "      # print(raw_text[:200])\n",
        "      # raw_text = tokenize(raw_text)\n",
        "      # print('tokenize')\n",
        "      # print(raw_text[:200])\n",
        "      # raw_text = replace_numbers(raw_text)\n",
        "      # print('replace_numbers')\n",
        "      # print(raw_text[:200])\n",
        "      # raw_text = top_txt(raw_text,top)\n",
        "      # print('top_txt')\n",
        "      # print(raw_text[:200])\n",
        "\n",
        "      raw_text = top_txt(raw_text,top)\n",
        "      raw_text = replace_numbers(raw_text)\n",
        "      raw_text = tokenize(raw_text)\n",
        "      raw_text = segment_sents(raw_text)\n",
        "      raw_text = remove_punc(raw_text)\n",
        "      raw_text = lower_txt(raw_text)\n",
        "      \n",
        "      \n",
        "      new_filename = filename+'.out'\n",
        "      #print(new_filename)\n",
        "      with open(new_filename, \"w\") as text_file:\n",
        "        text_file.write(raw_text)\n",
        "\n"
      ],
      "execution_count": 0,
      "outputs": []
    },
    {
      "cell_type": "code",
      "metadata": {
        "id": "XNWfFRBhQCz2",
        "colab_type": "code",
        "outputId": "353a903b-48b5-4227-e286-36c053af0125",
        "colab": {
          "base_uri": "https://localhost:8080/",
          "height": 228
        }
      },
      "source": [
        "!wget https://cs.stanford.edu/people/karpathy/char-rnn/shakespeare_input.txt "
      ],
      "execution_count": 0,
      "outputs": [
        {
          "output_type": "stream",
          "text": [
            "--2019-12-24 10:18:59--  https://cs.stanford.edu/people/karpathy/char-rnn/shakespeare_input.txt\n",
            "Resolving cs.stanford.edu (cs.stanford.edu)... 171.64.64.64\n",
            "Connecting to cs.stanford.edu (cs.stanford.edu)|171.64.64.64|:443... connected.\n",
            "HTTP request sent, awaiting response... 200 OK\n",
            "Length: 4573338 (4.4M) [text/plain]\n",
            "Saving to: ‘shakespeare_input.txt’\n",
            "\n",
            "shakespeare_input.t 100%[===================>]   4.36M  3.83MB/s    in 1.1s    \n",
            "\n",
            "2019-12-24 10:19:01 (3.83 MB/s) - ‘shakespeare_input.txt’ saved [4573338/4573338]\n",
            "\n"
          ],
          "name": "stdout"
        }
      ]
    },
    {
      "cell_type": "markdown",
      "metadata": {
        "id": "Ts1OWn9yE5hx",
        "colab_type": "text"
      },
      "source": [
        "1.1.1 Discussion: According to the descripted above if we apply the conventions of Penn Treebank, we shall give independent meaning for every word after the tokenization. Also, if we use character-level language model, we shall get another definition - morphological, because now we care about structure of the word."
      ]
    },
    {
      "cell_type": "markdown",
      "metadata": {
        "id": "B1twpt96H3Ja",
        "colab_type": "text"
      },
      "source": [
        "1.1.2 :"
      ]
    },
    {
      "cell_type": "code",
      "metadata": {
        "id": "kl1uQDDlH55T",
        "colab_type": "code",
        "outputId": "53370895-e99d-483c-efb6-53bb38fbeb10",
        "colab": {
          "base_uri": "https://localhost:8080/",
          "height": 1000
        }
      },
      "source": [
        "!wget http://www.fit.vutbr.cz/~imikolov/rnnlm/simple-examples.tgz\n",
        "!tar zxvf simple-examples.tgz\n",
        "\n",
        "!ls simple-examples/data\n",
        "!mv ./simple-examples/data ../data"
      ],
      "execution_count": 0,
      "outputs": [
        {
          "output_type": "stream",
          "text": [
            "--2019-12-24 10:19:03--  http://www.fit.vutbr.cz/~imikolov/rnnlm/simple-examples.tgz\n",
            "Resolving www.fit.vutbr.cz (www.fit.vutbr.cz)... 147.229.9.23, 2001:67c:1220:809::93e5:917\n",
            "Connecting to www.fit.vutbr.cz (www.fit.vutbr.cz)|147.229.9.23|:80... connected.\n",
            "HTTP request sent, awaiting response... 200 OK\n",
            "Length: 34869662 (33M) [application/x-gtar]\n",
            "Saving to: ‘simple-examples.tgz’\n",
            "\n",
            "simple-examples.tgz 100%[===================>]  33.25M  19.9MB/s    in 1.7s    \n",
            "\n",
            "2019-12-24 10:19:06 (19.9 MB/s) - ‘simple-examples.tgz’ saved [34869662/34869662]\n",
            "\n",
            "./\n",
            "./simple-examples/\n",
            "./simple-examples/data/\n",
            "./simple-examples/data/ptb.test.txt\n",
            "./simple-examples/data/ptb.train.txt\n",
            "./simple-examples/data/ptb.valid.txt\n",
            "./simple-examples/data/README\n",
            "./simple-examples/data/ptb.char.train.txt\n",
            "./simple-examples/data/ptb.char.test.txt\n",
            "./simple-examples/data/ptb.char.valid.txt\n",
            "./simple-examples/models/\n",
            "./simple-examples/models/swb.ngram.model\n",
            "./simple-examples/models/swb.rnn.model\n",
            "./simple-examples/models/README\n",
            "./simple-examples/rnnlm-0.2b/\n",
            "./simple-examples/rnnlm-0.2b/CHANGE.log\n",
            "./simple-examples/rnnlm-0.2b/FAQ.txt\n",
            "./simple-examples/rnnlm-0.2b/convert.c\n",
            "./simple-examples/rnnlm-0.2b/makefile\n",
            "./simple-examples/rnnlm-0.2b/rnnlm.cpp\n",
            "./simple-examples/rnnlm-0.2b/rnnlmlib.cpp\n",
            "./simple-examples/rnnlm-0.2b/rnnlmlib.h\n",
            "./simple-examples/rnnlm-0.2b/prob.c\n",
            "./simple-examples/rnnlm-0.2b/test\n",
            "./simple-examples/rnnlm-0.2b/train\n",
            "./simple-examples/rnnlm-0.2b/valid\n",
            "./simple-examples/rnnlm-0.2b/example.sh\n",
            "./simple-examples/rnnlm-0.2b/example.output\n",
            "./simple-examples/rnnlm-0.2b/COPYRIGHT.txt\n",
            "./simple-examples/1-train/\n",
            "./simple-examples/1-train/train.sh\n",
            "./simple-examples/1-train/test.sh\n",
            "./simple-examples/1-train/README\n",
            "./simple-examples/3-combination/\n",
            "./simple-examples/3-combination/train.sh\n",
            "./simple-examples/3-combination/test.sh\n",
            "./simple-examples/3-combination/README\n",
            "./simple-examples/2-nbest-rescore/\n",
            "./simple-examples/2-nbest-rescore/lattices/\n",
            "./simple-examples/2-nbest-rescore/lattices/AMI-3E0501_u3005_127040_127488.lat.gz\n",
            "./simple-examples/2-nbest-rescore/lattices/AMI-3E0501_u3005_127513_127835.lat.gz\n",
            "./simple-examples/2-nbest-rescore/lattices/AMI-3E0501_u3005_127865_128175.lat.gz\n",
            "./simple-examples/2-nbest-rescore/lattices/AMI-3E0501_u3005_128188_128447.lat.gz\n",
            "./simple-examples/2-nbest-rescore/lattices/AMI-3E0501_u3005_128490_129032.lat.gz\n",
            "./simple-examples/2-nbest-rescore/lattices/nbest.sh\n",
            "./simple-examples/2-nbest-rescore/lattices/nbest/\n",
            "./simple-examples/2-nbest-rescore/lattices/latlist\n",
            "./simple-examples/2-nbest-rescore/README\n",
            "./simple-examples/2-nbest-rescore/getbest.c\n",
            "./simple-examples/2-nbest-rescore/gettext.c\n",
            "./simple-examples/2-nbest-rescore/makenbest.c\n",
            "./simple-examples/2-nbest-rescore/makenbest\n",
            "./simple-examples/2-nbest-rescore/gettext\n",
            "./simple-examples/2-nbest-rescore/getbest\n",
            "./simple-examples/5-one-iter/\n",
            "./simple-examples/5-one-iter/test.sh\n",
            "./simple-examples/5-one-iter/train.sh\n",
            "./simple-examples/5-one-iter/README\n",
            "./simple-examples/6-recovery-during-training/\n",
            "./simple-examples/6-recovery-during-training/test.sh\n",
            "./simple-examples/6-recovery-during-training/train.sh\n",
            "./simple-examples/6-recovery-during-training/README\n",
            "./simple-examples/7-dynamic-evaluation/\n",
            "./simple-examples/7-dynamic-evaluation/test.sh\n",
            "./simple-examples/7-dynamic-evaluation/train.sh\n",
            "./simple-examples/7-dynamic-evaluation/README\n",
            "./simple-examples/temp/\n",
            "./simple-examples/8-direct/\n",
            "./simple-examples/8-direct/train.sh\n",
            "./simple-examples/8-direct/test.sh\n",
            "./simple-examples/8-direct/README\n",
            "./simple-examples/4-data-generation/\n",
            "./simple-examples/4-data-generation/train.sh\n",
            "./simple-examples/4-data-generation/test.sh\n",
            "./simple-examples/4-data-generation/README\n",
            "./simple-examples/9-char-based-lm/\n",
            "./simple-examples/9-char-based-lm/test.sh\n",
            "./simple-examples/9-char-based-lm/train.sh\n",
            "./simple-examples/9-char-based-lm/README\n",
            "ptb.char.test.txt   ptb.char.valid.txt\tptb.train.txt  README\n",
            "ptb.char.train.txt  ptb.test.txt\tptb.valid.txt\n"
          ],
          "name": "stdout"
        }
      ]
    },
    {
      "cell_type": "code",
      "metadata": {
        "id": "8VgRPhj407Tc",
        "colab_type": "code",
        "outputId": "fc291400-f6be-45d0-c3b0-20b0f6d252ba",
        "colab": {
          "base_uri": "https://localhost:8080/",
          "height": 34
        }
      },
      "source": [
        "!ls"
      ],
      "execution_count": 0,
      "outputs": [
        {
          "output_type": "stream",
          "text": [
            "sample_data  shakespeare_input.txt  simple-examples  simple-examples.tgz\n"
          ],
          "name": "stdout"
        }
      ]
    },
    {
      "cell_type": "code",
      "metadata": {
        "id": "8u-G63oDV2MZ",
        "colab_type": "code",
        "outputId": "d4139d8c-d7f4-4dca-fc3f-9ffb75439c16",
        "colab": {
          "base_uri": "https://localhost:8080/",
          "height": 34
        }
      },
      "source": [
        "len(set(remove_punc('hello, you, hello').split()))"
      ],
      "execution_count": 0,
      "outputs": [
        {
          "output_type": "execute_result",
          "data": {
            "text/plain": [
              "2"
            ]
          },
          "metadata": {
            "tags": []
          },
          "execution_count": 9
        }
      ]
    },
    {
      "cell_type": "code",
      "metadata": {
        "id": "2_9519iByOPy",
        "colab_type": "code",
        "colab": {}
      },
      "source": [
        "def num_token(txt):\n",
        "  txt = txt.lower()\n",
        "  return len(nltk.word_tokenize(txt))\n",
        "def num_char(txt):\n",
        "  return len(''.join(txt.split()))\n",
        "def dist_words(txt): #vocabulary size\n",
        "  txt = txt.lower()\n",
        "  return len(set(remove_punc(txt).split()))\n",
        "def topN_words(txt,N):\n",
        "  most_common_words = ' '.join([word for (word,f) in collections.Counter(txt).most_common(N)])\n",
        "  return num_tokenize(most_common_words)\n",
        "def token_type_ratio(txt):\n",
        "  return num_token(txt)/dist_words(txt)\n",
        "\n",
        "def types_oov(txt_dev,txt_train): #Out Of Vocabulary \n",
        "    txt_dev = txt_dev.lower()\n",
        "    text_dev_set = set(remove_punc(txt_dev).split())\n",
        "    txt_train = txt_train.lower()\n",
        "    text_train_set = set(remove_punc(txt_train).split())\n",
        "    return len(tex_dev_set.difference(text_train_set))\n",
        "def avg_sd_char_token(txt):\n",
        "  total_chars = sum( [len(w) for w in nltk.word_tokenize(txt)])\n",
        "  avg =  total_chars/num_token(txt)\n",
        "\n",
        "  total_avg_chars = sum( [len(w)-avg for w in nltk.word_tokenize(txt)])\n",
        "  sd =  total_chars/num_token(txt)\n",
        "  return avg,sd\n",
        "\n",
        "def dist_n_gram_words(txt,n=[2,3,4]):\n",
        "  txt = txt.lower()\n",
        "  txt = nltk.word_tokenize(txt)\n",
        "  ans = {}\n",
        "  for i in n:\n",
        "    ans[i] = diff_grams(txt,i)\n",
        "  return ans\n",
        "\n",
        "def dist_n_gram_chars(txt,n=range(1,8)):\n",
        "  ans = {}\n",
        "  for i in n:\n",
        "    ans[i] = diff_grams(txt,i)\n",
        "  return ans\n",
        "\n",
        "def diff_grams(txt,n):\n",
        "  s = set()\n",
        "  gram = list(range(0,n))\n",
        "  while gram[-1]!=len(txt):\n",
        "    next_gram = tuple([txt[g] for g in gram])\n",
        "    s.add(next_gram)\n",
        "    gram = [g+1 for g in gram]\n",
        "  return len(s)"
      ],
      "execution_count": 0,
      "outputs": []
    },
    {
      "cell_type": "code",
      "metadata": {
        "id": "ceYy9o1urbi0",
        "colab_type": "code",
        "outputId": "f0e6b22a-06f9-41da-ff13-02d04e188347",
        "colab": {
          "base_uri": "https://localhost:8080/",
          "height": 34
        }
      },
      "source": [
        "# you need matplotlib version 1.4 or above\n",
        "import matplotlib.pyplot as plt\n",
        "import matplotlib\n",
        "print(matplotlib.__version__)\n",
        "%matplotlib inline\n",
        "def power_law_rule(corpus):\n",
        "  corpus = lower_txt(corpus)\n",
        "  corpus = tokenize(corpus)\n",
        "  plt.loglog([val for word,val in collections.Counter(corpus).most_common(4000)])\n",
        "  plt.xlabel('rank')\n",
        "  plt.ylabel('frequency');"
      ],
      "execution_count": 0,
      "outputs": [
        {
          "output_type": "stream",
          "text": [
            "3.1.2\n"
          ],
          "name": "stdout"
        }
      ]
    },
    {
      "cell_type": "code",
      "metadata": {
        "id": "BY9AIs-GKmGV",
        "colab_type": "code",
        "outputId": "8e5c472f-f40f-469b-9343-5fd196713c75",
        "colab": {
          "base_uri": "https://localhost:8080/",
          "height": 288
        }
      },
      "source": [
        "import os\n",
        "\n",
        "dir = '../data'\n",
        "for filename in os.listdir(dir):\n",
        "  with open(dir+'/'+ filename,'r') as file:\n",
        "      data = file.read()\n",
        "      power_law_rule(data)"
      ],
      "execution_count": 0,
      "outputs": [
        {
          "output_type": "display_data",
          "data": {
            "image/png": "[encoded data removed]",
            "text/plain": [
              "<Figure size 432x288 with 1 Axes>"
            ]
          },
          "metadata": {
            "tags": []
          }
        }
      ]
    },
    {
      "cell_type": "markdown",
      "metadata": {
        "id": "ikQJvQfnt6Ba",
        "colab_type": "text"
      },
      "source": [
        "1.2 n-gram Word Language Model"
      ]
    },
    {
      "cell_type": "code",
      "metadata": {
        "colab_type": "code",
        "id": "YzeX7KNdYhPL",
        "colab": {}
      },
      "source": [
        "#how to calculate the freq of h*w\n",
        "#how to calculate the freq of w.\n",
        "\n",
        "from collections import Counter,defaultdict\n",
        "import math\n",
        "from functools import reduce\n",
        "\n",
        "class LangModell:\n",
        "  def predict_next_word(self,prev_words):\n",
        "    pass\n",
        "  def evaluate_next_word(self,prev_word):\n",
        "    pass\n",
        "  \n",
        "class n_gram_model():\n",
        "  def __init__(self,gamma=0):\n",
        "    self.outlm = {}\n",
        "    self.freq_words = collections.Counter()\n",
        "    self.gamma = gamma\n",
        "\n",
        "  def train_model(self, dataset,n,pre_process,tokenize=True):\n",
        "    lm = defaultdict(Counter)\n",
        "    if pre_process == True :\n",
        "      ptb_preprocess([dataset])\n",
        "    filename =  dataset if pre_process == False else dataset+'.out'\n",
        "    with open(filename) as file:\n",
        "      data = file.read()\n",
        "      if tokenize:\n",
        "        data = nltk.word_tokenize(data)\n",
        "    self.freq_words = collections.Counter(data)\n",
        "    n = n-1\n",
        "    if tokenize:\n",
        "      pad = [\"~\"] * n\n",
        "    else:\n",
        "      pad = '~' * n\n",
        "    data = pad + data\n",
        "    for i in range(len(data)-n):\n",
        "        history, word = tuple(data[i:i+n]), data[i+n]\n",
        "        lm[history][word]+=1\n",
        "\n",
        "    def normalize(counter):\n",
        "\n",
        "       #(c+gamma)/(N+B*gamma) according to the lidstone estimator from the NLTK docs.\n",
        "      \n",
        "        N = float(sum(counter.values()))\n",
        "        B = len(counter)\n",
        "        return { word : c+self.gamma/(N+B*self.gamma) for word,c in counter.items()}\n",
        "\n",
        "    self.freq_words= {word:freq/len(data) for word,freq in self.freq_words.items()}\n",
        "    self.not_normalized_lm = lm\n",
        "    self.outlm = {hist:normalize(cntr) for hist, cntr in lm.items()}\n",
        "\n",
        "  def predict_next_word(self, prev_words,chars=False):\n",
        "    if chars:\n",
        "      possible_words = self.outln(tuple(prev_words))\n",
        "    else:\n",
        "      possible_words =  self.outlm[tuple(nltk.word_tokenize(prev_words.lower()))]\n",
        "    next_word, prob = max(possible_words.items(), key=lambda x:x[1])\n",
        "    return next_word,prob\n",
        "\n",
        "  def evaluate_next_word(self, prev_words,next_word):\n",
        "    prev_words = tuple(nltk.word_tokenize(prev_words.lower()))\n",
        "    if prev_words in self.outlm:\n",
        "      counter = self.not_normalized_lm[prev_words]\n",
        "      N = float(sum(counter.values()))\n",
        "      B = len(counter)\n",
        "      c = self.not_normalized_lm[prev_words][next_word]\n",
        "      return (c+self.gamma)/(N+B*self.gamma) \n",
        "    return 0\n",
        "\n",
        "def perplexity(model,test_filename,pre_process=True,n=2):\n",
        "  if pre_process == True:\n",
        "    ptb_preprocess([test_filename])\n",
        "    filename = test_filename+'.out'\n",
        "  else:\n",
        "    filename=test_filename\n",
        "  with open(filename) as file:\n",
        "    data = nltk.word_tokenize(file.read())\n",
        "  answer = 1\n",
        "  #print(\"Number of tested tokens :\", len(data))\n",
        "  for i in range(len(data) - (n+1)):\n",
        "    prev_words = ' '.join(data[i:i+n-1])\n",
        "    next_word = data[i+n-1]\n",
        "    eval = model.evaluate_next_word(prev_words,next_word)\n",
        "    #print(eval)\n",
        "    if eval!=0:\n",
        "      eval = (1/eval) **(1/len(data))\n",
        "      answer*= eval\n",
        "  return answer  \n",
        "\n",
        "def cross_entropy(model,test_filename,pre_process=True):\n",
        "  #TODO: validate how to calculate it\n",
        "  if pre_process == True:\n",
        "    ptb_preprocess([test_filename])\n",
        "    filename = test_filename+'.out'\n",
        "  else:\n",
        "    filename = test_filename\n",
        "  with open(filename) as file:\n",
        "    data = nltk.word_tokenize(file.read())\n",
        "  return sum( [math.log(model.freq_words[word],2)/len(data) for word in data] )\n",
        "\n",
        "def train_word_gen(dataset,n=2,gamma=0):\n",
        "  lm = n_gram_model(gamma=gamma)\n",
        "  lm.train_model(dataset,n,False)\n",
        "  return lm\n",
        "\n",
        "def train_word_lm(dataset,n=2,tokenize=True):\n",
        "  lm = n_gram_model()\n",
        "  lm.train_model(dataset,n,False,tokenize=tokenize)\n",
        "  return lm"
      ],
      "execution_count": 0,
      "outputs": []
    },
    {
      "cell_type": "code",
      "metadata": {
        "id": "rJFllViIGOy0",
        "colab_type": "code",
        "outputId": "92941c67-552f-484e-f163-5e738e04429b",
        "colab": {
          "base_uri": "https://localhost:8080/",
          "height": 34
        }
      },
      "source": [
        "#Example:\n",
        "lm = train_word_lm('../data/ptb.train.txt')\n",
        "lm.predict_next_word('Not')"
      ],
      "execution_count": 0,
      "outputs": [
        {
          "output_type": "execute_result",
          "data": {
            "text/plain": [
              "('to', 117.0)"
            ]
          },
          "metadata": {
            "tags": []
          },
          "execution_count": 28
        }
      ]
    },
    {
      "cell_type": "markdown",
      "metadata": {
        "id": "ZF0DbCy4QwZz",
        "colab_type": "text"
      },
      "source": [
        "*1.2.2 How much memory do you expect a model to occupy? Refer to the statistics results above and provide worst-case estimates as well as expected.*\n",
        "\n",
        "**Answer:** For each bigram in the text, we a list of tuples - each the size of 2 (bigram) and a word after it.\n",
        "We can compute with the statistics the total number of distinct bigrams and multiply it by total number of distinct words in the corpus - that will be the worst case."
      ]
    },
    {
      "cell_type": "code",
      "metadata": {
        "id": "8kqHPsuWRcjQ",
        "colab_type": "code",
        "outputId": "9afd7d3f-39d6-47c4-d047-07535cc3da3c",
        "colab": {
          "base_uri": "https://localhost:8080/",
          "height": 52
        }
      },
      "source": [
        "with open('../data/ptb.train.txt','r') as file:\n",
        "  data = file.read()\n",
        "  print(dist_words(data))\n",
        "  print(dist_n_gram_words(data,n=[2]))\n",
        "\n"
      ],
      "execution_count": 0,
      "outputs": [
        {
          "output_type": "stream",
          "text": [
            "9941\n",
            "{2: 277419}\n"
          ],
          "name": "stdout"
        }
      ]
    },
    {
      "cell_type": "code",
      "metadata": {
        "id": "BaR5k81TYBNf",
        "colab_type": "code",
        "outputId": "72be84ac-6d1e-4d62-8544-0a8b11521075",
        "colab": {
          "base_uri": "https://localhost:8080/",
          "height": 34
        }
      },
      "source": [
        "perplexity(lm,'../data/ptb.test.txt',False)"
      ],
      "execution_count": 0,
      "outputs": [
        {
          "output_type": "execute_result",
          "data": {
            "text/plain": [
              "16.545459326639662"
            ]
          },
          "metadata": {
            "tags": []
          },
          "execution_count": 30
        }
      ]
    },
    {
      "cell_type": "code",
      "metadata": {
        "id": "YG7Lq2pP3ed-",
        "colab_type": "code",
        "outputId": "6f1d47d7-d536-482f-e6f9-c594f5abd0b9",
        "colab": {
          "base_uri": "https://localhost:8080/",
          "height": 34
        }
      },
      "source": [
        "cross_entropy(lm,'../data/ptb.test.txt',False)"
      ],
      "execution_count": 0,
      "outputs": [
        {
          "output_type": "execute_result",
          "data": {
            "text/plain": [
              "-9.063709298744856"
            ]
          },
          "metadata": {
            "tags": []
          },
          "execution_count": 31
        }
      ]
    },
    {
      "cell_type": "markdown",
      "metadata": {
        "id": "ATkR9e09X-3m",
        "colab_type": "text"
      },
      "source": [
        "##1.3.1"
      ]
    },
    {
      "cell_type": "code",
      "metadata": {
        "id": "9KA6k5XVi3pD",
        "colab_type": "code",
        "outputId": "2d7b2a2a-d460-40d7-b426-75dcc3104549",
        "colab": {
          "base_uri": "https://localhost:8080/",
          "height": 298
        }
      },
      "source": [
        "\n",
        "gamma_values = np.linspace(0.1,1,num=7)\n",
        "perplexity_values = []\n",
        "for gamma in gamma_values:\n",
        "  lm = train_word_gen('../data/ptb.train.txt',gamma=gamma)\n",
        "  perplexity_values += [perplexity(lm,'../data/ptb.valid.txt')]\n",
        "\n",
        "plt.plot(gamma_values,perplexity_values)\n",
        "#plt.loglog([val for word,val in collections.Counter(corpus).most_common(4000)])\n",
        "plt.xlabel('$\\gamma$')\n",
        "plt.ylabel('PERPLEXITY')"
      ],
      "execution_count": 0,
      "outputs": [
        {
          "output_type": "execute_result",
          "data": {
            "text/plain": [
              "Text(0, 0.5, 'PERPLEXITY')"
            ]
          },
          "metadata": {
            "tags": []
          },
          "execution_count": 77
        },
        {
          "output_type": "display_data",
          "data": {
            "image/png": "[encoded data removed]",
            "text/plain": [
              "<Figure size 432x288 with 1 Axes>"
            ]
          },
          "metadata": {
            "tags": []
          }
        }
      ]
    },
    {
      "cell_type": "code",
      "metadata": {
        "id": "Vm7hvhDof1TB",
        "colab_type": "code",
        "outputId": "49340e8a-100c-4c7a-80fc-a4550eca7e24",
        "colab": {
          "base_uri": "https://localhost:8080/",
          "height": 922
        }
      },
      "source": [
        "best_gamma = 1 #according to the plot above\n",
        "\n",
        "n_values = list(range(2,20,2))\n",
        "perplexity_values = []\n",
        "for n in n_values:\n",
        "  lm = train_word_gen('../data/ptb.train.txt',n=n,gamma=best_gamma)\n",
        "  print (perplexity(lm,'../data/ptb.valid.txt',n=n))\n",
        "  perplexity_values += [perplexity(lm,'../data/ptb.valid.txt',n=n)]\n",
        "\n",
        "plt.plot(n_values,perplexity_values)\n",
        "#plt.loglog([val for word,val in collections.Counter(corpus).most_common(4000)])\n",
        "plt.xlabel('n')\n",
        "plt.ylabel('PERPLEXITY')"
      ],
      "execution_count": 0,
      "outputs": [
        {
          "output_type": "stream",
          "text": [
            "*************\n",
            "2\n",
            "*************\n",
            "109.09225296489092\n",
            "*************\n",
            "4\n",
            "*************\n",
            "1.4732221154037362\n",
            "*************\n",
            "6\n",
            "*************\n",
            "1.0219284781911773\n",
            "*************\n",
            "8\n",
            "*************\n",
            "1.0041402175981577\n",
            "*************\n",
            "10\n",
            "*************\n",
            "1.0015080066888122\n",
            "*************\n",
            "12\n",
            "*************\n",
            "1.0001703209355337\n",
            "*************\n",
            "14\n",
            "*************\n",
            "1\n",
            "*************\n",
            "16\n",
            "*************\n",
            "1\n",
            "*************\n",
            "18\n",
            "*************\n",
            "1\n"
          ],
          "name": "stdout"
        },
        {
          "output_type": "execute_result",
          "data": {
            "text/plain": [
              "Text(0, 0.5, 'PERPLEXITY')"
            ]
          },
          "metadata": {
            "tags": []
          },
          "execution_count": 19
        },
        {
          "output_type": "display_data",
          "data": {
            "image/png": "[encoded data removed]",
            "text/plain": [
              "<Figure size 432x288 with 1 Axes>"
            ]
          },
          "metadata": {
            "tags": []
          }
        }
      ]
    },
    {
      "cell_type": "code",
      "metadata": {
        "id": "bObAunbNd86W",
        "colab_type": "code",
        "outputId": "0c08500b-4d85-4fa1-db79-d363dbc661a1",
        "colab": {
          "base_uri": "https://localhost:8080/",
          "height": 34
        }
      },
      "source": [
        "best_n = 3\n",
        "best_gamma =1\n",
        "\n",
        "lm = train_word_gen('../data/ptb.train.txt',n=best_n,gamma=best_gamma)\n",
        "print(perplexity(lm,'../data/ptb.test.txt',n=best_n))\n",
        "\n"
      ],
      "execution_count": 0,
      "outputs": [
        {
          "output_type": "stream",
          "text": [
            "6.202578534555306\n"
          ],
          "name": "stdout"
        }
      ]
    },
    {
      "cell_type": "markdown",
      "metadata": {
        "id": "rSvr9yXiniOW",
        "colab_type": "text"
      },
      "source": [
        "#TODO: for Nitzan\n",
        "1. Check what happens when for P(a|b) b=0 and specifically for our ngrams model\n",
        "2. Check with others about the perplexity when n>2\n",
        "3. compare perplexity graph accoridng to gamma"
      ]
    },
    {
      "cell_type": "markdown",
      "metadata": {
        "id": "jN2M2L6_hvrm",
        "colab_type": "text"
      },
      "source": [
        "1.3.2 Generating text\n",
        "\n",
        "Another way to evaluate a language model is to use the model in a generative manner - that is, to randomly sample sentences starting from a seed prefix, and generating each next word by sampling from the model distribution p(w | prefix).\n",
        "\n",
        "Discuss ways to generate when the seed is shorter than the history length of the n-gram model. Discuss ways to decide when the generation should stop. In this question, when you sample from the LM given a history, pick the most likely word generated by the LM. Report at least 5 randomly generated segments on different seeds and comment on what you observe."
      ]
    },
    {
      "cell_type": "code",
      "metadata": {
        "id": "uShEeeSRhy3b",
        "colab_type": "code",
        "colab": {}
      },
      "source": [
        "def generate(model,seed):\n",
        "  p = 0\n",
        "  output = seed\n",
        "  while True:\n",
        "    next_word, prob = model.predict_next_word(seed)\n",
        "    output = ' '+ next_word\n",
        "    p+= prob\n",
        "    if p>=1:\n",
        "      break\n",
        "  return output"
      ],
      "execution_count": 0,
      "outputs": []
    },
    {
      "cell_type": "code",
      "metadata": {
        "id": "upDb2_qoujQi",
        "colab_type": "code",
        "colab": {}
      },
      "source": [
        ""
      ],
      "execution_count": 0,
      "outputs": []
    },
    {
      "cell_type": "markdown",
      "metadata": {
        "id": "gUmvvNzMuyhr",
        "colab_type": "text"
      },
      "source": [
        "##1.4"
      ]
    },
    {
      "cell_type": "code",
      "metadata": {
        "id": "OETOoJS0u1hB",
        "colab_type": "code",
        "outputId": "0bdacab2-556f-4198-9428-b20c323aa5ce",
        "colab": {
          "base_uri": "https://localhost:8080/",
          "height": 298
        }
      },
      "source": [
        "#download the dataset\n",
        "!wget http://www.ffts.com/recipes/lg/lg32965.zip\n",
        "!unzip lg32965 -d recipes_dataset\n",
        "!rm lg32965.zip\n",
        "!ls"
      ],
      "execution_count": 0,
      "outputs": [
        {
          "output_type": "stream",
          "text": [
            "--2019-12-24 10:23:42--  http://www.ffts.com/recipes/lg/lg32965.zip\n",
            "Resolving www.ffts.com (www.ffts.com)... 66.96.149.1\n",
            "Connecting to www.ffts.com (www.ffts.com)|66.96.149.1|:80... connected.\n",
            "HTTP request sent, awaiting response... 200 OK\n",
            "Length: 11805248 (11M) [application/zip]\n",
            "Saving to: ‘lg32965.zip’\n",
            "\n",
            "\rlg32965.zip           0%[                    ]       0  --.-KB/s               \rlg32965.zip           0%[                    ] 105.14K   444KB/s               \rlg32965.zip           7%[>                   ] 905.88K  1.86MB/s               \rlg32965.zip          57%[==========>         ]   6.49M  9.12MB/s               \rlg32965.zip         100%[===================>]  11.26M  13.8MB/s    in 0.8s    \n",
            "\n",
            "2019-12-24 10:23:43 (13.8 MB/s) - ‘lg32965.zip’ saved [11805248/11805248]\n",
            "\n",
            "Archive:  lg32965.zip\n",
            "replace recipes_dataset/11000.mmf? [y]es, [n]o, [A]ll, [N]one, [r]ename: N\n",
            "recipes_dataset  shakespeare_input.txt\tsimple-examples.tgz  tmp_train.txt\n",
            "sample_data\t simple-examples\ttmp_test.txt\n"
          ],
          "name": "stdout"
        }
      ]
    },
    {
      "cell_type": "code",
      "metadata": {
        "id": "YliGO4-7wHZl",
        "colab_type": "code",
        "outputId": "9334568f-3108-4a1a-97cb-dd5fe01aca5f",
        "colab": {
          "base_uri": "https://localhost:8080/",
          "height": 86
        }
      },
      "source": [
        "#prepare dataset\n",
        "with open('recipes_dataset/32965.mmf',errors='ignore') as file:\n",
        "  recipes=[]\n",
        "  collector = []\n",
        "  for line in file:\n",
        "    line = str(line).replace('MMMMM','')#.replace('\\n','')\n",
        "    if 'Recipe via Meal-Master (tm) v8.05' in line:\n",
        "      recipes += [''.join(collector)]\n",
        "      collector = []\n",
        "    else:\n",
        "      collector += [line]\n",
        "  recipes += [''.join(collector)]\n",
        "  recipes = recipes[1:]\n",
        "\n",
        "#print statistics\n",
        "total_recipes = ''.join(recipes)\n",
        "print('number of recipes',len(recipes))\n",
        "print('number of tokens',num_token(total_recipes))\n",
        "print('number of characters',num_char(total_recipes))\n",
        "print('vocabulary size',dist_words(total_recipes))\n",
        "print('avg word count',float(np.mean([num_token(rec) for rec in recipes])))\n",
        "print('avg word length')\n"
      ],
      "execution_count": 0,
      "outputs": [
        {
          "output_type": "stream",
          "text": [
            "number of recipes 965\n",
            "number of tokens 201821\n",
            "number of characters 783933\n",
            "vocabulary size 10676\n"
          ],
          "name": "stdout"
        }
      ]
    },
    {
      "cell_type": "code",
      "metadata": {
        "id": "rZIHQhbqQf6t",
        "colab_type": "code",
        "colab": {}
      },
      "source": [
        "class MyDataLoader():\n",
        "\n",
        "  def __init__(self,dataset):\n",
        "    from math import floor,ceil\n",
        "\n",
        "    self.train_data = dataset[0:floor(0.8*len(dataset))]\n",
        "    self.valid_data = dataset[ceil(0.8*len(dataset)):floor(-0.1*len(dataset))]\n",
        "    self.test_data = dataset[ceil(-0.1*len(dataset)):]"
      ],
      "execution_count": 0,
      "outputs": []
    },
    {
      "cell_type": "code",
      "metadata": {
        "id": "uE952KY_p4vk",
        "colab_type": "code",
        "outputId": "b9d49c4b-86f4-400e-e4af-fc1270d06307",
        "colab": {
          "base_uri": "https://localhost:8080/",
          "height": 34
        }
      },
      "source": [
        "len(dataloader.valid_data)"
      ],
      "execution_count": 0,
      "outputs": [
        {
          "output_type": "execute_result",
          "data": {
            "text/plain": [
              "96"
            ]
          },
          "metadata": {
            "tags": []
          },
          "execution_count": 72
        }
      ]
    },
    {
      "cell_type": "code",
      "metadata": {
        "id": "TD2UKmNwQgrX",
        "colab_type": "code",
        "colab": {}
      },
      "source": [
        "dataloader = MyDataLoader(recipes)\n",
        "joined_recipes_train = ''.join(dataloader.train_data)\n",
        "joined_recipes_test = ''.join(dataloader.test_data)\n",
        "joined_recipes_val = ''.join(dataloader.valid_data)\n",
        "\n",
        "# with open('tmp_train.txt', \"w\") as text_file:\n",
        "#   text_file.write(joined_recipes_train)\n",
        "# with open('tmp_test.txt', \"w\") as text_file:\n",
        "#   text_file.write(joined_recipes_test)\n",
        "\n",
        "#using Ben Eyal's implementation for chars lang. model\n",
        "\n",
        "\n",
        "def create_lm(data, n=5):\n",
        "    pad = '$' * (n-1)\n",
        "    data = pad + data\n",
        "    cfd = nltk.ConditionalFreqDist((data[i : i + n-1], data[i + n-1]) for i in range(len(data) - (n-1)))\n",
        "    cpd = nltk.ConditionalProbDist(cfd, nltk.MLEProbDist)\n",
        "    return cpd\n",
        "\n",
        "def eyal_generate(lm,n,num_chars):\n",
        "  import string\n",
        "  import random\n",
        "\n",
        "  out = []\n",
        "  hist = '$' * (n-1)\n",
        "  for _ in range(num_chars):\n",
        "      try:\n",
        "        #print(hist)\n",
        "        #print(lm[hist])\n",
        "        letter = lm[hist].generate()\n",
        "      except:\n",
        "        break\n",
        "      hist = hist[1:] + letter\n",
        "      out.append(letter)\n",
        "  print(''.join(out))\n",
        "\n",
        "def eyal_perplexity(lm,data,n):\n",
        "  answer = 1\n",
        "  for i in range(len(data) - (n+1)):\n",
        "      prev_chars = data[i:i+n-1]\n",
        "      next_char= data[i+n-1]\n",
        "      eval = lm[prev_chars].prob(next_char)\n",
        "      if eval==0:\n",
        "        eval = 1/(128) #ascii (smoothing)\n",
        "      if eval!=0:\n",
        "        eval = (1/(eval)) **(1/len(data))\n",
        "        answer*= eval\n",
        "  return answer  \n",
        "\n",
        "\n"
      ],
      "execution_count": 0,
      "outputs": []
    },
    {
      "cell_type": "code",
      "metadata": {
        "id": "uNoqJZK8Ehnx",
        "colab_type": "code",
        "outputId": "f81f920c-7d42-4b55-a1b1-f09c3b7e9505",
        "colab": {
          "base_uri": "https://localhost:8080/",
          "height": 296
        }
      },
      "source": [
        "n_values = list(range(2,20,2))\n",
        "perplexity_values = []\n",
        "for n in n_values:\n",
        "  lm = create_lm(joined_recipes_train,n=n)\n",
        "  perplexity_values += [eyal_perplexity(lm,joined_recipes_val,n=n)]\n",
        "\n",
        "plt.plot(n_values,perplexity_values)\n",
        "plt.xlabel('n')\n",
        "plt.ylabel('PERPLEXITY')"
      ],
      "execution_count": 0,
      "outputs": [
        {
          "output_type": "execute_result",
          "data": {
            "text/plain": [
              "Text(0, 0.5, 'PERPLEXITY')"
            ]
          },
          "metadata": {
            "tags": []
          },
          "execution_count": 140
        },
        {
          "output_type": "display_data",
          "data": {
            "image/png": "[encoded data removed]",
            "text/plain": [
              "<Figure size 432x288 with 1 Axes>"
            ]
          },
          "metadata": {
            "tags": []
          }
        }
      ]
    },
    {
      "cell_type": "code",
      "metadata": {
        "id": "Io0MYhLtKRFu",
        "colab_type": "code",
        "outputId": "2cdeed26-14e4-4ad0-ae1f-3023110a13cb",
        "colab": {
          "base_uri": "https://localhost:8080/",
          "height": 593
        }
      },
      "source": [
        "best_n = 6 #according to the graph\n",
        "\n",
        "lm = create_lm(joined_recipes_train, n=best_n)\n",
        "num_chars = int(np.mean([num_char(rec) for rec in dataloader.test_data]))\n",
        "eyal_generate(lm,best_n,num_chars)"
      ],
      "execution_count": 0,
      "outputs": [
        {
          "output_type": "stream",
          "text": [
            " \n",
            "    1 c  Flour\n",
            "           1/3 c  Chopped\n",
            "      Juice the restaurant\n",
            "      1 md Onion, cut in small bowl.\n",
            "  \n",
            "    1 sm Lemon jelly and cookie\n",
            "  All-purpose them into a seive.  Make at\n",
            "  as they are melted by: ESSENCE OF EGGS REQUIRES DE CANARD DIBBLE\n",
            " Categories: Breakfast).\n",
            "  \n",
            "  Combine all\n",
            "  in and stir together 10 to 2 inch will onions and green spoon cubed\n",
            "    1/4 c  Onion, quart baking in fridge until it out freezer cook it, with a change seconds.  In a baking\n",
            "     2 lb Peeled and beef, coarsely. Stirrng Combine flavoring\n",
            "         1    Origin:  3 Grams fat by Rosie Winters of fresh\n",
            "  sauce\n",
            "        3/4 ts Pepper, sugar and cream butter or until the tuna and layer\n",
            " \n",
            "\n",
            " \n",
            " \n",
            "        Fresh ginger, cover with rum and 15 minutes, or less servings.\n",
            "  Stemmed, halves for\n",
            "  stir in egg mixture all in\n",
            "  to childred Fischer\n",
            "      In Double-crushed\n",
            "     3    Egg whites and mix. Divided\n",
            "            1/2 c  Water\n",
            "                3/4 cup. Add\n",
            "  tomatoes\n",
            "          2 tb Olive oil i\n"
          ],
          "name": "stdout"
        }
      ]
    },
    {
      "cell_type": "code",
      "metadata": {
        "id": "QU54BptM1u6I",
        "colab_type": "code",
        "colab": {}
      },
      "source": [
        "eyal_generate(lm,best_n,num_chars)"
      ],
      "execution_count": 0,
      "outputs": []
    },
    {
      "cell_type": "code",
      "metadata": {
        "id": "bXu7z1qZ74dB",
        "colab_type": "code",
        "colab": {}
      },
      "source": [
        "eyal_generate(lm,best_n,num_chars)"
      ],
      "execution_count": 0,
      "outputs": []
    },
    {
      "cell_type": "code",
      "metadata": {
        "id": "HwzKLc4R75Ph",
        "colab_type": "code",
        "colab": {}
      },
      "source": [
        "eyal_generate(lm,best_n,num_chars)"
      ],
      "execution_count": 0,
      "outputs": []
    },
    {
      "cell_type": "markdown",
      "metadata": {
        "id": "SZnleYE677RU",
        "colab_type": "text"
      },
      "source": [
        "###Observations\n",
        "We can see that the LM's dist. can 'understand' the structure of recipes. That is, understand a syntax similar to [amount] [unit] [ingredient] [activity]* \n",
        "\n",
        "We also observe that some ingredient typically occure in the beginning, such as Oregano, we have no idea why it happens.\n",
        "\n",
        "The model doesn't do indendation like the dataset. It doesn't finish some sentences.\n",
        "\n",
        "Although the model is for characters, we can see that it's not completely gibberish, there are many real English words that appear semantically in the vocabullary of recipes, as we expected.\n"
      ]
    },
    {
      "cell_type": "code",
      "metadata": {
        "id": "wlcNOpk987Vw",
        "colab_type": "code",
        "colab": {}
      },
      "source": [
        ""
      ],
      "execution_count": 0,
      "outputs": []
    },
    {
      "cell_type": "markdown",
      "metadata": {
        "id": "aMvIhgoW9tC_",
        "colab_type": "text"
      },
      "source": [
        "#Part 2"
      ]
    },
    {
      "cell_type": "code",
      "metadata": {
        "id": "mCc1F4Lv_1uW",
        "colab_type": "code",
        "colab": {}
      },
      "source": [
        "import matplotlib.pyplot as plt\n",
        "import matplotlib\n",
        "import math\n",
        "import numpy as np\n",
        "import scipy.linalg"
      ],
      "execution_count": 0,
      "outputs": []
    },
    {
      "cell_type": "code",
      "metadata": {
        "id": "LrHiKNiP9wz0",
        "colab_type": "code",
        "colab": {}
      },
      "source": [
        "def generateDataset(N, f, sigma):\n",
        "  mu = 0.0\n",
        "  vf = np.vectorize(f)\n",
        "  x = np.linspace(0,1,num=N)\n",
        "  noise = np.random.normal(loc=mu,scale=sigma,size=N)\n",
        "  t = vf(x) + noise\n",
        "  return (x,t)"
      ],
      "execution_count": 0,
      "outputs": []
    },
    {
      "cell_type": "code",
      "metadata": {
        "id": "wbNxOkBS-4by",
        "colab_type": "code",
        "colab": {
          "base_uri": "https://localhost:8080/",
          "height": 282
        },
        "outputId": "ff7c0f53-d0ba-4d34-fe7a-07c891610d3d"
      },
      "source": [
        "#sanity check\n",
        "f = lambda x : math.sin(math.pi * 2 * x)\n",
        "plt.plot(*generateDataset(10,f,0.1))"
      ],
      "execution_count": 93,
      "outputs": [
        {
          "output_type": "execute_result",
          "data": {
            "text/plain": [
              "[<matplotlib.lines.Line2D at 0x7fcc881d2748>]"
            ]
          },
          "metadata": {
            "tags": []
          },
          "execution_count": 93
        },
        {
          "output_type": "display_data",
          "data": {
            "image/png": "[encoded data removed]",
            "text/plain": [
              "<Figure size 432x288 with 1 Axes>"
            ]
          },
          "metadata": {
            "tags": []
          }
        }
      ]
    },
    {
      "cell_type": "code",
      "metadata": {
        "id": "85QvFT9V_cmG",
        "colab_type": "code",
        "colab": {}
      },
      "source": [
        "def OptimizeLS(x, t, M):                      \n",
        "  phi = np.vander(x,M+1,True)\n",
        "  prod = np.dot(phi.T, phi)             \n",
        "  i = np.linalg.inv(prod)\n",
        "  m = np.dot(i, phi.T)\n",
        "  w = np.dot(m, t)\n",
        "  return w                                                              "
      ],
      "execution_count": 0,
      "outputs": []
    },
    {
      "cell_type": "code",
      "metadata": {
        "id": "-4VESXd4j6u9",
        "colab_type": "code",
        "colab": {
          "base_uri": "https://localhost:8080/",
          "height": 85
        },
        "outputId": "75dd3969-6a27-4a3b-87b1-5e0ae350faba"
      },
      "source": [
        "np.vander([1,2,3,4],3,True)"
      ],
      "execution_count": 115,
      "outputs": [
        {
          "output_type": "execute_result",
          "data": {
            "text/plain": [
              "array([[ 1,  1,  1],\n",
              "       [ 1,  2,  4],\n",
              "       [ 1,  3,  9],\n",
              "       [ 1,  4, 16]])"
            ]
          },
          "metadata": {
            "tags": []
          },
          "execution_count": 115
        }
      ]
    },
    {
      "cell_type": "code",
      "metadata": {
        "id": "pYNkVAzeQcsN",
        "colab_type": "code",
        "colab": {
          "base_uri": "https://localhost:8080/",
          "height": 282
        },
        "outputId": "0ee17030-8758-47dd-922b-addeb06dbbf6"
      },
      "source": [
        "(x,t) = generateDataset(10,f,0.1)\n",
        "plt.plot(x,t)"
      ],
      "execution_count": 79,
      "outputs": [
        {
          "output_type": "execute_result",
          "data": {
            "text/plain": [
              "[<matplotlib.lines.Line2D at 0x7fcc8c862198>]"
            ]
          },
          "metadata": {
            "tags": []
          },
          "execution_count": 79
        },
        {
          "output_type": "display_data",
          "data": {
            "image/png": "[encoded data removed]",
            "text/plain": [
              "<Figure size 432x288 with 1 Axes>"
            ]
          },
          "metadata": {
            "tags": []
          }
        }
      ]
    },
    {
      "cell_type": "code",
      "metadata": {
        "id": "-_TiMtzM_zbW",
        "colab_type": "code",
        "colab": {
          "base_uri": "https://localhost:8080/",
          "height": 282
        },
        "outputId": "44cb8222-72c5-4c43-f656-366bf3dc3f5e"
      },
      "source": [
        "N = 10\n",
        "get_y = lambda w,M: lambda x: sum([w[i]*(x**i) for i in range(M+1)])\n",
        "(x,t) = generateDataset(N,f,0.03)\n",
        "plt.plot(x,t)\n",
        "for M in [1,3,5,10]:\n",
        "  w = OptimizeLS(x,t,M)\n",
        "  y_hat = np.vectorize(get_y(w,M))\n",
        "  plt.plot(x,y_hat(x))\n",
        "plt.legend(['sin(2*pi*x)+noise','y_hat_1','y_hat_3','y_hat_5','y_hat_10'])"
      ],
      "execution_count": 128,
      "outputs": [
        {
          "output_type": "execute_result",
          "data": {
            "text/plain": [
              "<matplotlib.legend.Legend at 0x7fcc87f09f28>"
            ]
          },
          "metadata": {
            "tags": []
          },
          "execution_count": 128
        },
        {
          "output_type": "display_data",
          "data": {
            "image/png": "[encoded data removed]",
            "text/plain": [
              "<Figure size 432x288 with 1 Axes>"
            ]
          },
          "metadata": {
            "tags": []
          }
        }
      ]
    },
    {
      "cell_type": "code",
      "metadata": {
        "id": "SVW6mFTHHmSY",
        "colab_type": "code",
        "colab": {}
      },
      "source": [
        ""
      ],
      "execution_count": 0,
      "outputs": []
    }
  ]
}