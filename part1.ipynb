{
  "nbformat": 4,
  "nbformat_minor": 0,
  "metadata": {
    "kernelspec": {
      "display_name": "Python 3",
      "language": "python",
      "name": "python3"
    },
    "language_info": {
      "codemirror_mode": {
        "name": "ipython",
        "version": 3
      },
      "file_extension": ".py",
      "mimetype": "text/x-python",
      "name": "python",
      "nbconvert_exporter": "python",
      "pygments_lexer": "ipython3",
      "version": "3.5.3+"
    },
    "colab": {
      "name": "part1.ipynb",
      "provenance": []
    }
  },
  "cells": [
    {
      "cell_type": "code",
      "metadata": {
        "id": "qWh_5rVkOyMl",
        "colab_type": "code",
        "colab": {}
      },
      "source": [
        "import numpy as np\n",
        "import nltk\n",
        "import justext\n",
        "import re\n",
        "from nltk.tokenize import sent_tokenize\n",
        "import collections"
      ],
      "execution_count": 0,
      "outputs": []
    },
    {
      "cell_type": "code",
      "metadata": {
        "id": "CmdROlJJNtLk",
        "colab_type": "code",
        "outputId": "b5182f66-37eb-4107-8b77-f90e291092fd",
        "colab": {
          "base_uri": "https://localhost:8080/",
          "height": 119
        }
      },
      "source": [
        "!pip install justext"
      ],
      "execution_count": 5,
      "outputs": [
        {
          "output_type": "stream",
          "text": [
            "Collecting justext\n",
            "\u001b[?25l  Downloading https://files.pythonhosted.org/packages/6c/5f/c7b909b4b864ebcacfac23ce2f6f01a50c53628787cc14b3c06f79464cab/jusText-2.2.0-py2.py3-none-any.whl (860kB)\n",
            "\r\u001b[K     |▍                               | 10kB 19.4MB/s eta 0:00:01\r\u001b[K     |▊                               | 20kB 1.7MB/s eta 0:00:01\r\u001b[K     |█▏                              | 30kB 2.5MB/s eta 0:00:01\r\u001b[K     |█▌                              | 40kB 1.6MB/s eta 0:00:01\r\u001b[K     |██                              | 51kB 2.0MB/s eta 0:00:01\r\u001b[K     |██▎                             | 61kB 2.4MB/s eta 0:00:01\r\u001b[K     |██▋                             | 71kB 2.8MB/s eta 0:00:01\r\u001b[K     |███                             | 81kB 3.2MB/s eta 0:00:01\r\u001b[K     |███▍                            | 92kB 3.6MB/s eta 0:00:01\r\u001b[K     |███▉                            | 102kB 2.7MB/s eta 0:00:01\r\u001b[K     |████▏                           | 112kB 2.7MB/s eta 0:00:01\r\u001b[K     |████▋                           | 122kB 2.7MB/s eta 0:00:01\r\u001b[K     |█████                           | 133kB 2.7MB/s eta 0:00:01\r\u001b[K     |█████▎                          | 143kB 2.7MB/s eta 0:00:01\r\u001b[K     |█████▊                          | 153kB 2.7MB/s eta 0:00:01\r\u001b[K     |██████                          | 163kB 2.7MB/s eta 0:00:01\r\u001b[K     |██████▌                         | 174kB 2.7MB/s eta 0:00:01\r\u001b[K     |██████▉                         | 184kB 2.7MB/s eta 0:00:01\r\u001b[K     |███████▎                        | 194kB 2.7MB/s eta 0:00:01\r\u001b[K     |███████▋                        | 204kB 2.7MB/s eta 0:00:01\r\u001b[K     |████████                        | 215kB 2.7MB/s eta 0:00:01\r\u001b[K     |████████▍                       | 225kB 2.7MB/s eta 0:00:01\r\u001b[K     |████████▊                       | 235kB 2.7MB/s eta 0:00:01\r\u001b[K     |█████████▏                      | 245kB 2.7MB/s eta 0:00:01\r\u001b[K     |█████████▌                      | 256kB 2.7MB/s eta 0:00:01\r\u001b[K     |██████████                      | 266kB 2.7MB/s eta 0:00:01\r\u001b[K     |██████████▎                     | 276kB 2.7MB/s eta 0:00:01\r\u001b[K     |██████████▋                     | 286kB 2.7MB/s eta 0:00:01\r\u001b[K     |███████████                     | 296kB 2.7MB/s eta 0:00:01\r\u001b[K     |███████████▍                    | 307kB 2.7MB/s eta 0:00:01\r\u001b[K     |███████████▉                    | 317kB 2.7MB/s eta 0:00:01\r\u001b[K     |████████████▏                   | 327kB 2.7MB/s eta 0:00:01\r\u001b[K     |████████████▋                   | 337kB 2.7MB/s eta 0:00:01\r\u001b[K     |█████████████                   | 348kB 2.7MB/s eta 0:00:01\r\u001b[K     |█████████████▎                  | 358kB 2.7MB/s eta 0:00:01\r\u001b[K     |█████████████▊                  | 368kB 2.7MB/s eta 0:00:01\r\u001b[K     |██████████████                  | 378kB 2.7MB/s eta 0:00:01\r\u001b[K     |██████████████▌                 | 389kB 2.7MB/s eta 0:00:01\r\u001b[K     |██████████████▉                 | 399kB 2.7MB/s eta 0:00:01\r\u001b[K     |███████████████▎                | 409kB 2.7MB/s eta 0:00:01\r\u001b[K     |███████████████▋                | 419kB 2.7MB/s eta 0:00:01\r\u001b[K     |████████████████                | 430kB 2.7MB/s eta 0:00:01\r\u001b[K     |████████████████▍               | 440kB 2.7MB/s eta 0:00:01\r\u001b[K     |████████████████▊               | 450kB 2.7MB/s eta 0:00:01\r\u001b[K     |█████████████████▏              | 460kB 2.7MB/s eta 0:00:01\r\u001b[K     |█████████████████▌              | 471kB 2.7MB/s eta 0:00:01\r\u001b[K     |██████████████████              | 481kB 2.7MB/s eta 0:00:01\r\u001b[K     |██████████████████▎             | 491kB 2.7MB/s eta 0:00:01\r\u001b[K     |██████████████████▋             | 501kB 2.7MB/s eta 0:00:01\r\u001b[K     |███████████████████             | 512kB 2.7MB/s eta 0:00:01\r\u001b[K     |███████████████████▍            | 522kB 2.7MB/s eta 0:00:01\r\u001b[K     |███████████████████▉            | 532kB 2.7MB/s eta 0:00:01\r\u001b[K     |████████████████████▏           | 542kB 2.7MB/s eta 0:00:01\r\u001b[K     |████████████████████▋           | 552kB 2.7MB/s eta 0:00:01\r\u001b[K     |█████████████████████           | 563kB 2.7MB/s eta 0:00:01\r\u001b[K     |█████████████████████▎          | 573kB 2.7MB/s eta 0:00:01\r\u001b[K     |█████████████████████▊          | 583kB 2.7MB/s eta 0:00:01\r\u001b[K     |██████████████████████          | 593kB 2.7MB/s eta 0:00:01\r\u001b[K     |██████████████████████▌         | 604kB 2.7MB/s eta 0:00:01\r\u001b[K     |██████████████████████▉         | 614kB 2.7MB/s eta 0:00:01\r\u001b[K     |███████████████████████▏        | 624kB 2.7MB/s eta 0:00:01\r\u001b[K     |███████████████████████▋        | 634kB 2.7MB/s eta 0:00:01\r\u001b[K     |████████████████████████        | 645kB 2.7MB/s eta 0:00:01\r\u001b[K     |████████████████████████▍       | 655kB 2.7MB/s eta 0:00:01\r\u001b[K     |████████████████████████▊       | 665kB 2.7MB/s eta 0:00:01\r\u001b[K     |█████████████████████████▏      | 675kB 2.7MB/s eta 0:00:01\r\u001b[K     |█████████████████████████▌      | 686kB 2.7MB/s eta 0:00:01\r\u001b[K     |█████████████████████████▉      | 696kB 2.7MB/s eta 0:00:01\r\u001b[K     |██████████████████████████▎     | 706kB 2.7MB/s eta 0:00:01\r\u001b[K     |██████████████████████████▋     | 716kB 2.7MB/s eta 0:00:01\r\u001b[K     |███████████████████████████     | 727kB 2.7MB/s eta 0:00:01\r\u001b[K     |███████████████████████████▍    | 737kB 2.7MB/s eta 0:00:01\r\u001b[K     |███████████████████████████▉    | 747kB 2.7MB/s eta 0:00:01\r\u001b[K     |████████████████████████████▏   | 757kB 2.7MB/s eta 0:00:01\r\u001b[K     |████████████████████████████▌   | 768kB 2.7MB/s eta 0:00:01\r\u001b[K     |█████████████████████████████   | 778kB 2.7MB/s eta 0:00:01\r\u001b[K     |█████████████████████████████▎  | 788kB 2.7MB/s eta 0:00:01\r\u001b[K     |█████████████████████████████▊  | 798kB 2.7MB/s eta 0:00:01\r\u001b[K     |██████████████████████████████  | 808kB 2.7MB/s eta 0:00:01\r\u001b[K     |██████████████████████████████▌ | 819kB 2.7MB/s eta 0:00:01\r\u001b[K     |██████████████████████████████▉ | 829kB 2.7MB/s eta 0:00:01\r\u001b[K     |███████████████████████████████▏| 839kB 2.7MB/s eta 0:00:01\r\u001b[K     |███████████████████████████████▋| 849kB 2.7MB/s eta 0:00:01\r\u001b[K     |████████████████████████████████| 860kB 2.7MB/s eta 0:00:01\r\u001b[K     |████████████████████████████████| 870kB 2.7MB/s \n",
            "\u001b[?25hRequirement already satisfied: lxml>=2.2.4 in /usr/local/lib/python3.6/dist-packages (from justext) (4.2.6)\n",
            "Installing collected packages: justext\n",
            "Successfully installed justext-2.2.0\n"
          ],
          "name": "stdout"
        }
      ]
    },
    {
      "cell_type": "code",
      "metadata": {
        "id": "IQ8c3aHnlDx5",
        "colab_type": "code",
        "outputId": "ad20832d-8bca-41ae-9299-4dae82d4b5e8",
        "colab": {
          "base_uri": "https://localhost:8080/",
          "height": 68
        }
      },
      "source": [
        "nltk.download('punkt')"
      ],
      "execution_count": 7,
      "outputs": [
        {
          "output_type": "stream",
          "text": [
            "[nltk_data] Downloading package punkt to /root/nltk_data...\n",
            "[nltk_data]   Unzipping tokenizers/punkt.zip.\n"
          ],
          "name": "stdout"
        },
        {
          "output_type": "execute_result",
          "data": {
            "text/plain": [
              "True"
            ]
          },
          "metadata": {
            "tags": []
          },
          "execution_count": 7
        }
      ]
    },
    {
      "cell_type": "code",
      "metadata": {
        "id": "-eDGnqmpRq9z",
        "colab_type": "code",
        "colab": {}
      },
      "source": [
        "def top_txt(txt,top):\n",
        "  most_common_words = [word for (word,f) in collections.Counter(txt).most_common(top)]\n",
        "  return ''.join([word if word in most_common_words or word=='N' else '<unk>' for word in txt])\n",
        "def replace_numbers(txt):\n",
        "  #TODO:: Check replace numbers RegEx.\n",
        "  num_format = re.compile(\"^[\\-]?[1-9][0-9]*\\.?[0-9]+$\")\n",
        "  return \"\".join([word if not re.match(num_format,word) else 'N' for word in txt])\n",
        "def remove_punc(txt):\n",
        "  return \"\".join([c for c in txt if c not in '.,:;?!@#*&%$<>'])\n",
        "def tokenize(txt):\n",
        "  return \" \".join(nltk.word_tokenize(txt))\n",
        "def segment_sents(txt):\n",
        "  return \"\\n\".join(nltk.sent_tokenize(txt))\n",
        "def lower_txt(txt):\n",
        "  return txt.lower()"
      ],
      "execution_count": 0,
      "outputs": []
    },
    {
      "cell_type": "code",
      "metadata": {
        "id": "P2KptyAiOyM4",
        "colab_type": "code",
        "colab": {}
      },
      "source": [
        "def ptb_preprocess(filenames, top=10000):\n",
        "  for filename in filenames:\n",
        "    with open(filename) as myfile:\n",
        "      \n",
        "\n",
        "      txt_file =  myfile.read().replace('\\n',' ')\n",
        "      paragraphs = justext.justext(txt_file, justext.get_stoplist(\"English\"))\n",
        "      raw_text = \"\\n\".join([p.text for p in paragraphs if not p.is_boilerplate])\n",
        "\n",
        "\n",
        "      raw_text = lower_txt(raw_text)\n",
        "      raw_text = segment_sents(raw_text)\n",
        "      raw_text = remove_punc(raw_text)\n",
        "      raw_text = tokenize(raw_text)\n",
        "      raw_text = replace_numbers(raw_text)\n",
        "      raw_text = top_txt(raw_text,top)\n",
        "\n",
        "      # raw_text = top_txt(raw_text,top)\n",
        "      # raw_text = replace_numbers(raw_text)\n",
        "      # raw_text = tokenize(raw_text)\n",
        "      # raw_text = remove_punc(raw_text)\n",
        "      # raw_text = segment_sents(raw_text)\n",
        "      # raw_text = lower_txt(raw_text)\n",
        "      print(raw_text[:200])\n",
        "      \n",
        "      \n",
        "      new_filename = filename+'.out'\n",
        "      print(new_filename)\n",
        "      with open(new_filename, \"w\") as text_file:\n",
        "        text_file.write(raw_text)\n",
        "\n"
      ],
      "execution_count": 0,
      "outputs": []
    },
    {
      "cell_type": "code",
      "metadata": {
        "id": "XNWfFRBhQCz2",
        "colab_type": "code",
        "outputId": "11650e42-a209-42a9-8139-6013191485eb",
        "colab": {
          "base_uri": "https://localhost:8080/",
          "height": 204
        }
      },
      "source": [
        "!wget https://cs.stanford.edu/people/karpathy/char-rnn/shakespeare_input.txt "
      ],
      "execution_count": 2,
      "outputs": [
        {
          "output_type": "stream",
          "text": [
            "--2019-12-15 18:46:50--  https://cs.stanford.edu/people/karpathy/char-rnn/shakespeare_input.txt\n",
            "Resolving cs.stanford.edu (cs.stanford.edu)... 171.64.64.64\n",
            "Connecting to cs.stanford.edu (cs.stanford.edu)|171.64.64.64|:443... connected.\n",
            "HTTP request sent, awaiting response... 200 OK\n",
            "Length: 4573338 (4.4M) [text/plain]\n",
            "Saving to: ‘shakespeare_input.txt’\n",
            "\n",
            "shakespeare_input.t 100%[===================>]   4.36M  4.03MB/s    in 1.1s    \n",
            "\n",
            "2019-12-15 18:46:52 (4.03 MB/s) - ‘shakespeare_input.txt’ saved [4573338/4573338]\n",
            "\n"
          ],
          "name": "stdout"
        }
      ]
    },
    {
      "cell_type": "code",
      "metadata": {
        "id": "xA0v-AQMafMQ",
        "colab_type": "code",
        "colab": {
          "base_uri": "https://localhost:8080/",
          "height": 34
        },
        "outputId": "9650391f-6485-416c-b261-710e971384ac"
      },
      "source": [
        "a = '''Gal.\n",
        " Nitzan.\n",
        "'''\n",
        "nltk.sent_tokenize(a)\n",
        "# segment_sents(a)"
      ],
      "execution_count": 116,
      "outputs": [
        {
          "output_type": "execute_result",
          "data": {
            "text/plain": [
              "['Gal.', 'Nitzan.']"
            ]
          },
          "metadata": {
            "tags": []
          },
          "execution_count": 116
        }
      ]
    },
    {
      "cell_type": "code",
      "metadata": {
        "id": "KhQV8Zdek-V2",
        "colab_type": "code",
        "outputId": "8ad3a5f5-d6ba-4a13-c47d-b004df9ea07b",
        "colab": {
          "base_uri": "https://localhost:8080/",
          "height": 105
        }
      },
      "source": [
        "!ls\n",
        "ptb_preprocess(['shakespeare_input.txt'])\n",
        "\n"
      ],
      "execution_count": 123,
      "outputs": [
        {
          "output_type": "stream",
          "text": [
            "sample_data\t       shakespeare_input.txt.out  simple-examples.tgz\n",
            "shakespeare_input.txt  simple-examples\n",
            "first citizen before we proceed any further hear me speak all speak speak first citizen you are all resolved rather to die than to famish all resolved resolved first citizen first you know caius marci\n",
            "shakespeare_input.txt.out\n"
          ],
          "name": "stdout"
        }
      ]
    },
    {
      "cell_type": "code",
      "metadata": {
        "id": "oCWLqF_iHp-C",
        "colab_type": "code",
        "colab": {}
      },
      "source": [
        "!head shakespeare_input.txt.out"
      ],
      "execution_count": 0,
      "outputs": []
    },
    {
      "cell_type": "markdown",
      "metadata": {
        "id": "Ts1OWn9yE5hx",
        "colab_type": "text"
      },
      "source": [
        "1.1.1 Discussion: According to the descripted above if we apply the conventions of Penn Treebank, we shall give independent meaning for every word after the tokenization. Also, if we use character-level language model, we shall get another definition - morphological, because now we care about structure of the word."
      ]
    },
    {
      "cell_type": "markdown",
      "metadata": {
        "id": "B1twpt96H3Ja",
        "colab_type": "text"
      },
      "source": [
        "1.1.2 :"
      ]
    },
    {
      "cell_type": "code",
      "metadata": {
        "id": "kl1uQDDlH55T",
        "colab_type": "code",
        "colab": {
          "base_uri": "https://localhost:8080/",
          "height": 204
        },
        "outputId": "65635820-5d18-40cd-bc20-566a7c5174d6"
      },
      "source": [
        "!wget http://www.fit.vutbr.cz/~imikolov/rnnlm/simple-examples.tgz"
      ],
      "execution_count": 65,
      "outputs": [
        {
          "output_type": "stream",
          "text": [
            "--2019-12-15 20:00:20--  http://www.fit.vutbr.cz/~imikolov/rnnlm/simple-examples.tgz\n",
            "Resolving www.fit.vutbr.cz (www.fit.vutbr.cz)... 147.229.9.23, 2001:67c:1220:809::93e5:917\n",
            "Connecting to www.fit.vutbr.cz (www.fit.vutbr.cz)|147.229.9.23|:80... connected.\n",
            "HTTP request sent, awaiting response... 200 OK\n",
            "Length: 34869662 (33M) [application/x-gtar]\n",
            "Saving to: ‘simple-examples.tgz’\n",
            "\n",
            "simple-examples.tgz 100%[===================>]  33.25M  1.70MB/s    in 23s     \n",
            "\n",
            "2019-12-15 20:00:45 (1.46 MB/s) - ‘simple-examples.tgz’ saved [34869662/34869662]\n",
            "\n"
          ],
          "name": "stdout"
        }
      ]
    },
    {
      "cell_type": "code",
      "metadata": {
        "id": "Z6YijgNaJbW3",
        "colab_type": "code",
        "colab": {}
      },
      "source": [
        "!tar zxvf simple-examples.tgz"
      ],
      "execution_count": 0,
      "outputs": []
    },
    {
      "cell_type": "code",
      "metadata": {
        "id": "MtE4q-qJJcqE",
        "colab_type": "code",
        "colab": {
          "base_uri": "https://localhost:8080/",
          "height": 51
        },
        "outputId": "0ec91fbd-f9f3-43ac-e734-910428ba42de"
      },
      "source": [
        "\n",
        "!ls simple-examples/data\n",
        "!mv ./simple-examples/data ../data"
      ],
      "execution_count": 75,
      "outputs": [
        {
          "output_type": "stream",
          "text": [
            "ptb.char.test.txt   ptb.char.valid.txt\tptb.train.txt  README\n",
            "ptb.char.train.txt  ptb.test.txt\tptb.valid.txt\n"
          ],
          "name": "stdout"
        }
      ]
    },
    {
      "cell_type": "code",
      "metadata": {
        "id": "i7l4VjDUKLOi",
        "colab_type": "code",
        "colab": {
          "base_uri": "https://localhost:8080/",
          "height": 51
        },
        "outputId": "72e66cff-27fe-4adc-f739-40cabad8256d"
      },
      "source": [
        "!ls ../data"
      ],
      "execution_count": 77,
      "outputs": [
        {
          "output_type": "stream",
          "text": [
            "ptb.char.test.txt   ptb.char.valid.txt\tptb.train.txt  README\n",
            "ptb.char.train.txt  ptb.test.txt\tptb.valid.txt\n"
          ],
          "name": "stdout"
        }
      ]
    },
    {
      "cell_type": "code",
      "metadata": {
        "id": "BY9AIs-GKmGV",
        "colab_type": "code",
        "colab": {}
      },
      "source": [
        "import os\n",
        "\n",
        "dir = '../data'\n",
        "for filename in os.listddir(dir):\n",
        "  \n",
        "  raw_text,freq_words, tokenized_words, tokenized_sents = ptb_preprocess(['shakespeare_input.txt'])"
      ],
      "execution_count": 0,
      "outputs": []
    }
  ]
}